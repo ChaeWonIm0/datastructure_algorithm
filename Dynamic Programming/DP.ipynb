{
 "cells": [
  {
   "attachments": {},
   "cell_type": "markdown",
   "metadata": {},
   "source": [
    "### DP Dynamic Programming\n",
    "#### 다이나믹 프로그래밍_의미\n",
    "> 완전탐색의 진화버전\n",
    "\n",
    "* 정답이 될 가능성이 있는 모든 해결책을 체계적으로 탐색하는 방식\n"
   ]
  },
  {
   "attachments": {},
   "cell_type": "markdown",
   "metadata": {},
   "source": [
    "#### 사고\n",
    "> 우리는 복잡한 문제를 어떻게 보아야 하는가\n",
    "1. subproblem 원래 문제를 작은 문제로 나눕니다.\n",
    "2. overlapping subproblem remove 중복 계산해야 하는 하위 문제는 무시합니다.\n",
    "3. memoization. dp table 앞에서와 같이 한번 계산한 결과는 memory에 저장해서 두번 다시 계산하지 않도록 합니다.\n",
    "4. optimal substructure 부분 문제에서 구한 최적의 답을 합쳐서 원래 문제에 대한 답을 구합니다."
   ]
  },
  {
   "attachments": {},
   "cell_type": "markdown",
   "metadata": {},
   "source": [
    "##### 피보나치 수열의 경우"
   ]
  },
  {
   "attachments": {},
   "cell_type": "markdown",
   "metadata": {},
   "source": [
    "* 접근방법\n",
    "1. 복잡한 문제를 작은 문제로 나눈다\n",
    "2. 작은 문제에 대한 답을 계산한다(찾는다)\n",
    "3. 작은 문제의 답으로 복잡한 문제에 대한 답을 계산한다."
   ]
  },
  {
   "cell_type": "code",
   "execution_count": 2,
   "metadata": {},
   "outputs": [],
   "source": [
    "# 완전 탐색의 방식\n",
    "def fibo(end_num):\n",
    "    sum_1 = sum_2 = 1\n",
    "    num = 0\n",
    "    for _ in range(end_num):\n",
    "        sum_3 = sum_1+sum_2\n",
    "        num += 1\n",
    "        if end_num == num:\n",
    "            return sum_3\n",
    "        sum_1 = sum_2\n",
    "        sum_2 = sum_3"
   ]
  },
  {
   "attachments": {},
   "cell_type": "markdown",
   "metadata": {},
   "source": [
    "#### 시간복잡도 $O(2^n)$"
   ]
  },
  {
   "cell_type": "code",
   "execution_count": 3,
   "metadata": {},
   "outputs": [],
   "source": [
    "# 재귀식 이용\n",
    "def fibo(n):\n",
    "    if n == 1 or n == 2:\n",
    "        return 1\n",
    "    else:\n",
    "        n = n+n\n",
    "    return fibo(n-1)+fibo(n-2) # recurrence relation"
   ]
  },
  {
   "attachments": {},
   "cell_type": "markdown",
   "metadata": {},
   "source": [
    "##### 완전탐색 대신 재귀 사용 = DP\n",
    "중복 하위 문제 > memoization\n",
    "+ \"Top- down\"\n",
    "> 시간복잡도 : $O(n0)$"
   ]
  },
  {
   "cell_type": "code",
   "execution_count": 4,
   "metadata": {},
   "outputs": [],
   "source": [
    "memo = {}\n",
    "def fibo(n):\n",
    "    if n == 1 or n == 2:\n",
    "        return 1\n",
    "    if n not in memo:\n",
    "        memo[n] = fibo(n-1) + fibo(n-2)\n",
    "    return memo[n]"
   ]
  },
  {
   "cell_type": "code",
   "execution_count": 5,
   "metadata": {},
   "outputs": [
    {
     "data": {
      "text/plain": [
       "55"
      ]
     },
     "execution_count": 5,
     "metadata": {},
     "output_type": "execute_result"
    }
   ],
   "source": [
    "fibo(10)"
   ]
  },
  {
   "attachments": {},
   "cell_type": "markdown",
   "metadata": {},
   "source": [
    "#### Top-down과 Bottom-up 방식"
   ]
  },
  {
   "cell_type": "code",
   "execution_count": 6,
   "metadata": {},
   "outputs": [],
   "source": [
    "# top down\n",
    "memo = {}\n",
    "def fibo(n):\n",
    "    if n == 1 or n ==2:\n",
    "        return 1\n",
    "    if n not in memo:\n",
    "        memo[n] = fibo(n-1) + fibo(n-2)\n",
    "    return memo[n]"
   ]
  },
  {
   "attachments": {},
   "cell_type": "markdown",
   "metadata": {},
   "source": [
    "## 정리\n",
    "\n",
    "### 초기 접근은 완전탐색\n",
    "> DP는 무엇으로 구성되었나\n",
    "----\n",
    "1. Overlapping subproblem\n",
    "    - 문제를 더 작은 subproblem으로 분할\n",
    "    - 그 subproblem을 더 작은 subproblem으로 분할할 수 있습니다\n",
    "    - subproblem의 계산값을 재사용\n",
    "----\n",
    "2. Optimal substructure\n",
    "    - subproblem의 최적 해법으로 원래 문제의 최적 해법을 구합니다.\n",
    "    - 일반화 추론의 방식"
   ]
  },
  {
   "attachments": {},
   "cell_type": "markdown",
   "metadata": {},
   "source": [
    "1. Top-down > 재귀문\n",
    " - memoization\n",
    "2. Bottom-up > 반복문\n",
    " - DP table\n",
    "\n",
    "> 그러나, 둘다 근본은 같습니다."
   ]
  },
  {
   "attachments": {},
   "cell_type": "markdown",
   "metadata": {},
   "source": [
    "> 문제 적용\n",
    "- ~의 최소비용은?\n",
    "- ~의 최대이익은?\n",
    "- 방법의 갯수는?\n",
    "- 특정 지점에 도달할 수 있는가요?\n",
    "- ~를 하는 방식의 수는?\n",
    "\n",
    "* 미래의 계산이 아닌 앞선 계산결과에 영향받을 때\n",
    "\n",
    "구현방법\n",
    "1. 일단 재귀함수로 비효율적인 완전탐색 코드 작성\n",
    "2. 중복되는 하위 문제의 계산 결과를 저장\n",
    "3. top-down > bottom-up으로 코드 전환을 고려함"
   ]
  },
  {
   "attachments": {},
   "cell_type": "markdown",
   "metadata": {},
   "source": []
  }
 ],
 "metadata": {
  "kernelspec": {
   "display_name": "Python 3",
   "language": "python",
   "name": "python3"
  },
  "language_info": {
   "codemirror_mode": {
    "name": "ipython",
    "version": 3
   },
   "file_extension": ".py",
   "mimetype": "text/x-python",
   "name": "python",
   "nbconvert_exporter": "python",
   "pygments_lexer": "ipython3",
   "version": "3.10.11"
  },
  "orig_nbformat": 4
 },
 "nbformat": 4,
 "nbformat_minor": 2
}
