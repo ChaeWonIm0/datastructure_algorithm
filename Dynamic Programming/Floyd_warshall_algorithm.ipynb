{
 "cells": [
  {
   "attachments": {},
   "cell_type": "markdown",
   "metadata": {},
   "source": [
    "### 플로이드 워셜 알고리즘\n",
    "\n",
    "1. cost에 minus도 있을 경우에 사용해요\n",
    "\n",
    "2. 모든 노드에서 다른 모든 노드까지의 최단 경로 계산\n",
    "\n",
    "3. 2차원 테이블에 최단 거리 정보를 저장합니다"
   ]
  },
  {
   "attachments": {},
   "cell_type": "markdown",
   "metadata": {},
   "source": [
    "> 다익스트라보다 쉬울 순 있지만, 시간복잡도가 O(n^30)이 걸립니다."
   ]
  },
  {
   "attachments": {},
   "cell_type": "markdown",
   "metadata": {},
   "source": [
    "- 각 단계마다 특정한 노드 k를 거쳐가는 경우를 확인\n",
    "\n",
    "### 점화식\n",
    "\n",
    "$ D_{ab} = min(D_{ab}, D_{ak} + D_{kb}) $\n",
    "\n",
    "a에서 b로 가는 최단거리보다 a에서 k를 거쳐 b로 가는것이 더 짧은지 검사합니다"
   ]
  },
  {
   "attachments": {},
   "cell_type": "markdown",
   "metadata": {},
   "source": [
    "다익스트라와 유사한 부분 = inf 사용\n",
    "> 다익스트라와 다른 부분 = 2차원 리스트로 그래프를 만들고, inf로 초기화해요"
   ]
  },
  {
   "cell_type": "code",
   "execution_count": 135,
   "metadata": {},
   "outputs": [
    {
     "name": "stdout",
     "output_type": "stream",
     "text": [
      "0 1 \n",
      "무한 0 \n"
     ]
    }
   ],
   "source": [
    "# infinite 생성용\n",
    "import math\n",
    "\n",
    "# 노드의 갯수 입력\n",
    "n = int(input())\n",
    "m = int(input())\n",
    "\n",
    "# 2차원 그래프로 만들고 inf로 초기화\n",
    "graph = [[math.inf] *(n+1) for _ in range(n+1)]\n",
    "\n",
    "# 자기 자신으로 가는 cost는 0으로 초기화\n",
    "for a in range(1, n+1):\n",
    "    for b in range(1, n+1):\n",
    "        if a==b:\n",
    "            graph[a][b] = 0\n",
    "\n",
    "# 각 간선에 대한 정보를 입력받아 그 값으로 초기화\n",
    "for _ in range(m):\n",
    "    # A에서 B로 가는 비용은 C로 설정\n",
    "    a,b,c = map(int, input().split())\n",
    "    graph[a][b] = c\n",
    "\n",
    "# 점화식에 따라 해당 알고리즘 수행\n",
    "for k in range(1, n+1):\n",
    "    for a in range(1, n+1):\n",
    "        for b in range(1, n+1):\n",
    "            graph[a][b] = min(graph[a][b], graph[a][k] + graph[k][b])\n",
    "\n",
    "# 수행된 결과를 출력\n",
    "for a in range(1, n+1):\n",
    "    for b in range(1, n+1):\n",
    "        # 도달할 수 없는 경우 inf 출력\n",
    "        if graph[a][b] == math.inf:\n",
    "            print(\"무한\", end=\" \")\n",
    "        else:\n",
    "            print(graph[a][b], end= \" \")\n",
    "    print()\n"
   ]
  },
  {
   "cell_type": "code",
   "execution_count": 77,
   "metadata": {},
   "outputs": [
    {
     "name": "stdout",
     "output_type": "stream",
     "text": [
      "     *\n",
      "    ***\n",
      "   *****\n",
      "  *******\n",
      " *********\n",
      "  *******\n",
      "   *****\n",
      "    ***\n",
      "     *\n"
     ]
    }
   ],
   "source": []
  },
  {
   "cell_type": "code",
   "execution_count": 59,
   "metadata": {},
   "outputs": [
    {
     "name": "stdout",
     "output_type": "stream",
     "text": [
      "10\n",
      "9\n",
      "8\n",
      "7\n",
      "6\n",
      "5\n",
      "4\n",
      "3\n",
      "2\n",
      "1\n"
     ]
    }
   ],
   "source": []
  },
  {
   "cell_type": "code",
   "execution_count": 132,
   "metadata": {},
   "outputs": [
    {
     "name": "stdout",
     "output_type": "stream",
     "text": [
      "    *\n",
      "   ***\n",
      "  *****\n",
      " *******\n",
      "*********\n",
      " *******\n",
      "  *****\n",
      "   ***\n",
      "    *\n"
     ]
    }
   ],
   "source": []
  },
  {
   "cell_type": "code",
   "execution_count": 114,
   "metadata": {},
   "outputs": [
    {
     "data": {
      "text/plain": [
       "[1, 3, 5, 7, 9, 7, 5, 3, 1]"
      ]
     },
     "execution_count": 114,
     "metadata": {},
     "output_type": "execute_result"
    }
   ],
   "source": []
  },
  {
   "cell_type": "code",
   "execution_count": null,
   "metadata": {},
   "outputs": [],
   "source": []
  }
 ],
 "metadata": {
  "kernelspec": {
   "display_name": "Python 3",
   "language": "python",
   "name": "python3"
  },
  "language_info": {
   "codemirror_mode": {
    "name": "ipython",
    "version": 3
   },
   "file_extension": ".py",
   "mimetype": "text/x-python",
   "name": "python",
   "nbconvert_exporter": "python",
   "pygments_lexer": "ipython3",
   "version": "3.10.11"
  },
  "orig_nbformat": 4
 },
 "nbformat": 4,
 "nbformat_minor": 2
}
