{
 "cells": [
  {
   "attachments": {},
   "cell_type": "markdown",
   "metadata": {},
   "source": [
    "### Min cost climbing stairs\n",
    "\n",
    "* 대상이 계단을 올라가는데, 한 번 올라갈 때마다 1 step or 2 step씩 올라갈 수 있다. 문제에서 정수형 배열 cost가 주어지는데, cost[i]는 i번째 계단을 밟았을 때 지불해야 하는 비용이다.\n",
    "* 처음 시작은 index = 0 또는 index = 1 중 한 곳에서 시작할 수 있다.\n",
    "* 이 계단의 꼭대기에 도착하기 위해 지불해야 하는 비용의 최솟값을 반환하라.\n",
    "\n",
    "> 제약조건\n",
    "* $ 2<= cost.length <= 1000\n",
    "* $ 0 <= cost.[i] <= 999"
   ]
  },
  {
   "cell_type": "code",
   "execution_count": 3,
   "metadata": {},
   "outputs": [],
   "source": [
    "cost = [10, 15, 20]\n",
    "output = 15"
   ]
  },
  {
   "cell_type": "code",
   "execution_count": 35,
   "metadata": {},
   "outputs": [],
   "source": [
    "# O(n^2)도 가능\n",
    "# 문제에서 기본 제공\n",
    "from collections import deque\n",
    "class Solution:\n",
    "    def minCostClimbingStairs(self, cost: list[int]) -> int:\n",
    "        length = len(cost)\n",
    "        current_visited = 0\n",
    "        q = deque()\n",
    "        len_list = []\n",
    "        len_list2 = []\n",
    "        for v in range(length):\n",
    "            if v % 2 ==1:\n",
    "                len_list.append(v) # 짝수 리스트(0포함)\n",
    "        for v in range(length):\n",
    "            if v % 2 ==0:\n",
    "                len_list2.append(v) # 홀수 리스트\n",
    "        for i in cost:\n",
    "            q.append(i)\n",
    "        while q:\n",
    "            for i in len_list:\n",
    "                for j in len_list2:\n",
    "                    if cost[j] < cost[i]:\n",
    "                        current_visited = cost[j]\n",
    "                    if cost[i] < cost[j]:\n",
    "                        current_visited = cost[i]\n",
    "                    current_visited += current_visited\n",
    "            return current_visited"
   ]
  },
  {
   "cell_type": "code",
   "execution_count": 36,
   "metadata": {},
   "outputs": [
    {
     "data": {
      "text/plain": [
       "40"
      ]
     },
     "execution_count": 36,
     "metadata": {},
     "output_type": "execute_result"
    }
   ],
   "source": [
    "S = Solution\n",
    "cost = [10, 15, 20]\n",
    "S.minCostClimbingStairs(S, cost)"
   ]
  },
  {
   "cell_type": "code",
   "execution_count": 19,
   "metadata": {},
   "outputs": [
    {
     "data": {
      "text/plain": [
       "[None, None, None]"
      ]
     },
     "execution_count": 19,
     "metadata": {},
     "output_type": "execute_result"
    }
   ],
   "source": [
    "cost = [10, 15, 20]\n",
    "q = deque()\n",
    "q = [q.append([i]) for i in cost]\n",
    "q"
   ]
  },
  {
   "cell_type": "code",
   "execution_count": 30,
   "metadata": {},
   "outputs": [
    {
     "data": {
      "text/plain": [
       "1"
      ]
     },
     "execution_count": 30,
     "metadata": {},
     "output_type": "execute_result"
    }
   ],
   "source": [
    "v = 0\n",
    "if v %2 == 0:\n",
    "    v=v +1\n",
    "v"
   ]
  },
  {
   "cell_type": "code",
   "execution_count": null,
   "metadata": {},
   "outputs": [],
   "source": []
  }
 ],
 "metadata": {
  "kernelspec": {
   "display_name": "Python 3",
   "language": "python",
   "name": "python3"
  },
  "language_info": {
   "codemirror_mode": {
    "name": "ipython",
    "version": 3
   },
   "file_extension": ".py",
   "mimetype": "text/x-python",
   "name": "python",
   "nbconvert_exporter": "python",
   "pygments_lexer": "ipython3",
   "version": "3.10.11"
  },
  "orig_nbformat": 4
 },
 "nbformat": 4,
 "nbformat_minor": 2
}
