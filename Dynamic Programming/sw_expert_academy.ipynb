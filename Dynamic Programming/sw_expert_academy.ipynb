{
 "cells": [
  {
   "attachments": {},
   "cell_type": "markdown",
   "metadata": {},
   "source": [
    "#### 시간복잡도 : 2^7까지\n",
    "#### $ O(n^3)$ 도 무방할듯"
   ]
  },
  {
   "attachments": {},
   "cell_type": "markdown",
   "metadata": {},
   "source": [
    "집합 U ={0,1,…,2^K-1} 에 대해서, 비지 않은 부분 집합 A⊆U가 다음 조건을 만족하면 A를 좋은 집합이라 부른다. \n",
    "\n",
    "- 임의의 x,y∈A에 대해 둘의 bitwise-and, bitwise-or 값이 모두 A에 존재한다.\n",
    "\n",
    " \n",
    "\n",
    "   N개의 서로 다른 정수가 주어질 때, 이 정수들을 모두 포함하는 좋은 집합의 개수를 출력하라. \n",
    "\n",
    " \n",
    "\n",
    "[입력]\n",
    "\n",
    "첫 번째 줄에 테스트 케이스의 수 TC가 주어진다. 이후 TC개의 테스트 케이스가 새 줄로 구분되어 주어진다. 각 테스트 케이스는 다음과 같이 구성되었다. \n",
    "\n",
    "- 첫 번째 줄에 두 정수 K,N이 주어진다. (1≤K≤7,0≤N≤2^K)\n",
    "\n",
    " \n",
    "\n",
    "- 두 번째 줄에 서로 다른 N개의 정수 a_1,a_2,…,a_N이 주어진다. (0≤a_i<2^K)\n",
    "\n",
    " \n",
    "\n",
    "[출력]\n",
    "\n",
    "각 테스트 케이스에 대해 문제의 정답을 출력하라"
   ]
  },
  {
   "cell_type": "code",
   "execution_count": 2,
   "metadata": {},
   "outputs": [],
   "source": [
    "# 기본 제공코드는 임의 수정해도 관계 없습니다. 단, 입출력 포맷 주의\n",
    "# 아래 표준 입출력 예제 필요시 참고하세요.\n",
    "\n",
    "# 표준 입력 예제\n",
    "'''\n",
    "a = int(input())                        정수형 변수 1개 입력 받는 예제\n",
    "b, c = map(int, input().split())        정수형 변수 2개 입력 받는 예제 \n",
    "d = float(input())                      실수형 변수 1개 입력 받는 예제\n",
    "e, f, g = map(float, input().split())   실수형 변수 3개 입력 받는 예제\n",
    "h = input()                             문자열 변수 1개 입력 받는 예제\n",
    "'''\n",
    "\n",
    "# 표준 출력 예제\n",
    "'''\n",
    "a, b = 6, 3\n",
    "c, d, e = 1.0, 2.5, 3.4\n",
    "f = \"ABC\"\n",
    "print(a)                                정수형 변수 1개 출력하는 예제\n",
    "print(b, end = \" \")                     줄바꿈 하지 않고 정수형 변수와 공백을 출력하는 예제\n",
    "print(c, d, e)                          실수형 변수 3개 출력하는 예제\n",
    "print(f)                                문자열 1개 출력하는 예제\n",
    "'''\n",
    "\n",
    "\n",
    "\n",
    "\n",
    "'''\n",
    "      아래의 구문은 input.txt 를 read only 형식으로 연 후,\n",
    "      앞으로 표준 입력(키보드) 대신 input.txt 파일로부터 읽어오겠다는 의미의 코드입니다.\n",
    "      여러분이 작성한 코드를 테스트 할 때, 편의를 위해서 input.txt에 입력을 저장한 후,\n",
    "      아래 구문을 이용하면 이후 입력을 수행할 때 표준 입력 대신 파일로부터 입력을 받아올 수 있습니다.\n",
    "\n",
    "      따라서 테스트를 수행할 때에는 아래 주석을 지우고 이 구문을 사용하셔도 좋습니다.\n",
    "      아래 구문을 사용하기 위해서는 import sys가 필요합니다.\n",
    "\n",
    "      단, 채점을 위해 코드를 제출하실 때에는 반드시 아래 구문을 지우거나 주석 처리 하셔야 합니다.\n",
    "'''\n",
    "import sys\n",
    "# sys.stdin = open(\"input.txt\", \"r\")\n",
    "\n",
    "T = int(input())\n",
    "# 여러개의 테스트 케이스가 주어지므로, 각각을 처리합니다.\n",
    "from collections import deque\n",
    "memo = deque()\n",
    "for test_case in range(1, T + 1):\n",
    "    memo.append()\n"
   ]
  },
  {
   "cell_type": "code",
   "execution_count": null,
   "metadata": {},
   "outputs": [],
   "source": []
  }
 ],
 "metadata": {
  "kernelspec": {
   "display_name": "Python 3",
   "language": "python",
   "name": "python3"
  },
  "language_info": {
   "codemirror_mode": {
    "name": "ipython",
    "version": 3
   },
   "file_extension": ".py",
   "mimetype": "text/x-python",
   "name": "python",
   "nbconvert_exporter": "python",
   "pygments_lexer": "ipython3",
   "version": "3.10.11"
  },
  "orig_nbformat": 4
 },
 "nbformat": 4,
 "nbformat_minor": 2
}
