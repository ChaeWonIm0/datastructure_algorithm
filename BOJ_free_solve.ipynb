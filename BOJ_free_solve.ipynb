{
 "cells": [
  {
   "cell_type": "code",
   "execution_count": 1,
   "metadata": {},
   "outputs": [],
   "source": [
    "# 문제 10988 \n",
    "# 팰린드롬인지 확인하기\n",
    "\n",
    "## https://www.acmicpc.net/problem/10988"
   ]
  },
  {
   "cell_type": "code",
   "execution_count": null,
   "metadata": {},
   "outputs": [],
   "source": [
    "word = str(input())\n",
    "\n",
    "def read_right(word):\n",
    "    wordlist = []\n",
    "    for i in word:\n",
    "        wordlist.append(i)\n",
    "    return wordlist.pop[0]\n",
    "def read_left(word):\n",
    "    wordlist = []\n",
    "    for j in range(len(word)-1, -1,  -1):\n",
    "        wordlist.append(j)\n",
    "    return wordlist.pop[0]\n",
    "\n",
    "read_right(word)"
   ]
  },
  {
   "cell_type": "code",
   "execution_count": 17,
   "metadata": {},
   "outputs": [
    {
     "name": "stdout",
     "output_type": "stream",
     "text": [
      "0\n"
     ]
    }
   ],
   "source": [
    "word = str(input())\n",
    "\n",
    "if len(word) ==1:\n",
    "    print(1)\n",
    "def readright(word):\n",
    "    word_list = []\n",
    "    for i in word:\n",
    "        word_list.append(i)\n",
    "    return word_list.pop(0)\n",
    "def readleft(word):\n",
    "    word_list = []\n",
    "    for i in range(len(word)-1, -1, -1):\n",
    "        word_list.append(list(word)[i])\n",
    "    return word_list.pop(0)\n",
    "def solution(word):\n",
    "    for i in range(len(word)):\n",
    "        if readright(word) == readleft(word):\n",
    "            continue\n",
    "        else:\n",
    "            return print(0)\n",
    "    return print(1)\n",
    "solution(word)"
   ]
  },
  {
   "cell_type": "code",
   "execution_count": 13,
   "metadata": {},
   "outputs": [
    {
     "name": "stdout",
     "output_type": "stream",
     "text": [
      "k\n",
      "c\n",
      "a\n",
      "b\n"
     ]
    }
   ],
   "source": [
    "word = str(input())\n",
    "\n",
    "for i in range(len(word)-1, -1, -1):\n",
    "    print(list(word)[i])"
   ]
  },
  {
   "cell_type": "code",
   "execution_count": 12,
   "metadata": {},
   "outputs": [
    {
     "name": "stdout",
     "output_type": "stream",
     "text": [
      "1\n"
     ]
    }
   ],
   "source": [
    "word = list()"
   ]
  },
  {
   "cell_type": "code",
   "execution_count": 31,
   "metadata": {},
   "outputs": [
    {
     "name": "stdout",
     "output_type": "stream",
     "text": [
      "3.319672\n"
     ]
    }
   ],
   "source": [
    "def solution(n=None):\n",
    "    score_list = []\n",
    "    grade_list = []\n",
    "    for i in range(20):\n",
    "        subject_word, score, grade = map(str, input().split())\n",
    "        score = float(score)\n",
    "        if grade != 'P':\n",
    "            if grade == 'A+':\n",
    "                grade_list.append(4.5*score)\n",
    "            elif grade == 'A0':\n",
    "                grade_list.append(4.0*score)\n",
    "            elif grade == 'B+':\n",
    "                grade_list.append(3.5*score)\n",
    "            elif grade == 'B0':\n",
    "                grade_list.append(3.0*score)\n",
    "            elif grade == 'C+':\n",
    "                grade_list.append(2.5*score)\n",
    "            elif grade == 'C0':\n",
    "                grade_list.append(2.0*score)\n",
    "            elif grade == 'D+':\n",
    "                grade_list.append(1.5*score)\n",
    "            elif grade == 'D0':\n",
    "                grade_list.append(1.0*score)\n",
    "            elif grade == 'F':\n",
    "                grade_list.append(0.0*score)\n",
    "            score_list.append(score)\n",
    "    answer = f\"{sum(grade_list) / sum(score_list):.6f}\"\n",
    "    return print(answer)\n",
    "solution()"
   ]
  },
  {
   "cell_type": "code",
   "execution_count": 27,
   "metadata": {},
   "outputs": [
    {
     "name": "stdout",
     "output_type": "stream",
     "text": [
      "4.166667\n"
     ]
    }
   ],
   "source": [
    "print(answer)"
   ]
  }
 ],
 "metadata": {
  "kernelspec": {
   "display_name": "py3_8_5",
   "language": "python",
   "name": "py3_8_5"
  },
  "language_info": {
   "codemirror_mode": {
    "name": "ipython",
    "version": 3
   },
   "file_extension": ".py",
   "mimetype": "text/x-python",
   "name": "python",
   "nbconvert_exporter": "python",
   "pygments_lexer": "ipython3",
   "version": "3.10.8"
  },
  "orig_nbformat": 4
 },
 "nbformat": 4,
 "nbformat_minor": 2
}
