{
 "cells": [
  {
   "cell_type": "code",
   "execution_count": 1,
   "metadata": {},
   "outputs": [],
   "source": [
    "# 문제 10988 \n",
    "# 팰린드롬인지 확인하기\n",
    "\n",
    "## https://www.acmicpc.net/problem/10988"
   ]
  },
  {
   "cell_type": "code",
   "execution_count": null,
   "metadata": {},
   "outputs": [],
   "source": [
    "word = str(input())\n",
    "\n",
    "def read_right(word):\n",
    "    wordlist = []\n",
    "    for i in word:\n",
    "        wordlist.append(i)\n",
    "    return wordlist.pop[0]\n",
    "def read_left(word):\n",
    "    wordlist = []\n",
    "    for j in range(len(word)-1, -1,  -1):\n",
    "        wordlist.append(j)\n",
    "    return wordlist.pop[0]\n",
    "\n",
    "read_right(word)"
   ]
  },
  {
   "cell_type": "code",
   "execution_count": 17,
   "metadata": {},
   "outputs": [
    {
     "name": "stdout",
     "output_type": "stream",
     "text": [
      "0\n"
     ]
    }
   ],
   "source": [
    "word = str(input())\n",
    "\n",
    "if len(word) ==1:\n",
    "    print(1)\n",
    "def readright(word):\n",
    "    word_list = []\n",
    "    for i in word:\n",
    "        word_list.append(i)\n",
    "    return word_list.pop(0)\n",
    "def readleft(word):\n",
    "    word_list = []\n",
    "    for i in range(len(word)-1, -1, -1):\n",
    "        word_list.append(list(word)[i])\n",
    "    return word_list.pop(0)\n",
    "def solution(word):\n",
    "    for i in range(len(word)):\n",
    "        if readright(word) == readleft(word):\n",
    "            continue\n",
    "        else:\n",
    "            return print(0)\n",
    "    return print(1)\n",
    "solution(word)"
   ]
  },
  {
   "cell_type": "code",
   "execution_count": 13,
   "metadata": {},
   "outputs": [
    {
     "name": "stdout",
     "output_type": "stream",
     "text": [
      "k\n",
      "c\n",
      "a\n",
      "b\n"
     ]
    }
   ],
   "source": [
    "word = str(input())\n",
    "\n",
    "for i in range(len(word)-1, -1, -1):\n",
    "    print(list(word)[i])"
   ]
  },
  {
   "cell_type": "code",
   "execution_count": 12,
   "metadata": {},
   "outputs": [
    {
     "name": "stdout",
     "output_type": "stream",
     "text": [
      "1\n"
     ]
    }
   ],
   "source": [
    "word = list()"
   ]
  },
  {
   "cell_type": "code",
   "execution_count": 1,
   "metadata": {},
   "outputs": [
    {
     "ename": "ValueError",
     "evalue": "could not convert string to float: 'a'",
     "output_type": "error",
     "traceback": [
      "\u001b[1;31m---------------------------------------------------------------------------\u001b[0m",
      "\u001b[1;31mValueError\u001b[0m                                Traceback (most recent call last)",
      "Cell \u001b[1;32mIn[1], line 29\u001b[0m\n\u001b[0;32m     27\u001b[0m     answer \u001b[39m=\u001b[39m \u001b[39mf\u001b[39m\u001b[39m\"\u001b[39m\u001b[39m{\u001b[39;00m\u001b[39msum\u001b[39m(grade_list)\u001b[39m \u001b[39m\u001b[39m/\u001b[39m\u001b[39m \u001b[39m\u001b[39msum\u001b[39m(score_list)\u001b[39m:\u001b[39;00m\u001b[39m.6f\u001b[39m\u001b[39m}\u001b[39;00m\u001b[39m\"\u001b[39m\n\u001b[0;32m     28\u001b[0m     \u001b[39mreturn\u001b[39;00m \u001b[39mprint\u001b[39m(answer)\n\u001b[1;32m---> 29\u001b[0m solution()\n",
      "Cell \u001b[1;32mIn[1], line 6\u001b[0m, in \u001b[0;36msolution\u001b[1;34m(n)\u001b[0m\n\u001b[0;32m      4\u001b[0m \u001b[39mfor\u001b[39;00m i \u001b[39min\u001b[39;00m \u001b[39mrange\u001b[39m(\u001b[39m20\u001b[39m):\n\u001b[0;32m      5\u001b[0m     subject_word, score, grade \u001b[39m=\u001b[39m \u001b[39mmap\u001b[39m(\u001b[39mstr\u001b[39m, \u001b[39minput\u001b[39m()\u001b[39m.\u001b[39msplit())\n\u001b[1;32m----> 6\u001b[0m     score \u001b[39m=\u001b[39m \u001b[39mfloat\u001b[39;49m(score)\n\u001b[0;32m      7\u001b[0m     \u001b[39mif\u001b[39;00m grade \u001b[39m!=\u001b[39m \u001b[39m'\u001b[39m\u001b[39mP\u001b[39m\u001b[39m'\u001b[39m:\n\u001b[0;32m      8\u001b[0m         \u001b[39mif\u001b[39;00m grade \u001b[39m==\u001b[39m \u001b[39m'\u001b[39m\u001b[39mA+\u001b[39m\u001b[39m'\u001b[39m:\n",
      "\u001b[1;31mValueError\u001b[0m: could not convert string to float: 'a'"
     ]
    }
   ],
   "source": [
    "def solution(n=None):\n",
    "    score_list = []\n",
    "    grade_list = []\n",
    "    for i in range(20):\n",
    "        subject_word, score, grade = map(str, input().split())\n",
    "        score = float(score)\n",
    "        if grade != 'P':\n",
    "            if grade == 'A+':\n",
    "                grade_list.append(4.5*score)\n",
    "            elif grade == 'A0':\n",
    "                grade_list.append(4.0*score)\n",
    "            elif grade == 'B+':\n",
    "                grade_list.append(3.5*score)\n",
    "            elif grade == 'B0':\n",
    "                grade_list.append(3.0*score)\n",
    "            elif grade == 'C+':\n",
    "                grade_list.append(2.5*score)\n",
    "            elif grade == 'C0':\n",
    "                grade_list.append(2.0*score)\n",
    "            elif grade == 'D+':\n",
    "                grade_list.append(1.5*score)\n",
    "            elif grade == 'D0':\n",
    "                grade_list.append(1.0*score)\n",
    "            elif grade == 'F':\n",
    "                grade_list.append(0.0*score)\n",
    "            score_list.append(score)\n",
    "    answer = f\"{sum(grade_list) / sum(score_list):.6f}\"\n",
    "    return print(answer)\n",
    "solution()"
   ]
  },
  {
   "cell_type": "code",
   "execution_count": 27,
   "metadata": {},
   "outputs": [
    {
     "name": "stdout",
     "output_type": "stream",
     "text": [
      "4.166667\n"
     ]
    }
   ],
   "source": [
    "print(answer)"
   ]
  },
  {
   "cell_type": "markdown",
   "metadata": {},
   "source": [
    "#### 백준 10798 문제\n",
    "\n",
    "https://www.acmicpc.net/problem/10798\n",
    "\n",
    "세로읽기"
   ]
  },
  {
   "cell_type": "code",
   "execution_count": null,
   "metadata": {},
   "outputs": [],
   "source": [
    "input = ABCDE\n",
    "abcde\n",
    "01234\n",
    "FGHIJ\n",
    "fghij"
   ]
  },
  {
   "cell_type": "code",
   "execution_count": null,
   "metadata": {},
   "outputs": [],
   "source": [
    "output = Aa0FfBb1GgCc2HhDd3IiEe4Jj"
   ]
  },
  {
   "cell_type": "code",
   "execution_count": null,
   "metadata": {},
   "outputs": [],
   "source": [
    "list_1 = []\n",
    "list_2 = []\n",
    "list_3 = []\n",
    "list_4 = []\n",
    "list_5 = []\n",
    "for i in range(5):\n",
    "    a,b,c,d,e = map(str, input())\n",
    "    if a is not False:\n",
    "        list_1.append(a)\n",
    "    list_2.append(b)\n",
    "    list_3.append(c)\n",
    "    list_4.append(d)\n",
    "    list_5.append(e)\n",
    "\n",
    "    "
   ]
  },
  {
   "cell_type": "code",
   "execution_count": 1,
   "metadata": {},
   "outputs": [],
   "source": [
    "# 내 해결방식\n",
    "alphabet_list = [[] for i in range(0, 16)]\n",
    "\n",
    "for i in range(5):\n",
    "  string = str(input())\n",
    "  for j in range(len(string)):\n",
    "    alphabet_list[j].append(string[j])\n",
    "str_list = []\n",
    "for i in alphabet_list:\n",
    "  if i == []:\n",
    "    break\n",
    "  else:\n",
    "    str_list.append(\"\".join(i))\n",
    "print(\"\".join(str_list))"
   ]
  },
  {
   "cell_type": "code",
   "execution_count": 7,
   "metadata": {},
   "outputs": [
    {
     "name": "stdout",
     "output_type": "stream",
     "text": [
      "161\n"
     ]
    }
   ],
   "source": [
    "x, y, w, h = map(int, input().split())\n",
    "\n",
    "def solution(x,y,w,h):\n",
    "    min_x = w - x\n",
    "    min_y = h - y\n",
    "\n",
    "    return print(min(min_x, min_y, x, y))\n",
    "solution(x,y,w,h)"
   ]
  },
  {
   "cell_type": "code",
   "execution_count": null,
   "metadata": {},
   "outputs": [],
   "source": []
  }
 ],
 "metadata": {
  "kernelspec": {
   "display_name": "py3_8_5",
   "language": "python",
   "name": "py3_8_5"
  },
  "language_info": {
   "codemirror_mode": {
    "name": "ipython",
    "version": 3
   },
   "file_extension": ".py",
   "mimetype": "text/x-python",
   "name": "python",
   "nbconvert_exporter": "python",
   "pygments_lexer": "ipython3",
   "version": "3.10.8"
  },
  "orig_nbformat": 4
 },
 "nbformat": 4,
 "nbformat_minor": 2
}
