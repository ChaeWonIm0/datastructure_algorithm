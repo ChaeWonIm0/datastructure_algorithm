{
 "cells": [
  {
   "attachments": {},
   "cell_type": "markdown",
   "metadata": {},
   "source": [
    "#### 1이 될 때 까지\n",
    "\n",
    "* 어떠한 수 N이 1이 될때까지 다음의 두 과정 중 하나를 반복적으로 선택하여 수행하려고 합니다. 단, 두번째 연산은 N이 K로 나누어 떨어질 때만 선택할 수 있습니다.\n",
    "1. N에서 1을 뺍니다\n",
    "2. N을 K로 나눕니다.\n",
    "* ex) N = 17, K = 4일 때, 1번의 과정을 1회 수행하면 N =16이 됩니다.\n",
    "이후에 2번의 과정을 2번 수행하면 N = 1이 됩니다. 결과적으로 이 경우 전체 과정을 실행한 횟수는 3이 됩니다. 이는 N을 1로 만드는 최소 횟수입니다.\n",
    "* N과 K가 주어질 때, N이 1이 될때까지 수행해야 하는 최소 횟수를 구하는 코드를 작성하시오."
   ]
  },
  {
   "attachments": {},
   "cell_type": "markdown",
   "metadata": {},
   "source": [
    "> 제한조건 없음. 정해진 함수 없음"
   ]
  },
  {
   "cell_type": "code",
   "execution_count": null,
   "metadata": {},
   "outputs": [],
   "source": [
    "n = 25\n",
    "k = 3\n",
    "output = 3\n",
    "n/ k"
   ]
  },
  {
   "cell_type": "code",
   "execution_count": null,
   "metadata": {},
   "outputs": [],
   "source": [
    "# 내 풀이\n",
    "%time\n",
    "def until_one(n, k):\n",
    "    count = 0\n",
    "    if n == 1:\n",
    "        count = 1\n",
    "        return 1\n",
    "    while n > 1:\n",
    "        if n % k != 0:\n",
    "            n = n-1\n",
    "            count += 1\n",
    "        if n % k == 0:\n",
    "            n = n / k\n",
    "            count += 1\n",
    "    return count\n",
    "until_one(n,k)\n"
   ]
  },
  {
   "cell_type": "code",
   "execution_count": null,
   "metadata": {},
   "outputs": [],
   "source": [
    "# 또다른 해결안\n",
    "%time\n",
    "result = 0\n",
    "while True:\n",
    "    target = (n//k) * k\n",
    "    result += (n - target)\n",
    "    n = target\n",
    "    if n < k:\n",
    "        break\n",
    "    result += 1\n",
    "    n //= k\n",
    "result += (n-1)\n",
    "result"
   ]
  },
  {
   "attachments": {},
   "cell_type": "markdown",
   "metadata": {},
   "source": [
    "> 2번문제\n",
    "\n",
    "### 곱하기 혹은 더하기\n",
    "\n",
    "* 각 자리가 숫자 (0~9) 로만 이루어진 문자열 s가 주어졌을 때 왼쪽부터 오른쪽으로 하나씩 모든 숫자를 확인하며 숫자 사이에 'x' 혹은 '+' 을 넣어서 만들어질 수 있는 가장 큰 수를 구하시오.\n",
    "* 단 + 보다 x를 먼저 계산하지 않고, 모든 연산은 왼쪽부터 순서대로 이루어집니다.\n"
   ]
  },
  {
   "cell_type": "code",
   "execution_count": null,
   "metadata": {},
   "outputs": [],
   "source": [
    "# 첫째줄에 여러개의 숫자로 구성된 하나의 문자열 s가 주어집니다.\n",
    "# input = 02984\n",
    "output = 576\n",
    "n = 123"
   ]
  },
  {
   "cell_type": "code",
   "execution_count": null,
   "metadata": {},
   "outputs": [],
   "source": [
    "# 제한조건\n",
    "1 <= S <= 20"
   ]
  },
  {
   "cell_type": "code",
   "execution_count": null,
   "metadata": {},
   "outputs": [],
   "source": [
    "list(str(n))"
   ]
  },
  {
   "cell_type": "code",
   "execution_count": null,
   "metadata": {},
   "outputs": [],
   "source": [
    "from collections import deque\n",
    "def multiple_plut(s):\n",
    "    max_number = 0\n",
    "    q = deque()\n",
    "    q.append(list(str(s)))\n",
    "    while q:\n",
    "        current_node = q.popleft(-1)\n",
    "    return max_number"
   ]
  },
  {
   "cell_type": "code",
   "execution_count": null,
   "metadata": {},
   "outputs": [],
   "source": [
    "# 내 풀이\n",
    "from collections import deque\n",
    "def multiple_plus(n):\n",
    "    q = deque()\n",
    "    for i in str(n):\n",
    "        q.append(int(i))\n",
    "    q.append(0)    \n",
    "    while len(q) < 1:\n",
    "        current_node = q.popleft()\n",
    "        if len(q) > 0:\n",
    "            next_node = q.popleft()       \n",
    "            multiple_num = current_node * next_node\n",
    "            plus_num = current_node + next_node\n",
    "        if multiple_num > plus_num:\n",
    "            q.insert(0, multiple_num)\n",
    "        else:\n",
    "            q.insert(0, plus_num)\n",
    "        \n",
    "    return q\n",
    "n = 2984\n",
    "multiple_plus(n)"
   ]
  },
  {
   "cell_type": "code",
   "execution_count": 50,
   "metadata": {},
   "outputs": [],
   "source": [
    "# 내 풀이\n",
    "from collections import deque\n",
    "def multiple_plus(n):\n",
    "    q = []\n",
    "    for i in str(n):\n",
    "        q.append(int(i))\n",
    "    for i in q:\n",
    "        for j in q[i:]:\n",
    "            if i <= 1 or j <= 1:\n",
    "                num = i + j\n",
    "                q.append(num)\n",
    "            else:\n",
    "                num = i * j\n",
    "                q.append(num)\n",
    "    return sum(q)\n",
    "    "
   ]
  },
  {
   "cell_type": "code",
   "execution_count": 51,
   "metadata": {},
   "outputs": [
    {
     "data": {
      "text/plain": [
       "143"
      ]
     },
     "execution_count": 51,
     "metadata": {},
     "output_type": "execute_result"
    }
   ],
   "source": [
    "multiple_plus(2984)"
   ]
  },
  {
   "cell_type": "code",
   "execution_count": 31,
   "metadata": {},
   "outputs": [
    {
     "name": "stdout",
     "output_type": "stream",
     "text": [
      "1 2\n",
      "1 3\n",
      "1 4\n",
      "1 5\n",
      "2 3\n",
      "2 4\n",
      "2 5\n",
      "3 4\n",
      "3 5\n",
      "4 5\n"
     ]
    }
   ],
   "source": [
    "a = [1,2,3,4,5]\n",
    "i = 2\n",
    "for i in a:\n",
    "    for j in a[i:]:\n",
    "        print(i,j)"
   ]
  },
  {
   "cell_type": "code",
   "execution_count": 73,
   "metadata": {},
   "outputs": [],
   "source": [
    "#해결안\n",
    "def multiple_plus(data):\n",
    "    data = list(str(data))\n",
    "    result = data[0]\n",
    "    for i in range(1, len(data)):\n",
    "        num = data[i]\n",
    "        result = int(result)\n",
    "        if result <= 1 or int(num) <= 1:\n",
    "            result += int(num)\n",
    "        else:\n",
    "            result *= int(num)\n",
    "    return result\n"
   ]
  },
  {
   "cell_type": "code",
   "execution_count": 74,
   "metadata": {},
   "outputs": [
    {
     "data": {
      "text/plain": [
       "576"
      ]
     },
     "execution_count": 74,
     "metadata": {},
     "output_type": "execute_result"
    }
   ],
   "source": [
    "p = 2984\n",
    "multiple_plus(p)"
   ]
  },
  {
   "cell_type": "code",
   "execution_count": 87,
   "metadata": {},
   "outputs": [],
   "source": [
    "def multiple_plus(n):\n",
    "    n = str(n)\n",
    "    result = n[0]\n",
    "    for i in range(1, len(n)):\n",
    "        num = n[i]\n",
    "        result = int(result)\n",
    "        num = int(num)\n",
    "        if result <= 1 or num <= 1:\n",
    "            result += num\n",
    "        else:\n",
    "            result *= num\n",
    "    \n",
    "    return result"
   ]
  },
  {
   "cell_type": "code",
   "execution_count": 88,
   "metadata": {},
   "outputs": [
    {
     "data": {
      "text/plain": [
       "576"
      ]
     },
     "execution_count": 88,
     "metadata": {},
     "output_type": "execute_result"
    }
   ],
   "source": [
    "multiple_plus(2984)"
   ]
  },
  {
   "attachments": {},
   "cell_type": "markdown",
   "metadata": {},
   "source": [
    "> 문제 3 모험가 길드\n",
    "\n",
    "* 한 마을에 모험가가 n명 있습니다. 모험가 길드에서는 n명의 모험가를 대상으로 '공포도'를 측정했는데, 공포도가 높은 모험가는 쉽게 공포를 느껴 위험상황에서는 제대로 대처할 능력이 떨어집니다.\n",
    "* 모험가 길드장인 동빈이는 모험가 그룹을 안전하게 구성하고자 공포도가 X인 모험가는 반드시 X명 이상으로 구성한 모험가 그룹에 참여해야 여행을 떠날수 있도록 규정했습니다.\n",
    "* n명의 모험가에 대한 정보가 주어졌을 때, 여행을 떠날 수 있는 그룹 수의 최댓값을 구하는 방법을 작성하시오."
   ]
  },
  {
   "cell_type": "code",
   "execution_count": null,
   "metadata": {},
   "outputs": [],
   "source": []
  }
 ],
 "metadata": {
  "kernelspec": {
   "display_name": "Python 3",
   "language": "python",
   "name": "python3"
  },
  "language_info": {
   "codemirror_mode": {
    "name": "ipython",
    "version": 3
   },
   "file_extension": ".py",
   "mimetype": "text/x-python",
   "name": "python",
   "nbconvert_exporter": "python",
   "pygments_lexer": "ipython3",
   "version": "3.10.11"
  },
  "orig_nbformat": 4
 },
 "nbformat": 4,
 "nbformat_minor": 2
}
