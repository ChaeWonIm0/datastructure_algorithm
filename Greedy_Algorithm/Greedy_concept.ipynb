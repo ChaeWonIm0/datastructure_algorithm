{
 "cells": [
  {
   "attachments": {},
   "cell_type": "markdown",
   "metadata": {},
   "source": [
    "### 그리디 알고리즘\n",
    "\n",
    "> 탐욕법\n",
    "\n",
    "\"현재 상황\"에서 \"당장 좋은 것\"을 고르는 방식\n",
    "\n",
    "다익스트라 최단경로와 쿠르스카 알고리즘처럼 이론적인 부분도 중요"
   ]
  },
  {
   "attachments": {},
   "cell_type": "markdown",
   "metadata": {},
   "source": [
    "* 문제에서 요구하는 최적의 해를 구할 수 있는지?\n"
   ]
  },
  {
   "cell_type": "code",
   "execution_count": 2,
   "metadata": {},
   "outputs": [],
   "source": [
    "class node(object):\n",
    "    def __init__(self, value = 0, prev=None, next = None):\n",
    "        self.value = value\n",
    "        self.prev = prev\n",
    "        self.next= next\n",
    "class tree:\n",
    "    def __init__(self, value, prev, next):\n",
    "        self.value = value"
   ]
  },
  {
   "attachments": {},
   "cell_type": "markdown",
   "metadata": {},
   "source": [
    "* 일반적인 상황에서 그리디 알고리즘이 최적의 해를 보장할 수 없는 가짓수도 있기 때문에, 테스트 상황에서는 그리디로 얻은 해가 최적의 해가 되는 상황에서, 이를 추론할 수 있어야 풀리도록 출제됨"
   ]
  },
  {
   "attachments": {},
   "cell_type": "markdown",
   "metadata": {},
   "source": [
    "> 거스름돈 문제\n",
    "\n",
    "카운터에는 거스름돈으로 사용할 500원, 100원, 50원, 10원 짜리 동전이 무한히 존재한다고 가정합니다. 손님에게 거슬러 주어야 할 돈이 N원일 때, 거슬러 주어야할 동전의 최소 갯수를 구하시오. 단, 거슬러줘야 할 돈 N은 항상 10의 배수 입니다."
   ]
  },
  {
   "cell_type": "code",
   "execution_count": 10,
   "metadata": {},
   "outputs": [],
   "source": [
    "# N = 1260일 경우\n",
    "# 함수\n",
    "def change_money(N):\n",
    "    count = 0\n",
    "    array = [500, 100, 50, 10]\n",
    "    for coin in array:\n",
    "        count += N // coin\n",
    "        N %= coin\n",
    "    return count\n"
   ]
  },
  {
   "cell_type": "code",
   "execution_count": 11,
   "metadata": {},
   "outputs": [
    {
     "data": {
      "text/plain": [
       "6"
      ]
     },
     "execution_count": 11,
     "metadata": {},
     "output_type": "execute_result"
    }
   ],
   "source": [
    "n = 1260\n",
    "change_money(n)"
   ]
  },
  {
   "attachments": {},
   "cell_type": "markdown",
   "metadata": {},
   "source": [
    "시간복잡도 O(n)"
   ]
  }
 ],
 "metadata": {
  "kernelspec": {
   "display_name": "Python 3",
   "language": "python",
   "name": "python3"
  },
  "language_info": {
   "codemirror_mode": {
    "name": "ipython",
    "version": 3
   },
   "file_extension": ".py",
   "mimetype": "text/x-python",
   "name": "python",
   "nbconvert_exporter": "python",
   "pygments_lexer": "ipython3",
   "version": "3.10.11"
  },
  "orig_nbformat": 4
 },
 "nbformat": 4,
 "nbformat_minor": 2
}
