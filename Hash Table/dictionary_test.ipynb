{
 "cells": [
  {
   "attachments": {},
   "cell_type": "markdown",
   "metadata": {},
   "source": [
    "1. Two sum\n",
    "\n",
    "* 정수가 저장된 배열 nums이 주어졌을 때, nums의 원소중 두 숫자를 더해서 target이 될 수 있으면 True, 불가능하면 False를 반환하세요.\n",
    "같은 원소 두번 사용은 불가능해요\n",
    "\n",
    "* 제약조건\n",
    "- $ 2 <= nums.length <= 10^4 $\n",
    "- $-10^9 <= nums[i] <= 10^9$\n",
    "- $-10^9 <= target <= 10^9$"
   ]
  },
  {
   "cell_type": "code",
   "execution_count": 171,
   "metadata": {},
   "outputs": [],
   "source": [
    "# input\n",
    "nums = [4,1,9,7,5,3,16]\n",
    "target = 14"
   ]
  },
  {
   "cell_type": "code",
   "execution_count": 176,
   "metadata": {},
   "outputs": [],
   "source": [
    "nums = [2,1,5,7]\n",
    "target = 4"
   ]
  },
  {
   "cell_type": "code",
   "execution_count": null,
   "metadata": {},
   "outputs": [],
   "source": [
    "# 문제에서 기본제공\n",
    "class Solution:\n",
    "    def twoSum(self, nums: list[int], target: int) -> list[int]:"
   ]
  },
  {
   "cell_type": "code",
   "execution_count": 172,
   "metadata": {},
   "outputs": [],
   "source": [
    "# 내 풀이 (답은 맞춤. 문제가 오류)\n",
    "class Solution:\n",
    "    def twoSum(self, nums: list[int], target: int) -> list[int]:\n",
    "        alist = []\n",
    "        for i in nums:\n",
    "            alist.append(i)\n",
    "\n",
    "        temp= 0\n",
    "        for i in alist:\n",
    "            temp+=1\n",
    "            sum = 0\n",
    "            for j in (alist[temp:]):\n",
    "                sum = i+j\n",
    "                if sum == target:\n",
    "                    return True\n",
    "        return False"
   ]
  },
  {
   "cell_type": "code",
   "execution_count": 177,
   "metadata": {},
   "outputs": [
    {
     "data": {
      "text/plain": [
       "True"
      ]
     },
     "execution_count": 177,
     "metadata": {},
     "output_type": "execute_result"
    }
   ],
   "source": [
    "i = Solution\n",
    "i.twoSum(i,nums,target)\n",
    "# (답은 맞춤. 문제가 오류)"
   ]
  },
  {
   "cell_type": "code",
   "execution_count": 174,
   "metadata": {},
   "outputs": [],
   "source": [
    "# 해결안 (Dictionary와 in 연산자 사용필요)\n",
    "class Solution:\n",
    "    def twoSum(self, nums: list[int], target: int) -> list[int]:\n",
    "        dict = {}\n",
    "        for i in nums:\n",
    "            dict[i] = True\n",
    "        for v in nums:\n",
    "            n = target - v\n",
    "            if n in dict:\n",
    "                return True\n",
    "        return False"
   ]
  },
  {
   "cell_type": "code",
   "execution_count": null,
   "metadata": {},
   "outputs": [],
   "source": []
  },
  {
   "cell_type": "code",
   "execution_count": null,
   "metadata": {},
   "outputs": [],
   "source": []
  }
 ],
 "metadata": {
  "kernelspec": {
   "display_name": "Python 3",
   "language": "python",
   "name": "python3"
  },
  "language_info": {
   "codemirror_mode": {
    "name": "ipython",
    "version": 3
   },
   "file_extension": ".py",
   "mimetype": "text/x-python",
   "name": "python",
   "nbconvert_exporter": "python",
   "pygments_lexer": "ipython3",
   "version": "3.10.11"
  },
  "orig_nbformat": 4
 },
 "nbformat": 4,
 "nbformat_minor": 2
}
