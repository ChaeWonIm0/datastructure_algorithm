{
 "cells": [
  {
   "attachments": {},
   "cell_type": "markdown",
   "metadata": {},
   "source": [
    "1. Two sum\n",
    "\n",
    "* 정수가 저장된 배열 nums이 주어졌을 때, nums의 원소중 두 숫자를 더해서 target이 될 수 있으면 True, 불가능하면 False를 반환하세요.\n",
    "같은 원소 두번 사용은 불가능해요\n",
    "\n",
    "* 제약조건\n",
    "- $ 2 <= nums.length <= 10^4 $\n",
    "- $-10^9 <= nums[i] <= 10^9$\n",
    "- $-10^9 <= target <= 10^9$"
   ]
  },
  {
   "cell_type": "code",
   "execution_count": 179,
   "metadata": {},
   "outputs": [],
   "source": [
    "# input\n",
    "nums = [4,1,9,7,5,3,16]\n",
    "target = 14"
   ]
  },
  {
   "cell_type": "code",
   "execution_count": 176,
   "metadata": {},
   "outputs": [],
   "source": [
    "nums = [2,1,5,7]\n",
    "target = 4"
   ]
  },
  {
   "cell_type": "code",
   "execution_count": null,
   "metadata": {},
   "outputs": [],
   "source": [
    "# 문제에서 기본제공\n",
    "class Solution:\n",
    "    def twoSum(self, nums: list[int], target: int) -> list[int]:"
   ]
  },
  {
   "cell_type": "code",
   "execution_count": 172,
   "metadata": {},
   "outputs": [],
   "source": [
    "# 내 풀이 (답은 맞춤. 문제가 오류)\n",
    "class Solution:\n",
    "    def twoSum(self, nums: list[int], target: int) -> list[int]:\n",
    "        alist = []\n",
    "        for i in nums:\n",
    "            alist.append(i)\n",
    "\n",
    "        temp= 0\n",
    "        for i in alist:\n",
    "            temp+=1\n",
    "            sum = 0\n",
    "            for j in (alist[temp:]):\n",
    "                sum = i+j\n",
    "                if sum == target:\n",
    "                    return True\n",
    "        return False"
   ]
  },
  {
   "cell_type": "code",
   "execution_count": 181,
   "metadata": {},
   "outputs": [
    {
     "data": {
      "text/plain": [
       "[2, 4]"
      ]
     },
     "execution_count": 181,
     "metadata": {},
     "output_type": "execute_result"
    }
   ],
   "source": [
    "i = Solution\n",
    "i.twoSum(i,nums,target)\n",
    "# (답은 맞춤. 문제가 오류)"
   ]
  },
  {
   "cell_type": "code",
   "execution_count": 187,
   "metadata": {},
   "outputs": [],
   "source": [
    "# 해결안 (Dictionary와 in 연산자 사용필요)\n",
    "class Solution(object):\n",
    "    def twoSum(self, nums, target):\n",
    "        dict = {}\n",
    "        for index, value in enumerate(nums):\n",
    "            dict[value] = index\n",
    "        for index, value in enumerate(nums):\n",
    "            if target - value in dict and index != dict[target - value]:\n",
    "                return [index, dict[target - value]]"
   ]
  },
  {
   "cell_type": "code",
   "execution_count": 4,
   "metadata": {},
   "outputs": [
    {
     "data": {
      "text/plain": [
       "[0, 10]"
      ]
     },
     "execution_count": 4,
     "metadata": {},
     "output_type": "execute_result"
    }
   ],
   "source": [
    "nums = [4,1,10,7,5,3,16]\n",
    "target = 14\n",
    "i = Solution\n",
    "i.twoSum(i,nums,target)"
   ]
  },
  {
   "cell_type": "code",
   "execution_count": 184,
   "metadata": {},
   "outputs": [
    {
     "ename": "NameError",
     "evalue": "name 'value' is not defined",
     "output_type": "error",
     "traceback": [
      "\u001b[1;31m---------------------------------------------------------------------------\u001b[0m",
      "\u001b[1;31mNameError\u001b[0m                                 Traceback (most recent call last)",
      "Cell \u001b[1;32mIn[184], line 2\u001b[0m\n\u001b[0;32m      1\u001b[0m \u001b[39mdict\u001b[39m \u001b[39m=\u001b[39m {}\n\u001b[1;32m----> 2\u001b[0m \u001b[39mdict\u001b[39m[value] \u001b[39m=\u001b[39m \u001b[39m1\u001b[39m\n",
      "\u001b[1;31mNameError\u001b[0m: name 'value' is not defined"
     ]
    }
   ],
   "source": [
    "dict = {}\n",
    "dict[value] = 1"
   ]
  },
  {
   "cell_type": "code",
   "execution_count": 5,
   "metadata": {},
   "outputs": [],
   "source": [
    "class Solution:\n",
    "    def twoSum(self, nums: list[int], target: int) -> list[int]:\n",
    "        dict = {}\n",
    "        for index, value in enumerate(nums):\n",
    "            dict[value] = value\n",
    "        for index, value in enumerate(nums):\n",
    "            if target-value in dict and dict[value] != index:\n",
    "                return [index, dict[target-value]]\n",
    "# 오류"
   ]
  },
  {
   "cell_type": "code",
   "execution_count": 8,
   "metadata": {},
   "outputs": [
    {
     "data": {
      "text/plain": [
       "[0, 2]"
      ]
     },
     "execution_count": 8,
     "metadata": {},
     "output_type": "execute_result"
    }
   ],
   "source": [
    "nums = [4,1,10,7,5,3,16]\n",
    "target = 14\n",
    "i = Solution\n",
    "i.twoSum(i,nums,target)"
   ]
  },
  {
   "cell_type": "code",
   "execution_count": 7,
   "metadata": {},
   "outputs": [],
   "source": [
    "# 문제에서 제공\n",
    "class Solution:\n",
    "    def twoSum(self, nums: list[int], target: int) -> list[int]:\n",
    "        dict = {}\n",
    "        for index, value in enumerate(nums):\n",
    "            dict[value] = index\n",
    "        for index, value in enumerate(nums):\n",
    "            if target - value in dict and index != dict[target - value]:\n",
    "                return [index, dict[target - value]]"
   ]
  },
  {
   "cell_type": "code",
   "execution_count": 11,
   "metadata": {},
   "outputs": [
    {
     "data": {
      "text/plain": [
       "True"
      ]
     },
     "execution_count": 11,
     "metadata": {},
     "output_type": "execute_result"
    }
   ],
   "source": [
    "# 해시테이블 활용 문제\n",
    "# array도 in 연산자는 가능함\n",
    "array = [1,2,3,4]\n",
    "2 in array"
   ]
  },
  {
   "attachments": {},
   "cell_type": "markdown",
   "metadata": {},
   "source": [
    "2. longest consecutie sequence\n",
    "\n",
    "* 정렬되어 있지 않은 정수형 배열 nums가 주어졌다. nums 원소를 가지고 만들 수 있는 가장 긴 연속된 수의 갯수는 몇개인지 반환하시오."
   ]
  },
  {
   "cell_type": "code",
   "execution_count": 4,
   "metadata": {},
   "outputs": [],
   "source": [
    "nums = [100, 4, 200, 1, 3, 2]\n",
    "output = 4\n",
    "# 가장 긴 연속된수 : [1,2,3,4]\n",
    "nums2 = [0,3,7,2,5,8,4,6,0,1, 101, 102, 103,81,104, 105,19 ,106, 107, 108, 109, 110, 111]\n",
    "output2 = 11"
   ]
  },
  {
   "cell_type": "code",
   "execution_count": 58,
   "metadata": {},
   "outputs": [
    {
     "data": {
      "text/plain": [
       "[1, 2, 3, 4, 100, 200]"
      ]
     },
     "execution_count": 58,
     "metadata": {},
     "output_type": "execute_result"
    }
   ],
   "source": [
    "nums.sort()\n",
    "nums"
   ]
  },
  {
   "cell_type": "code",
   "execution_count": 94,
   "metadata": {},
   "outputs": [
    {
     "name": "stdout",
     "output_type": "stream",
     "text": [
      "0\n",
      "1\n",
      "2\n",
      "3\n",
      "4\n",
      "5\n",
      "6\n",
      "7\n",
      "8\n",
      "9\n",
      "10\n",
      "11\n",
      "12\n",
      "13\n",
      "14\n",
      "15\n",
      "16\n",
      "17\n",
      "18\n",
      "19\n",
      "20\n",
      "21\n",
      "22\n"
     ]
    }
   ],
   "source": [
    "dic = {}\n",
    "for index, value in enumerate(nums2):\n",
    "    print(index)\n"
   ]
  },
  {
   "cell_type": "code",
   "execution_count": 100,
   "metadata": {},
   "outputs": [],
   "source": [
    "# 문제에서 제공 (5시 45분까지)\n",
    "class Solution:\n",
    "    def longestConsecutive(self, nums: list[int]) -> int:\n",
    "        nums.sort()\n",
    "        dict = {}\n",
    "        temp = 0\n",
    "        prev_index = 0\n",
    "        for index, value in enumerate(nums):\n",
    "            dict[index] = True\n",
    "        for index, value in enumerate(nums):\n",
    "            target = index - prev_index\n",
    "            if target == 1 and temp in dict:\n",
    "                temp += 1     \n",
    "            prev_index = index\n",
    "        return temp"
   ]
  },
  {
   "cell_type": "code",
   "execution_count": 101,
   "metadata": {},
   "outputs": [
    {
     "data": {
      "text/plain": [
       "22"
      ]
     },
     "execution_count": 101,
     "metadata": {},
     "output_type": "execute_result"
    }
   ],
   "source": [
    "i = Solution\n",
    "i.longestConsecutive(i, nums2)"
   ]
  },
  {
   "cell_type": "code",
   "execution_count": 68,
   "metadata": {},
   "outputs": [
    {
     "ename": "NameError",
     "evalue": "name 'temp' is not defined",
     "output_type": "error",
     "traceback": [
      "\u001b[1;31m---------------------------------------------------------------------------\u001b[0m",
      "\u001b[1;31mNameError\u001b[0m                                 Traceback (most recent call last)",
      "Cell \u001b[1;32mIn[68], line 1\u001b[0m\n\u001b[1;32m----> 1\u001b[0m temp\n",
      "\u001b[1;31mNameError\u001b[0m: name 'temp' is not defined"
     ]
    }
   ],
   "source": [
    "temp"
   ]
  },
  {
   "cell_type": "code",
   "execution_count": 95,
   "metadata": {},
   "outputs": [],
   "source": [
    "n = len(nums)\n",
    "count = 0\n",
    "nums_dict={}\n",
    "for i in range(n):\n",
    "    if prev not in nums_dict:\n",
    "        while next in nums_dict:\n",
    "            count+=1\n"
   ]
  },
  {
   "cell_type": "code",
   "execution_count": 96,
   "metadata": {},
   "outputs": [],
   "source": [
    "# 해결책\n",
    "class Solution:\n",
    "    def longestConsecutive(self, nums: list[int]) -> int:\n",
    "        longest = 0\n",
    "        dict = {}\n",
    "        for num in nums:\n",
    "            dict[num] = True\n",
    "        for num in dict:\n",
    "            if num -1 not in dict:\n",
    "                count = 1\n",
    "                target = num +1\n",
    "                while target in dict:\n",
    "                    target += 1\n",
    "                    count += 1\n",
    "                longest = max(longest, count)\n",
    "        return longest"
   ]
  },
  {
   "cell_type": "code",
   "execution_count": 14,
   "metadata": {},
   "outputs": [
    {
     "data": {
      "text/plain": [
       "0"
      ]
     },
     "execution_count": 14,
     "metadata": {},
     "output_type": "execute_result"
    }
   ],
   "source": [
    "i = Solution\n",
    "i.longestConsecutive(i, nums2)"
   ]
  },
  {
   "cell_type": "code",
   "execution_count": 13,
   "metadata": {},
   "outputs": [],
   "source": [
    "class Solution:\n",
    "    def longestConsecutive(self, nums: list[int]) -> int:\n",
    "        result = 0\n",
    "        dict = {}\n",
    "        for i in nums:\n",
    "            dict[i] = True\n",
    "        for value in nums:\n",
    "            if dict[value]+1 not in nums:\n",
    "                count = 1\n",
    "                target = value - 1\n",
    "                while target in dict:\n",
    "                    count += 1\n",
    "                    target += 1\n",
    "                result = max(result, count)\n",
    "        return result"
   ]
  },
  {
   "cell_type": "code",
   "execution_count": 15,
   "metadata": {},
   "outputs": [],
   "source": [
    "class Solution:\n",
    "    def longestConsecutive(self, nums: list[int]) -> int:\n",
    "        result = 0\n",
    "        dict = {}\n",
    "        for i in nums:\n",
    "            dict[i] = True\n",
    "        for num in nums:\n",
    "            if num - 1 not in dict:\n",
    "                count = 1\n",
    "                target = num + 1\n",
    "                while target in dict:\n",
    "                    target += 1\n",
    "                    count += 1\n",
    "                result = max(count, result)\n",
    "        return result"
   ]
  },
  {
   "cell_type": "code",
   "execution_count": null,
   "metadata": {},
   "outputs": [],
   "source": [
    "class Solution:\n",
    "    def longestConsecutive(self, nums: list[int]) -> int:\n",
    "        sum = 0\n",
    "        dict = {}\n",
    "        for value in nums:\n",
    "            dict[value] = 0\n",
    "        for i in dict:\n",
    "            if i -1 not in dict:\n",
    "                count = 1\n",
    "                result = i + 1\n",
    "                while result in dict:\n",
    "                    result += 1\n",
    "                    count +=1 \n",
    "                sum = max(sum, count)\n",
    "        return sum\n",
    "        "
   ]
  }
 ],
 "metadata": {
  "kernelspec": {
   "display_name": "Python 3",
   "language": "python",
   "name": "python3"
  },
  "language_info": {
   "codemirror_mode": {
    "name": "ipython",
    "version": 3
   },
   "file_extension": ".py",
   "mimetype": "text/x-python",
   "name": "python",
   "nbconvert_exporter": "python",
   "pygments_lexer": "ipython3",
   "version": "3.10.11"
  },
  "orig_nbformat": 4
 },
 "nbformat": 4,
 "nbformat_minor": 2
}
