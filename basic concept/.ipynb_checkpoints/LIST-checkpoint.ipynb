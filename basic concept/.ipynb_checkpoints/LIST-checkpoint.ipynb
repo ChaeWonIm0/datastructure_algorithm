{
 "cells": [
  {
   "cell_type": "markdown",
   "id": "a890def0",
   "metadata": {},
   "source": [
    "### 리스트란?\n",
    "* set자료구조와 비교됩니다.\n",
    "- set에서는 원소가 무엇이 저장되든, 순서는 중요하지 않습니다.\n",
    "- 반면 list는 순서가 다르면 전혀 다른 배열이라고 생각됩니다.\n",
    "- (1,2,3) == (3,2,1)\n",
    "- [1,2,3] != [3,2,1]\n",
    "\n",
    "### 구현되는 방법\n",
    "\n",
    "#### 1. array list\n",
    "#### 2. linked list"
   ]
  },
  {
   "cell_type": "markdown",
   "id": "686b51f1",
   "metadata": {},
   "source": [
    "* array list\n",
    "메모리상에서 [1,2,3,4] 라면, 1,2,3,4 순으로 저장됩니다.\n"
   ]
  },
  {
   "cell_type": "markdown",
   "id": "85e96a3c",
   "metadata": {},
   "source": [
    "* Linked list\n",
    "메모리상에서 비연속적으로 저장되어 있는 [1], [2], [3] 노드들이 저장되어 있다면, [1] >> [2] >> [3] 이렇게 저장되어서 연결하여, 이 순서대로 저장하게 하는 구조입니다."
   ]
  },
  {
   "cell_type": "markdown",
   "id": "13364cb0",
   "metadata": {},
   "source": [
    "파이썬에서 array list는 list라는 자료구조로 이름지어져 있습니다.\n",
    "array나 Dynamic array로 구현될 수 있는데, 파이썬에서는 dynamic array로 구현되어 있습니다. 두 가지로 구분되기도 하는데, 이는 c언어에서의 영역."
   ]
  },
  {
   "cell_type": "markdown",
   "id": "d0d047be",
   "metadata": {},
   "source": [
    "linked list는 node로 구조화됩니다"
   ]
  },
  {
   "cell_type": "markdown",
   "id": "0d8b5d0f",
   "metadata": {},
   "source": [
    "### 배열의 특성\n",
    "#### 배열의 특성에는 (1) 고정된 저장 공간, (2) 순차적인 데이터 저장 이라는 특성이 있습니다."
   ]
  },
  {
   "cell_type": "markdown",
   "id": "aa6b8507",
   "metadata": {},
   "source": [
    " c언어에서는 배열의 메모리 공간을 미리 정해놓고, 그 다음에 고정된 사이즈에 데이터를 받기 때문에 static array라고 합니다. 데이터를 연속적이고 순차적으로 저장+"
   ]
  },
  {
   "cell_type": "markdown",
   "id": "6444a75d",
   "metadata": {},
   "source": [
    "### array\n"
   ]
  },
  {
   "cell_type": "markdown",
   "id": "db44b5b3",
   "metadata": {},
   "source": [
    "#### linked list"
   ]
  },
  {
   "cell_type": "code",
   "execution_count": 8,
   "id": "9f63510a",
   "metadata": {},
   "outputs": [
    {
     "data": {
      "text/plain": [
       "1"
      ]
     },
     "execution_count": 8,
     "metadata": {},
     "output_type": "execute_result"
    }
   ],
   "source": [
    "arr = [1,2,3,4,5]\n",
    "# arr 의 첫번째 데이터를 찾아가고 싶다면? \n",
    "arr[0] \n",
    "# 등등"
   ]
  },
  {
   "cell_type": "markdown",
   "id": "20c44f2c",
   "metadata": {},
   "source": [
    "##### random access\n",
    " - 배열은 순차적으로 저장되어 있기 때문에, 첫 주소값만 알면 즉시 접근 가능합니다.\n",
    "- 접근하는 시간복잡도는 O(1)을 가짐"
   ]
  },
  {
   "cell_type": "markdown",
   "id": "678bd823",
   "metadata": {},
   "source": [
    "* 고정된 저장공간 때문에 static array에 한계가 생기기도 합니다.\n",
    "* 선언할 때 정한 사이즈보다 더 많은 데이터를 저장해야 하는 경우 문제.\n",
    "* 그렇다고 매번 큰 배열을 선언하면 메모리가 비효율적입니다."
   ]
  },
  {
   "cell_type": "markdown",
   "id": "9a777699",
   "metadata": {},
   "source": [
    "dynamic array"
   ]
  },
  {
   "cell_type": "code",
   "execution_count": null,
   "id": "3bb26d14",
   "metadata": {},
   "outputs": [],
   "source": []
  }
 ],
 "metadata": {
  "kernelspec": {
   "display_name": "Python 3 (ipykernel)",
   "language": "python",
   "name": "python3"
  },
  "language_info": {
   "codemirror_mode": {
    "name": "ipython",
    "version": 3
   },
   "file_extension": ".py",
   "mimetype": "text/x-python",
   "name": "python",
   "nbconvert_exporter": "python",
   "pygments_lexer": "ipython3",
   "version": "3.9.16"
  }
 },
 "nbformat": 4,
 "nbformat_minor": 5
}
