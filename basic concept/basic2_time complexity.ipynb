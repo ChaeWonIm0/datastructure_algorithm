{
 "cells": [
  {
   "attachments": {},
   "cell_type": "markdown",
   "id": "f4e92dd0",
   "metadata": {},
   "source": [
    "### 문제를 어떻게 접근해야 할까요?\n",
    "\n",
    "#### 1. 문제 이해\n",
    "#### 2. 접근 방법\n",
    "#### 3. 코드 설계\n",
    "#### 4. 코드 구현\n",
    "------\n",
    "* 접근 방법이 가장 중요합니다."
   ]
  },
  {
   "attachments": {},
   "cell_type": "markdown",
   "id": "e2f6298b",
   "metadata": {},
   "source": [
    "그런데 또, 접근방법이 잘 나오려면 문제를 치밀하게 이해해야 합니다.\n",
    "\n",
    "실질적인 활용을 위한 목적으로 접근방법을 생각합니다 <br>\n",
    "$+$ 문제를 본 순간 떠올릴 수 있어야 해요"
   ]
  },
  {
   "attachments": {},
   "cell_type": "markdown",
   "id": "7e32d26b",
   "metadata": {},
   "source": [
    "* 각종 제약조건\n",
    "1. $1<=n<10^5$\n",
    "1. $1<=n<=10^3$\n",
    "등등\n"
   ]
  },
  {
   "attachments": {},
   "cell_type": "markdown",
   "id": "7f1c64c1",
   "metadata": {},
   "source": [
    "문제를 해결하는 알고리즘은 다양하지만, 실행시간이 최소화될 수 있는 방법을 생각합시다 >> 시간복잡도의 최소화"
   ]
  },
  {
   "attachments": {},
   "cell_type": "markdown",
   "id": "f38a3324",
   "metadata": {},
   "source": [
    "* $O(1)<O(log_n)<O(n)<O(nlog_n)<O(n^2)<O(n^3)....$\n",
    "* 예컨대, $10^5$인 1번 제약조건의 경우 $nlog_n$ 이하여야 합니다"
   ]
  },
  {
   "attachments": {},
   "cell_type": "markdown",
   "id": "449ac0b8",
   "metadata": {},
   "source": [
    "n을 넣어서 나온 값이 $10^8$을 넘으면 시간제한이 초과될 가능성이 있습니다"
   ]
  },
  {
   "cell_type": "code",
   "execution_count": 99,
   "id": "ed7a66fb",
   "metadata": {},
   "outputs": [],
   "source": [
    "nums = {2,1,5,7}\n",
    "target = 4"
   ]
  },
  {
   "cell_type": "code",
   "execution_count": 3,
   "id": "73cfc0d6",
   "metadata": {},
   "outputs": [],
   "source": [
    "def solution(nums, target):\n",
    "    nums = list(nums)\n",
    "    for i in range (0,len(nums)):\n",
    "        temp = nums[i]\n",
    "        i += 1\n",
    "        for j in range (1,len(nums)):\n",
    "            if temp + nums[j] == target:\n",
    "                answer = True\n",
    "                break        \n",
    "            else:\n",
    "                answer = False\n",
    "            j += 1    \n",
    "    return answer"
   ]
  },
  {
   "cell_type": "code",
   "execution_count": 2,
   "id": "a153446b",
   "metadata": {},
   "outputs": [],
   "source": [
    "nums = {4,1,9,7,5,3,16}\n",
    "target = 14"
   ]
  },
  {
   "cell_type": "code",
   "execution_count": 12,
   "id": "b7d908b9",
   "metadata": {},
   "outputs": [
    {
     "data": {
      "text/plain": [
       "False"
      ]
     },
     "execution_count": 12,
     "metadata": {},
     "output_type": "execute_result"
    }
   ],
   "source": [
    "solution(nums, target)"
   ]
  },
  {
   "cell_type": "code",
   "execution_count": 13,
   "id": "fdadd2e0",
   "metadata": {},
   "outputs": [],
   "source": [
    "nums = {1, 10, 4}\n",
    "target = 14"
   ]
  },
  {
   "cell_type": "code",
   "execution_count": null,
   "id": "10de4c91",
   "metadata": {},
   "outputs": [],
   "source": []
  }
 ],
 "metadata": {
  "kernelspec": {
   "display_name": "Python 3 (ipykernel)",
   "language": "python",
   "name": "python3"
  },
  "language_info": {
   "codemirror_mode": {
    "name": "ipython",
    "version": 3
   },
   "file_extension": ".py",
   "mimetype": "text/x-python",
   "name": "python",
   "nbconvert_exporter": "python",
   "pygments_lexer": "ipython3",
   "version": "3.9.16"
  }
 },
 "nbformat": 4,
 "nbformat_minor": 5
}
