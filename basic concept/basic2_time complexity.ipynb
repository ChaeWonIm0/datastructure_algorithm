{
 "cells": [
  {
   "cell_type": "markdown",
   "id": "948d1b37",
   "metadata": {},
   "source": [
    "### 문제를 어떻게 접근해야 할까요?\n",
    "\n",
    "#### 1. 문제 이해\n",
    "#### 2. 접근 방법\n",
    "#### 3. 코드 설계\n",
    "#### 4. 코드 구현\n",
    "------\n",
    "* 접근 방법이 가장 중요합니다."
   ]
  },
  {
   "cell_type": "markdown",
   "id": "08413c80",
   "metadata": {},
   "source": [
    "그런데 또, 접근방법이 잘 나오려면 문제를 치밀하게 이해해야 합니다.\n",
    "\n",
    "실질적인 활용을 위한 목적으로 접근방법을 생각합니다 <br>\n",
    "$+$ 문제를 본 순간 떠올릴 수 있어야 해요"
   ]
  },
  {
   "cell_type": "markdown",
   "id": "6346622d",
   "metadata": {},
   "source": [
    "* 각종 제약조건\n",
    "1. $1<=n<10^5$\n",
    "1. $1<=n<=10^3$\n",
    "등등\n"
   ]
  },
  {
   "cell_type": "markdown",
   "id": "5b882f95",
   "metadata": {},
   "source": [
    "문제를 해결하는 알고리즘은 다양하지만, 실행시간이 최소화될 수 있는 방법을 생각합시다 >> 시간복잡도의 최소화"
   ]
  },
  {
   "cell_type": "markdown",
   "id": "50b85e95",
   "metadata": {},
   "source": [
    "* $O(1)<O(log_n)<O(n)<O(nlog_n)<O(n^2)<O(n)3....$\n",
    "* 예컨대, $10^5인 1.의 경우 nlog_n$ 이하여야 합니다"
   ]
  },
  {
   "cell_type": "markdown",
   "id": "d5120438",
   "metadata": {},
   "source": [
    "n을 넣어서 나온 값이 $10^8$을 넘으면 시간제한이 초과될 가능성이 있습니다"
   ]
  },
  {
   "cell_type": "markdown",
   "id": "6603a9ae",
   "metadata": {},
   "source": [
    "### Two sum\n",
    "1) 정수가 저장된 배열 nums이 주어졌을 때, nums의 원소 중 두 숫자를 더해서 target이 될 수 있으면 true 불가능하면 false를 반환하세요. 같은 원소를 두번 사용할 수 없습니다."
   ]
  },
  {
   "cell_type": "code",
   "execution_count": 80,
   "id": "aa5e069d",
   "metadata": {},
   "outputs": [],
   "source": [
    "nums = {2,1,5,7}\n",
    "target = 4"
   ]
  },
  {
   "cell_type": "code",
   "execution_count": 44,
   "id": "52b8775c",
   "metadata": {},
   "outputs": [
    {
     "data": {
      "text/plain": [
       "[1, 2, 5, 7]"
      ]
     },
     "execution_count": 44,
     "metadata": {},
     "output_type": "execute_result"
    }
   ],
   "source": [
    "list(nums)"
   ]
  },
  {
   "cell_type": "code",
   "execution_count": 82,
   "id": "812c78d8",
   "metadata": {},
   "outputs": [],
   "source": [
    "def solution(nums, target):\n",
    "    nums = list(nums)\n",
    "    for i in range (0,len(nums)):\n",
    "        temp = nums[i]\n",
    "        i += 1\n",
    "        for j in range (1,len(nums)):\n",
    "            if temp + nums[j] == target:\n",
    "                break\n",
    "                print(True)\n",
    "            else:\n",
    "                print(False)\n",
    "            j += 1    "
   ]
  },
  {
   "cell_type": "code",
   "execution_count": 85,
   "id": "5c0c19b0",
   "metadata": {},
   "outputs": [
    {
     "name": "stdout",
     "output_type": "stream",
     "text": [
      "False\n",
      "False\n",
      "False\n",
      "False\n",
      "False\n",
      "False\n",
      "False\n",
      "False\n",
      "False\n",
      "False\n",
      "False\n",
      "False\n",
      "False\n",
      "False\n",
      "False\n",
      "False\n",
      "False\n",
      "False\n",
      "False\n",
      "False\n",
      "False\n",
      "False\n",
      "False\n",
      "False\n",
      "False\n",
      "False\n",
      "False\n",
      "False\n",
      "False\n",
      "False\n",
      "False\n",
      "False\n",
      "False\n",
      "False\n",
      "False\n",
      "False\n"
     ]
    }
   ],
   "source": [
    "solution(nums, target)"
   ]
  },
  {
   "cell_type": "code",
   "execution_count": 84,
   "id": "a2173fce",
   "metadata": {},
   "outputs": [],
   "source": [
    "nums = {4,1,9,7,5,3,16}\n",
    "target = 14"
   ]
  },
  {
   "cell_type": "code",
   "execution_count": 67,
   "id": "d1d714c7",
   "metadata": {},
   "outputs": [
    {
     "name": "stdout",
     "output_type": "stream",
     "text": [
      "3\n",
      "4\n",
      "5\n"
     ]
    }
   ],
   "source": [
    "nums = list(nums)\n",
    "for i in range (1,4):\n",
    "    i +=1\n",
    "    print(nums[i])"
   ]
  },
  {
   "cell_type": "code",
   "execution_count": 72,
   "id": "72e732ff",
   "metadata": {},
   "outputs": [
    {
     "data": {
      "text/plain": [
       "[16, 1, 3, 4, 5, 7, 9]"
      ]
     },
     "execution_count": 72,
     "metadata": {},
     "output_type": "execute_result"
    }
   ],
   "source": [
    "list(nums)"
   ]
  },
  {
   "cell_type": "code",
   "execution_count": null,
   "id": "a368ed03",
   "metadata": {},
   "outputs": [],
   "source": []
  }
 ],
 "metadata": {
  "kernelspec": {
   "display_name": "Python 3 (ipykernel)",
   "language": "python",
   "name": "python3"
  },
  "language_info": {
   "codemirror_mode": {
    "name": "ipython",
    "version": 3
   },
   "file_extension": ".py",
   "mimetype": "text/x-python",
   "name": "python",
   "nbconvert_exporter": "python",
   "pygments_lexer": "ipython3",
   "version": "3.9.16"
  }
 },
 "nbformat": 4,
 "nbformat_minor": 5
}
