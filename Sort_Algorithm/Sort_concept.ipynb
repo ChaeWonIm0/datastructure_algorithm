{
 "cells": [
  {
   "attachments": {},
   "cell_type": "markdown",
   "metadata": {},
   "source": [
    "## Sort에 대하여\n",
    "\n",
    "### 정렬이란 데이터를 특정한 기준에 따라서 순서에 맞게 나열하는 방법이자, 공식들을 의미"
   ]
  },
  {
   "attachments": {},
   "cell_type": "markdown",
   "metadata": {},
   "source": [
    "일반적으로 각종 문제상황에 따라서 적절한 정렬 알고리즘이 공식처럼 사용됨"
   ]
  },
  {
   "cell_type": "code",
   "execution_count": 27,
   "metadata": {},
   "outputs": [
    {
     "name": "stdout",
     "output_type": "stream",
     "text": [
      "CPU times: total: 0 ns\n",
      "Wall time: 0 ns\n",
      "[0, 1, 2, 3, 4, 5, 6, 7, 8, 9]\n"
     ]
    }
   ],
   "source": [
    "# 잠깐 priority queue로 정렬을 만들어봄\n",
    "%time\n",
    "q = [7,5,9,0,3,1,6,2,4,8]\n",
    "import heapq\n",
    "heapq.heapify(q)\n",
    "print([heapq.heappop(q) for i in range(len(q))])"
   ]
  },
  {
   "cell_type": "code",
   "execution_count": 26,
   "metadata": {},
   "outputs": [
    {
     "name": "stdout",
     "output_type": "stream",
     "text": [
      "CPU times: total: 0 ns\n",
      "Wall time: 0 ns\n"
     ]
    },
    {
     "data": {
      "text/plain": [
       "[9, 8, 7, 6, 5, 4, 3, 2, 1, 0]"
      ]
     },
     "execution_count": 26,
     "metadata": {},
     "output_type": "execute_result"
    }
   ],
   "source": [
    "# priority queue의 내림차순 정렬\n",
    "%time\n",
    "\n",
    "q = [7,5,9,0,3,1,6,2,4,8]\n",
    "heapq.heapify(q)\n",
    "# [heapq.heappush(q, -i) for i in q]\n",
    "que = []\n",
    "[heapq.heappush(que, -i) for i in range(len(q))]\n",
    "[heapq.heappop(que)*-1 for i in range(len(que))]"
   ]
  },
  {
   "attachments": {},
   "cell_type": "markdown",
   "metadata": {},
   "source": [
    "### 1. 선택정렬\n",
    "\n",
    "- [처리되지 않은 데이터 중, 가장 작은 데이터를 선택해서 0번째 데이터와 바꾸는 과정] 을 데이터 길이만큼 반복함"
   ]
  },
  {
   "cell_type": "code",
   "execution_count": null,
   "metadata": {},
   "outputs": [],
   "source": []
  }
 ],
 "metadata": {
  "kernelspec": {
   "display_name": "py3_8_5",
   "language": "python",
   "name": "py3_8_5"
  },
  "language_info": {
   "codemirror_mode": {
    "name": "ipython",
    "version": 3
   },
   "file_extension": ".py",
   "mimetype": "text/x-python",
   "name": "python",
   "nbconvert_exporter": "python",
   "pygments_lexer": "ipython3",
   "version": "3.10.8"
  },
  "orig_nbformat": 4
 },
 "nbformat": 4,
 "nbformat_minor": 2
}
