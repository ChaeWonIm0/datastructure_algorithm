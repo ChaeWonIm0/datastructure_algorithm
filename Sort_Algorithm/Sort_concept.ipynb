{
 "cells": [
  {
   "attachments": {},
   "cell_type": "markdown",
   "metadata": {},
   "source": [
    "## Sort에 대하여\n",
    "\n",
    "### 정렬이란 데이터를 특정한 기준에 따라서 순서에 맞게 나열하는 방법이자, 공식들을 의미"
   ]
  },
  {
   "attachments": {},
   "cell_type": "markdown",
   "metadata": {},
   "source": [
    "일반적으로 각종 문제상황에 따라서 적절한 정렬 알고리즘이 공식처럼 사용됨"
   ]
  },
  {
   "cell_type": "code",
   "execution_count": 27,
   "metadata": {},
   "outputs": [
    {
     "name": "stdout",
     "output_type": "stream",
     "text": [
      "CPU times: total: 0 ns\n",
      "Wall time: 0 ns\n",
      "[0, 1, 2, 3, 4, 5, 6, 7, 8, 9]\n"
     ]
    }
   ],
   "source": [
    "# 잠깐 priority queue로 정렬을 만들어봄\n",
    "%time\n",
    "q = [7,5,9,0,3,1,6,2,4,8]\n",
    "import heapq\n",
    "heapq.heapify(q)\n",
    "print([heapq.heappop(q) for i in range(len(q))])"
   ]
  },
  {
   "cell_type": "code",
   "execution_count": 26,
   "metadata": {},
   "outputs": [
    {
     "name": "stdout",
     "output_type": "stream",
     "text": [
      "CPU times: total: 0 ns\n",
      "Wall time: 0 ns\n"
     ]
    },
    {
     "data": {
      "text/plain": [
       "[9, 8, 7, 6, 5, 4, 3, 2, 1, 0]"
      ]
     },
     "execution_count": 26,
     "metadata": {},
     "output_type": "execute_result"
    }
   ],
   "source": [
    "# priority queue의 내림차순 정렬\n",
    "%time\n",
    "\n",
    "q = [7,5,9,0,3,1,6,2,4,8]\n",
    "heapq.heapify(q)\n",
    "# [heapq.heappush(q, -i) for i in q]\n",
    "que = []\n",
    "[heapq.heappush(que, -i) for i in range(len(q))]\n",
    "[heapq.heappop(que)*-1 for i in range(len(que))]"
   ]
  },
  {
   "attachments": {},
   "cell_type": "markdown",
   "metadata": {},
   "source": [
    "### 1. 선택정렬\n",
    "\n",
    "- [처리되지 않은 데이터 중, 가장 작은 데이터를 선택해서 0번째 데이터와 바꾸는 과정] 을 데이터 길이만큼 반복함"
   ]
  },
  {
   "attachments": {},
   "cell_type": "markdown",
   "metadata": {},
   "source": [
    "> 전체 연산 횟수\n",
    "= N + (N-1) + (N-2) + ...+2\n",
    "\n",
    "> 시간복잡도는?\n",
    "$ O(N^2)$ "
   ]
  },
  {
   "cell_type": "code",
   "execution_count": 29,
   "metadata": {},
   "outputs": [
    {
     "name": "stdout",
     "output_type": "stream",
     "text": [
      "j:1\n",
      "min_index 변경전 0\n",
      "min_index 변경후 1\n",
      "j:2\n",
      "j:3\n",
      "min_index 변경전 1\n",
      "min_index 변경후 3\n",
      "j:4\n",
      "j:5\n",
      "j:6\n",
      "j:7\n",
      "j:8\n",
      "j:9\n",
      "array[i] 7\n",
      "array[min_index] 0\n",
      "array[i] 0\n",
      "array[min_index] 7\n",
      "j:2\n",
      "j:3\n",
      "j:4\n",
      "min_index 변경전 1\n",
      "min_index 변경후 4\n",
      "j:5\n",
      "min_index 변경전 4\n",
      "min_index 변경후 5\n",
      "j:6\n",
      "j:7\n",
      "j:8\n",
      "j:9\n",
      "array[i] 5\n",
      "array[min_index] 1\n",
      "array[i] 1\n",
      "array[min_index] 5\n",
      "j:3\n",
      "min_index 변경전 2\n",
      "min_index 변경후 3\n",
      "j:4\n",
      "min_index 변경전 3\n",
      "min_index 변경후 4\n",
      "j:5\n",
      "j:6\n",
      "j:7\n",
      "min_index 변경전 4\n",
      "min_index 변경후 7\n",
      "j:8\n",
      "j:9\n",
      "array[i] 9\n",
      "array[min_index] 2\n",
      "array[i] 2\n",
      "array[min_index] 9\n",
      "j:4\n",
      "min_index 변경전 3\n",
      "min_index 변경후 4\n",
      "j:5\n",
      "j:6\n",
      "j:7\n",
      "j:8\n",
      "j:9\n",
      "array[i] 7\n",
      "array[min_index] 3\n",
      "array[i] 3\n",
      "array[min_index] 7\n",
      "j:5\n",
      "min_index 변경전 4\n",
      "min_index 변경후 5\n",
      "j:6\n",
      "j:7\n",
      "j:8\n",
      "min_index 변경전 5\n",
      "min_index 변경후 8\n",
      "j:9\n",
      "array[i] 7\n",
      "array[min_index] 4\n",
      "array[i] 4\n",
      "array[min_index] 7\n",
      "j:6\n",
      "j:7\n",
      "j:8\n",
      "j:9\n",
      "array[i] 5\n",
      "array[min_index] 5\n",
      "array[i] 5\n",
      "array[min_index] 5\n",
      "j:7\n",
      "j:8\n",
      "j:9\n",
      "array[i] 6\n",
      "array[min_index] 6\n",
      "array[i] 6\n",
      "array[min_index] 6\n",
      "j:8\n",
      "min_index 변경전 7\n",
      "min_index 변경후 8\n",
      "j:9\n",
      "array[i] 9\n",
      "array[min_index] 7\n",
      "array[i] 7\n",
      "array[min_index] 9\n",
      "j:9\n",
      "min_index 변경전 8\n",
      "min_index 변경후 9\n",
      "array[i] 9\n",
      "array[min_index] 8\n",
      "array[i] 8\n",
      "array[min_index] 9\n",
      "array[i] 9\n",
      "array[min_index] 9\n",
      "array[i] 9\n",
      "array[min_index] 9\n",
      "[0, 1, 2, 3, 4, 5, 6, 7, 8, 9]\n"
     ]
    }
   ],
   "source": [
    "array = [7, 5, 9, 0, 3, 1, 6, 2, 4, 8]\n",
    "for i in range(len(array)):\n",
    "    # 정렬 완료시 가장 첫번째로 올 원소의 위치\n",
    "    min_index = i\n",
    "    for j in range(i+1, len(array)):\n",
    "        print(f\"j:{j}\")\n",
    "        if array[min_index] > array[j]:\n",
    "            print(f\"min_index 변경전 {min_index}\")\n",
    "            min_index = j\n",
    "            print(f\"min_index 변경후 {min_index}\")\n",
    "    # 교체하고 swipe함        \n",
    "    print(f\"array[i] {array[i]}\")\n",
    "    print(f\"array[min_index] {array[min_index]}\")\n",
    "    array[i], array[min_index] = array[min_index], array[i]\n",
    "    print(f\"array[i] {array[i]}\")\n",
    "    print(f\"array[min_index] {array[min_index]}\")\n",
    "print(array)"
   ]
  },
  {
   "cell_type": "code",
   "execution_count": 30,
   "metadata": {},
   "outputs": [
    {
     "name": "stdout",
     "output_type": "stream",
     "text": [
      "[0, 1, 2, 3, 4, 5, 6, 7, 8, 9]\n"
     ]
    }
   ],
   "source": [
    "array = [7, 5, 9, 0, 3, 1, 6, 2, 4, 8]\n",
    "for i in range(len(array)):\n",
    "    min_index = i\n",
    "    for j in range(i+1, len(array)):\n",
    "        if array[min_index] > array[j]:\n",
    "            min_index = j\n",
    "    array[min_index], array[i] = array[i], array[min_index]\n",
    "print(array)"
   ]
  },
  {
   "cell_type": "code",
   "execution_count": 31,
   "metadata": {},
   "outputs": [
    {
     "data": {
      "text/plain": [
       "[1, 2, 3, 4, 5, 6, 7, 8, 9]"
      ]
     },
     "execution_count": 31,
     "metadata": {},
     "output_type": "execute_result"
    }
   ],
   "source": [
    "q = [1,4,2,3,7,8,5,9,6]\n",
    "def select_sort(q):\n",
    "    for i in range(len(q)):\n",
    "        min_index = i\n",
    "        for j in range(i+1, len(q)):\n",
    "            if q[min_index] > q[j]:\n",
    "                min_index = j\n",
    "        q[min_index], q[i] = q[i], q[min_index]\n",
    "    return q\n",
    "select_sort(q)"
   ]
  },
  {
   "attachments": {},
   "cell_type": "markdown",
   "metadata": {},
   "source": [
    "### 2. 삽입 정렬\n",
    "\n",
    "- 처리되지 않은 데이터를 하나씩 골라 적절한 위치에 삽입합니다\n",
    "- 구현 난이도가 높은편 이지만, 비교적 효율적임"
   ]
  },
  {
   "cell_type": "code",
   "execution_count": 32,
   "metadata": {},
   "outputs": [
    {
     "data": {
      "text/plain": [
       "[0, 1, 2, 3, 4, 5, 6, 7, 8, 9]"
      ]
     },
     "execution_count": 32,
     "metadata": {},
     "output_type": "execute_result"
    }
   ],
   "source": [
    "array = [7,5,9,0,3,1,6,2,4,8]\n",
    "for i in range(1, len(array)):\n",
    "    for j in range(i, 0, -1):\n",
    "        # 가장 오른쪽에서 시작해서 한칸씩 왼쪽으로 이동\n",
    "        if array[j] < array[j - 1]:\n",
    "            array[j], array[j - 1] = array[j-1], array[j]\n",
    "        # 자기보다 작은 데이터를 만나면 그 위치에서 멈춰야함\n",
    "        else:\n",
    "            break\n",
    "array"
   ]
  },
  {
   "cell_type": "code",
   "execution_count": 35,
   "metadata": {},
   "outputs": [
    {
     "data": {
      "text/plain": [
       "[1, 2, 3, 4, 7, 5, 8, 6, 9, 10, 12, 14, 11, 16]"
      ]
     },
     "execution_count": 35,
     "metadata": {},
     "output_type": "execute_result"
    }
   ],
   "source": [
    "q = [1,4,2,3,7,8,5,9,6, 10, 14, 12, 16, 11]\n",
    "for i in range(len(q)):\n",
    "    for j in range(i, 0, -1):\n",
    "        if q[i] < q[j-1]:\n",
    "            q[i], q[j-1] = q[j-1], q[i]\n",
    "        else:\n",
    "            break\n",
    "q"
   ]
  },
  {
   "cell_type": "code",
   "execution_count": 36,
   "metadata": {},
   "outputs": [],
   "source": [
    "# 함수로 정리\n",
    "def insert_sort(q):\n",
    "    # 0번째부터 돌아가면서 순회\n",
    "    for i in range(len(q)):\n",
    "        for j in range(i, 0 ,-1):\n",
    "            # 대상 위치의 값보다 작으면 왼쪽으로 이동\n",
    "            if q[i] < q[j-1]:\n",
    "                q[i], q[j-1] = q[j-1], q[i]\n",
    "            else:\n",
    "                break\n",
    "    return q"
   ]
  },
  {
   "cell_type": "code",
   "execution_count": 37,
   "metadata": {},
   "outputs": [
    {
     "data": {
      "text/plain": [
       "[1, 2, 3, 4, 5, 7, 6, 8, 9, 10, 12, 11, 14, 16]"
      ]
     },
     "execution_count": 37,
     "metadata": {},
     "output_type": "execute_result"
    }
   ],
   "source": [
    "insert_sort(q)"
   ]
  },
  {
   "cell_type": "code",
   "execution_count": null,
   "metadata": {},
   "outputs": [],
   "source": []
  }
 ],
 "metadata": {
  "kernelspec": {
   "display_name": "py3_8_5",
   "language": "python",
   "name": "py3_8_5"
  },
  "language_info": {
   "codemirror_mode": {
    "name": "ipython",
    "version": 3
   },
   "file_extension": ".py",
   "mimetype": "text/x-python",
   "name": "python",
   "nbconvert_exporter": "python",
   "pygments_lexer": "ipython3",
   "version": "3.10.8"
  },
  "orig_nbformat": 4
 },
 "nbformat": 4,
 "nbformat_minor": 2
}
