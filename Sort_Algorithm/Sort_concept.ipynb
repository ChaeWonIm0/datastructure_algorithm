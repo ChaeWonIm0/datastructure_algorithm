{
 "cells": [
  {
   "attachments": {},
   "cell_type": "markdown",
   "metadata": {},
   "source": [
    "## Sort에 대하여\n",
    "\n",
    "### 정렬이란 데이터를 특정한 기준에 따라서 순서에 맞게 나열하는 방법이자, 공식들을 의미"
   ]
  },
  {
   "attachments": {},
   "cell_type": "markdown",
   "metadata": {},
   "source": [
    "일반적으로 각종 문제상황에 따라서 적절한 정렬 알고리즘이 공식처럼 사용됨"
   ]
  },
  {
   "cell_type": "code",
   "execution_count": 27,
   "metadata": {},
   "outputs": [
    {
     "name": "stdout",
     "output_type": "stream",
     "text": [
      "CPU times: total: 0 ns\n",
      "Wall time: 0 ns\n",
      "[0, 1, 2, 3, 4, 5, 6, 7, 8, 9]\n"
     ]
    }
   ],
   "source": [
    "# 잠깐 priority queue로 정렬을 만들어봄\n",
    "%time\n",
    "q = [7,5,9,0,3,1,6,2,4,8]\n",
    "import heapq\n",
    "heapq.heapify(q)\n",
    "print([heapq.heappop(q) for i in range(len(q))])"
   ]
  },
  {
   "cell_type": "code",
   "execution_count": 26,
   "metadata": {},
   "outputs": [
    {
     "name": "stdout",
     "output_type": "stream",
     "text": [
      "CPU times: total: 0 ns\n",
      "Wall time: 0 ns\n"
     ]
    },
    {
     "data": {
      "text/plain": [
       "[9, 8, 7, 6, 5, 4, 3, 2, 1, 0]"
      ]
     },
     "execution_count": 26,
     "metadata": {},
     "output_type": "execute_result"
    }
   ],
   "source": [
    "# priority queue의 내림차순 정렬\n",
    "%time\n",
    "\n",
    "q = [7,5,9,0,3,1,6,2,4,8]\n",
    "heapq.heapify(q)\n",
    "# [heapq.heappush(q, -i) for i in q]\n",
    "que = []\n",
    "[heapq.heappush(que, -i) for i in range(len(q))]\n",
    "[heapq.heappop(que)*-1 for i in range(len(que))]"
   ]
  },
  {
   "attachments": {},
   "cell_type": "markdown",
   "metadata": {},
   "source": [
    "### 1. 선택정렬\n",
    "\n",
    "- [처리되지 않은 데이터 중, 가장 작은 데이터를 선택해서 0번째 데이터와 바꾸는 과정] 을 데이터 길이만큼 반복함"
   ]
  },
  {
   "attachments": {},
   "cell_type": "markdown",
   "metadata": {},
   "source": [
    "> 전체 연산 횟수\n",
    "= N + (N-1) + (N-2) + ...+2\n",
    "\n",
    "> 시간복잡도는?\n",
    "$ O(N^2)$ "
   ]
  },
  {
   "cell_type": "code",
   "execution_count": 29,
   "metadata": {},
   "outputs": [
    {
     "name": "stdout",
     "output_type": "stream",
     "text": [
      "j:1\n",
      "min_index 변경전 0\n",
      "min_index 변경후 1\n",
      "j:2\n",
      "j:3\n",
      "min_index 변경전 1\n",
      "min_index 변경후 3\n",
      "j:4\n",
      "j:5\n",
      "j:6\n",
      "j:7\n",
      "j:8\n",
      "j:9\n",
      "array[i] 7\n",
      "array[min_index] 0\n",
      "array[i] 0\n",
      "array[min_index] 7\n",
      "j:2\n",
      "j:3\n",
      "j:4\n",
      "min_index 변경전 1\n",
      "min_index 변경후 4\n",
      "j:5\n",
      "min_index 변경전 4\n",
      "min_index 변경후 5\n",
      "j:6\n",
      "j:7\n",
      "j:8\n",
      "j:9\n",
      "array[i] 5\n",
      "array[min_index] 1\n",
      "array[i] 1\n",
      "array[min_index] 5\n",
      "j:3\n",
      "min_index 변경전 2\n",
      "min_index 변경후 3\n",
      "j:4\n",
      "min_index 변경전 3\n",
      "min_index 변경후 4\n",
      "j:5\n",
      "j:6\n",
      "j:7\n",
      "min_index 변경전 4\n",
      "min_index 변경후 7\n",
      "j:8\n",
      "j:9\n",
      "array[i] 9\n",
      "array[min_index] 2\n",
      "array[i] 2\n",
      "array[min_index] 9\n",
      "j:4\n",
      "min_index 변경전 3\n",
      "min_index 변경후 4\n",
      "j:5\n",
      "j:6\n",
      "j:7\n",
      "j:8\n",
      "j:9\n",
      "array[i] 7\n",
      "array[min_index] 3\n",
      "array[i] 3\n",
      "array[min_index] 7\n",
      "j:5\n",
      "min_index 변경전 4\n",
      "min_index 변경후 5\n",
      "j:6\n",
      "j:7\n",
      "j:8\n",
      "min_index 변경전 5\n",
      "min_index 변경후 8\n",
      "j:9\n",
      "array[i] 7\n",
      "array[min_index] 4\n",
      "array[i] 4\n",
      "array[min_index] 7\n",
      "j:6\n",
      "j:7\n",
      "j:8\n",
      "j:9\n",
      "array[i] 5\n",
      "array[min_index] 5\n",
      "array[i] 5\n",
      "array[min_index] 5\n",
      "j:7\n",
      "j:8\n",
      "j:9\n",
      "array[i] 6\n",
      "array[min_index] 6\n",
      "array[i] 6\n",
      "array[min_index] 6\n",
      "j:8\n",
      "min_index 변경전 7\n",
      "min_index 변경후 8\n",
      "j:9\n",
      "array[i] 9\n",
      "array[min_index] 7\n",
      "array[i] 7\n",
      "array[min_index] 9\n",
      "j:9\n",
      "min_index 변경전 8\n",
      "min_index 변경후 9\n",
      "array[i] 9\n",
      "array[min_index] 8\n",
      "array[i] 8\n",
      "array[min_index] 9\n",
      "array[i] 9\n",
      "array[min_index] 9\n",
      "array[i] 9\n",
      "array[min_index] 9\n",
      "[0, 1, 2, 3, 4, 5, 6, 7, 8, 9]\n"
     ]
    }
   ],
   "source": [
    "array = [7, 5, 9, 0, 3, 1, 6, 2, 4, 8]\n",
    "for i in range(len(array)):\n",
    "    # 정렬 완료시 가장 첫번째로 올 원소의 위치\n",
    "    min_index = i\n",
    "    for j in range(i+1, len(array)):\n",
    "        print(f\"j:{j}\")\n",
    "        if array[min_index] > array[j]:\n",
    "            print(f\"min_index 변경전 {min_index}\")\n",
    "            min_index = j\n",
    "            print(f\"min_index 변경후 {min_index}\")\n",
    "    # 교체하고 swipe함        \n",
    "    print(f\"array[i] {array[i]}\")\n",
    "    print(f\"array[min_index] {array[min_index]}\")\n",
    "    array[i], array[min_index] = array[min_index], array[i]\n",
    "    print(f\"array[i] {array[i]}\")\n",
    "    print(f\"array[min_index] {array[min_index]}\")\n",
    "print(array)"
   ]
  },
  {
   "cell_type": "code",
   "execution_count": 30,
   "metadata": {},
   "outputs": [
    {
     "name": "stdout",
     "output_type": "stream",
     "text": [
      "[0, 1, 2, 3, 4, 5, 6, 7, 8, 9]\n"
     ]
    }
   ],
   "source": [
    "array = [7, 5, 9, 0, 3, 1, 6, 2, 4, 8]\n",
    "for i in range(len(array)):\n",
    "    min_index = i\n",
    "    for j in range(i+1, len(array)):\n",
    "        if array[min_index] > array[j]:\n",
    "            min_index = j\n",
    "    array[min_index], array[i] = array[i], array[min_index]\n",
    "print(array)"
   ]
  },
  {
   "attachments": {},
   "cell_type": "markdown",
   "metadata": {},
   "source": [
    "### 2. 삽입 정렬\n",
    "\n",
    "- 처리되지 않은 데이터를 하나씩 골라 적절한 위치에 삽입합니다\n",
    "- 구현 난이도가 높은편 이지만, 비교적 효율적임"
   ]
  },
  {
   "attachments": {},
   "cell_type": "markdown",
   "metadata": {},
   "source": [
    "> 시간복잡도 = $ O(N^2) $\n",
    "\n",
    "- 현재 리스트의 데이터가 거의 정렬되어 있는 상태라면 매우 빠르게 동작\n",
    "\n",
    "최선의 경우 O(N)의 시간복잡도가 될수도 있음"
   ]
  },
  {
   "cell_type": "code",
   "execution_count": 32,
   "metadata": {},
   "outputs": [
    {
     "data": {
      "text/plain": [
       "[0, 1, 2, 3, 4, 5, 6, 7, 8, 9]"
      ]
     },
     "execution_count": 32,
     "metadata": {},
     "output_type": "execute_result"
    }
   ],
   "source": [
    "array = [7,5,9,0,3,1,6,2,4,8]\n",
    "for i in range(1, len(array)):\n",
    "    for j in range(i, 0, -1):\n",
    "        # 가장 오른쪽에서 시작해서 한칸씩 왼쪽으로 이동\n",
    "        if array[j] < array[j - 1]:\n",
    "            array[j], array[j - 1] = array[j-1], array[j]\n",
    "        # 자기보다 작은 데이터를 만나면 그 위치에서 멈춰야함\n",
    "        else:\n",
    "            break\n",
    "array"
   ]
  },
  {
   "cell_type": "code",
   "execution_count": 35,
   "metadata": {},
   "outputs": [
    {
     "data": {
      "text/plain": [
       "[1, 2, 3, 4, 7, 5, 8, 6, 9, 10, 12, 14, 11, 16]"
      ]
     },
     "execution_count": 35,
     "metadata": {},
     "output_type": "execute_result"
    }
   ],
   "source": [
    "q = [1,4,2,3,7,8,5,9,6, 10, 14, 12, 16, 11]\n",
    "for i in range(len(q)):\n",
    "    for j in range(i, 0, -1):\n",
    "        if q[i] < q[j-1]:\n",
    "            q[i], q[j-1] = q[j-1], q[i]\n",
    "        else:\n",
    "            break\n",
    "q"
   ]
  },
  {
   "cell_type": "code",
   "execution_count": 36,
   "metadata": {},
   "outputs": [],
   "source": [
    "# 함수로 정리\n",
    "def insert_sort(q):\n",
    "    # 0번째부터 돌아가면서 순회\n",
    "    for i in range(len(q)):\n",
    "        for j in range(i, 0 ,-1):\n",
    "            # 대상 위치의 값보다 작으면 왼쪽으로 이동\n",
    "            if q[i] < q[j-1]:\n",
    "                q[i], q[j-1] = q[j-1], q[i]\n",
    "            else:\n",
    "                break\n",
    "    return q"
   ]
  },
  {
   "cell_type": "code",
   "execution_count": 37,
   "metadata": {},
   "outputs": [
    {
     "data": {
      "text/plain": [
       "[1, 2, 3, 4, 5, 7, 6, 8, 9, 10, 12, 11, 14, 16]"
      ]
     },
     "execution_count": 37,
     "metadata": {},
     "output_type": "execute_result"
    }
   ],
   "source": [
    "insert_sort(q)"
   ]
  },
  {
   "attachments": {},
   "cell_type": "markdown",
   "metadata": {},
   "source": [
    "### 3. 퀵 정렬\n",
    "\n",
    "- 기준 데이터를 설정하고, 그 데이터보다 큰 데이터와 작은 데이터의 위치를 바꾸는 방법입니다.\n",
    "\n",
    "- 통상적인 상황에서 거의 사용"
   ]
  },
  {
   "attachments": {},
   "cell_type": "markdown",
   "metadata": {},
   "source": [
    "> 퀵정렬의 시간복잡도는 $ O(NlogN) $\n",
    "\n",
    "> 최악의 경우 시간복잡도 $ O(N^2) $\n"
   ]
  },
  {
   "attachments": {},
   "cell_type": "markdown",
   "metadata": {},
   "source": [
    "- 가장 기본적인 퀵정렬은 첫번째 데이터를 pivot으로 설정함\n",
    "\n",
    "> pivot = 한 step에서의 기준"
   ]
  },
  {
   "attachments": {},
   "cell_type": "markdown",
   "metadata": {},
   "source": [
    "퀵정렬은 이상적인 경우, 분할이 절반씩 일어난다면 전체 횟수가 끝나면 시간복잡도로 $ O(NlogN) $을 기대할 수 있습니다\n",
    "\n",
    "너비 X 높이 = $ N * logN = NlogN $"
   ]
  },
  {
   "cell_type": "code",
   "execution_count": 67,
   "metadata": {},
   "outputs": [
    {
     "name": "stdout",
     "output_type": "stream",
     "text": [
      "[0, 1, 2, 3, 4, 5, 6, 7, 8, 9]\n"
     ]
    }
   ],
   "source": [
    "array = [5, 7, 9, 0, 3, 1, 6, 2, 4, 8]\n",
    "# 함수로 정의\n",
    "# 기본적으로 재귀식처럼 보임\n",
    "def quick_sort(array, start, end):\n",
    "    # 1개인 경우 종료로 설정\n",
    "    if start >= end:\n",
    "        return array\n",
    "    pivot = start\n",
    "    left = start + 1\n",
    "    right = end\n",
    "    while(left <= right):\n",
    "        # 피벗보다 큰 데이터를 찾을때까지 왼쪽으로 이동 > 반복\n",
    "        while(left <= end and array[left] <= array[pivot]):\n",
    "        # 피벗보다 작을 경우 왼쪽으로\n",
    "            left += 1\n",
    "        # 피벗보다 작은 데이터를 찾을때까지 오른쪽으로 이동 > 반복\n",
    "        while(right > start and array[right] >= array[pivot]):\n",
    "            right -= 1\n",
    "        # left와 right가 엇갈렸다면, 더 적은 테이터와 피벗을 공유\n",
    "        if (left > right):\n",
    "            array[right], array[pivot] = array[pivot], array[right]\n",
    "        # 분할 이후 왼쪽과 오른쪽을 sort 각각 실행\n",
    "        else:\n",
    "            array[left], array[right] = array[right], array[left]\n",
    "    quick_sort(array, start, right-1)\n",
    "    quick_sort(array, right+1, end)\n",
    "quick_sort(array, 0, len(array) -1)\n",
    "print(array)"
   ]
  },
  {
   "cell_type": "code",
   "execution_count": 40,
   "metadata": {},
   "outputs": [
    {
     "name": "stdout",
     "output_type": "stream",
     "text": [
      "[0, 1, 2, 3, 4, 5, 6, 7, 8, 9]\n"
     ]
    }
   ],
   "source": [
    "# list comprehension 적용\n",
    "def quick_sort(array):\n",
    "    if len(array) <= 1:\n",
    "        return array\n",
    "    pivot = array[0]\n",
    "    # 피벗을 제외한 모든 리스트\n",
    "    tail = array[1:]\n",
    "\n",
    "    left_side = [x for x in tail if x <= pivot]\n",
    "    right_side = [x for x in tail if x > pivot]\n",
    "\n",
    "    return quick_sort(left_side) + [pivot] + quick_sort(right_side)\n",
    "print(quick_sort(array))"
   ]
  },
  {
   "cell_type": "code",
   "execution_count": 46,
   "metadata": {},
   "outputs": [
    {
     "data": {
      "text/plain": [
       "[0, 1, 2, 3, 4, 5, 6, 7, 8, 9]"
      ]
     },
     "execution_count": 46,
     "metadata": {},
     "output_type": "execute_result"
    }
   ],
   "source": [
    "def quick_sort(array):\n",
    "    if len(array) <= 1:\n",
    "        return array\n",
    "    pivot = array[0]\n",
    "    tail = array[1:]\n",
    "\n",
    "    left = [i for i in tail if i <= pivot]\n",
    "    right = [i for i in tail if i > pivot]\n",
    "    \n",
    "    return quick_sort(left) + [pivot] + quick_sort(right)\n",
    "quick_sort(array)"
   ]
  },
  {
   "cell_type": "code",
   "execution_count": 49,
   "metadata": {},
   "outputs": [
    {
     "data": {
      "text/plain": [
       "[0, 1, 2, 3, 4, 5, 6, 7, 8, 9]"
      ]
     },
     "execution_count": 49,
     "metadata": {},
     "output_type": "execute_result"
    }
   ],
   "source": [
    "def solution(array):\n",
    "    if len(array) <= 1:\n",
    "        return array\n",
    "    pivot = array[0]\n",
    "    tail = array[1:]\n",
    "    left = [i for i in tail if i <= pivot]\n",
    "    right = [i for i in tail if i > pivot]\n",
    "\n",
    "    return solution(left) + [pivot] + solution(right)\n",
    "solution(array)\n"
   ]
  },
  {
   "cell_type": "code",
   "execution_count": 50,
   "metadata": {},
   "outputs": [
    {
     "data": {
      "text/plain": [
       "[0, 1, 2, 3, 4, 5, 6, 7, 8, 9]"
      ]
     },
     "execution_count": 50,
     "metadata": {},
     "output_type": "execute_result"
    }
   ],
   "source": [
    "def solution(array):\n",
    "    if len(array) <= 1:\n",
    "        return array\n",
    "    pivot = array[0]\n",
    "    tail = array[1:]\n",
    "    left = [i for i in tail if i <= pivot]\n",
    "    right = [i for i in tail if i > pivot]\n",
    "\n",
    "    return solution(left) + [pivot] + solution(right)\n",
    "solution(array)"
   ]
  },
  {
   "attachments": {},
   "cell_type": "markdown",
   "metadata": {},
   "source": [
    "### 3. 계수 정렬\n",
    "\n",
    "- 특정한 조건이 부합할 때만 사용할 수 있지만 매우 빠르게 동작하는 정렬\n",
    "\n",
    "- 데이터 크기 범위가 정수 형태로만 표현할 수 있을때 사용 가능합니다.\n",
    "\n",
    "- 데이터의 개수가 N, 데이터의 최댓값이 K일 때, 최악의 경우 수행시간이 $ O(N+K) $"
   ]
  },
  {
   "cell_type": "code",
   "execution_count": 72,
   "metadata": {},
   "outputs": [
    {
     "data": {
      "text/plain": [
       "[1, 2, 3, 4, 5, 6, 7, 9, 11]"
      ]
     },
     "execution_count": 72,
     "metadata": {},
     "output_type": "execute_result"
    }
   ],
   "source": [
    "# 모든 범위를 포함하는 count를 선언하고 0으로 초기화\n",
    "count = [0 for i in range(max(array)+1)]\n",
    "new = []\n",
    "def count_sort(array):\n",
    "    for i in range(len(array)):\n",
    "        # 각 데이터에 해당하는 인덱스 값 증가\n",
    "        count[array[i]] += 1\n",
    "    for i in range(len(count)):\n",
    "        # 리스트에 기록된 정렬 정보 확인\n",
    "        for j in range(count[i]):\n",
    "            # 등장한 횟수만큼 인덱스 출력\n",
    "            new.append(i)\n",
    "    return new\n",
    "count_sort(array)"
   ]
  },
  {
   "cell_type": "code",
   "execution_count": 74,
   "metadata": {},
   "outputs": [],
   "source": [
    "array = [4,3,5,2,6,7,9,11, 1]"
   ]
  },
  {
   "attachments": {},
   "cell_type": "markdown",
   "metadata": {},
   "source": [
    "#### 공간복잡도도 $ O(N+K) $로 연산됨\n",
    "count 정렬은 동일한 값을 가지는 데이터가 여러 개 등장할 때 효과적입니다"
   ]
  },
  {
   "cell_type": "code",
   "execution_count": 80,
   "metadata": {},
   "outputs": [
    {
     "data": {
      "text/plain": [
       "[1, 2, 3, 4, 5, 6, 7, 9, 11]"
      ]
     },
     "execution_count": 80,
     "metadata": {},
     "output_type": "execute_result"
    }
   ],
   "source": [
    "count = [0 for i in range(max(array)+1)]\n",
    "new = []\n",
    "def count_sort(array):\n",
    "    for i in range(len(array)):\n",
    "        count[array[i]] += 1\n",
    "    for i in range(len(count)):\n",
    "        for j in range(count[i]):\n",
    "            new.append(i)\n",
    "    return new\n",
    "count_sort(array)"
   ]
  },
  {
   "cell_type": "code",
   "execution_count": 132,
   "metadata": {},
   "outputs": [
    {
     "name": "stdout",
     "output_type": "stream",
     "text": [
      "1만시간의 법칙 중 18.72 %를 달성\n"
     ]
    }
   ],
   "source": [
    "a = 10**4\n",
    "def sol(p):\n",
    "    p = (p*(24 -16))\n",
    "    return print(f\"1만시간의 법칙 중 {(p/a)*100} %를 달성\")\n",
    "k = datetime.date(2023,7,13)- datetime.date(2022,11,21) \n",
    "sol(k.days)"
   ]
  },
  {
   "cell_type": "code",
   "execution_count": 127,
   "metadata": {},
   "outputs": [
    {
     "data": {
      "text/plain": [
       "234"
      ]
     },
     "execution_count": 127,
     "metadata": {},
     "output_type": "execute_result"
    }
   ],
   "source": [
    "import datetime\n",
    "k =  datetime.date(2023,7,13)- datetime.date(2022,11,21)\n",
    "k.days"
   ]
  },
  {
   "cell_type": "code",
   "execution_count": null,
   "metadata": {},
   "outputs": [],
   "source": []
  }
 ],
 "metadata": {
  "kernelspec": {
   "display_name": "py3_8_5",
   "language": "python",
   "name": "py3_8_5"
  },
  "language_info": {
   "codemirror_mode": {
    "name": "ipython",
    "version": 3
   },
   "file_extension": ".py",
   "mimetype": "text/x-python",
   "name": "python",
   "nbconvert_exporter": "python",
   "pygments_lexer": "ipython3",
   "version": "3.10.8"
  },
  "orig_nbformat": 4
 },
 "nbformat": 4,
 "nbformat_minor": 2
}
