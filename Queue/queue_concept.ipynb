{
 "cells": [
  {
   "attachments": {},
   "cell_type": "markdown",
   "metadata": {},
   "source": [
    "다음형태\n",
    "### Queue\n",
    "\n",
    "#### array list를 사용해서 구현하거나 linked list를 사용해서 구현 가능합니다.\n",
    "\n",
    "> array list : array, circular queue, dynamic array 이용가능\n",
    "- 하지만 array list는 큐의 장점이 없음\n",
    "\n",
    "> Linked list 사용가능\n",
    "\n",
    "> 파이썬에서 구현된 queue를 사용하면 됩니다."
   ]
  },
  {
   "attachments": {},
   "cell_type": "markdown",
   "metadata": {},
   "source": [
    "* queue는 시간 순서상 먼저 저장한 데이터가 먼저 출력되는 FIFO 형식의 자료구조 입니다.\n",
    "\n",
    "* queue의 뒷부분에 추가 : enqueue\n",
    "* queue의 앞부분에서 꺼내기 : dequeue"
   ]
  },
  {
   "cell_type": "code",
   "execution_count": 23,
   "metadata": {},
   "outputs": [
    {
     "name": "stdout",
     "output_type": "stream",
     "text": [
      "queue를 출력하면 deque([1, 4, 5])\n",
      "queue.pop(1회)는 5, queue.popleft(2회) 출력은(1, 4)\n"
     ]
    }
   ],
   "source": [
    "from collections import deque\n",
    "\n",
    "queue = deque()\n",
    "queue.append(1)\n",
    "# queue.enqueue(4) = \n",
    "queue.append(4)\n",
    "# queue.enqueue(5) =\n",
    "queue.append(5)\n",
    "# queue.dequeue() = \n",
    "print(\"queue를 출력하면\", queue)\n",
    "print(f\"queue.pop(1회)는 {queue.pop()}, queue.popleft(2회) 출력은{queue.popleft(), queue.popleft()}\")\n",
    "# = queue.dequeue()\n",
    "# deque도 pop()이 있긴 있고, popright()가 없음\n"
   ]
  },
  {
   "cell_type": "code",
   "execution_count": 9,
   "metadata": {},
   "outputs": [],
   "source": [
    "q = []"
   ]
  },
  {
   "cell_type": "code",
   "execution_count": 10,
   "metadata": {},
   "outputs": [],
   "source": [
    "# 이것이 인큐\n",
    "q.append(1)\n",
    "q.append(2)\n",
    "q.append(3)\n",
    "q.append(4)"
   ]
  },
  {
   "attachments": {},
   "cell_type": "markdown",
   "metadata": {},
   "source": [
    "시간복잡도는 O(1)"
   ]
  },
  {
   "cell_type": "code",
   "execution_count": 11,
   "metadata": {},
   "outputs": [
    {
     "data": {
      "text/plain": [
       "1"
      ]
     },
     "execution_count": 11,
     "metadata": {},
     "output_type": "execute_result"
    }
   ],
   "source": [
    "# 이것이 디큐\n",
    "q.pop(0)"
   ]
  },
  {
   "attachments": {},
   "cell_type": "markdown",
   "metadata": {},
   "source": [
    "#### 시간복잡도는 $O(n)$이 됩니다.\n",
    "\n",
    "> DEQUE\n",
    "* deque는 앞에서도 인큐가능하고, 뒤에서도 dequeue할 수 있는 자료 구조."
   ]
  },
  {
   "cell_type": "code",
   "execution_count": 15,
   "metadata": {},
   "outputs": [],
   "source": [
    "from collections import deque\n",
    "queue = deque()"
   ]
  },
  {
   "cell_type": "code",
   "execution_count": null,
   "metadata": {},
   "outputs": [],
   "source": [
    "# 시간복잡도도 O(1)로 구현"
   ]
  },
  {
   "cell_type": "code",
   "execution_count": 21,
   "metadata": {},
   "outputs": [
    {
     "data": {
      "text/plain": [
       "1"
      ]
     },
     "execution_count": 21,
     "metadata": {},
     "output_type": "execute_result"
    }
   ],
   "source": [
    "queue.append(1)\n",
    "queue.append(2)\n",
    "queue.append(3)\n",
    "queue.append(4)\n",
    "# queue.popleft()\n",
    "# queue.popleft()\n",
    "queue.popleft()"
   ]
  },
  {
   "cell_type": "code",
   "execution_count": 22,
   "metadata": {},
   "outputs": [
    {
     "data": {
      "text/plain": [
       "deque([2, 3, 4, 1, 2, 3, 4, 1, 2, 3, 1, 2, 3, 4])"
      ]
     },
     "execution_count": 22,
     "metadata": {},
     "output_type": "execute_result"
    }
   ],
   "source": [
    "queue"
   ]
  },
  {
   "cell_type": "code",
   "execution_count": null,
   "metadata": {},
   "outputs": [],
   "source": []
  }
 ],
 "metadata": {
  "kernelspec": {
   "display_name": "Python 3",
   "language": "python",
   "name": "python3"
  },
  "language_info": {
   "codemirror_mode": {
    "name": "ipython",
    "version": 3
   },
   "file_extension": ".py",
   "mimetype": "text/x-python",
   "name": "python",
   "nbconvert_exporter": "python",
   "pygments_lexer": "ipython3",
   "version": "3.10.11"
  },
  "orig_nbformat": 4
 },
 "nbformat": 4,
 "nbformat_minor": 2
}
