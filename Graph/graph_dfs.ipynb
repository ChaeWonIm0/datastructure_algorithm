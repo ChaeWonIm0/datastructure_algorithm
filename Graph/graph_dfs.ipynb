{
 "cells": [
  {
   "attachments": {},
   "cell_type": "markdown",
   "metadata": {},
   "source": [
    "### Graph의 DFS 깊이 우선 탐색\n",
    "\n",
    "* A랑 멀수록 깊이가 깊은 것"
   ]
  },
  {
   "cell_type": "code",
   "execution_count": 1,
   "metadata": {},
   "outputs": [],
   "source": [
    "graph = {\n",
    "    'A' : ['B','D','E','F'],\n",
    "    'B' : ['A','C','D'],\n",
    "    'C' : ['B'],\n",
    "    'D' : ['A','B','F'],\n",
    "    'E' : ['A'],\n",
    "    'F' : ['A','D']\n",
    "}"
   ]
  },
  {
   "cell_type": "code",
   "execution_count": 2,
   "metadata": {},
   "outputs": [
    {
     "data": {
      "text/plain": [
       "['A', 'B', 'C', 'D', 'F', 'E']"
      ]
     },
     "execution_count": 2,
     "metadata": {},
     "output_type": "execute_result"
    }
   ],
   "source": [
    "visited = []\n",
    "def dfs(cur_v):\n",
    "    visited.append(cur_v)\n",
    "    for v in graph[cur_v]:\n",
    "        if v not in visited:\n",
    "            dfs(v)\n",
    "    return visited\n",
    "dfs('A')"
   ]
  },
  {
   "attachments": {},
   "cell_type": "markdown",
   "metadata": {},
   "source": [
    "## BFS는 deque() 사용\n",
    "## DFS는 재귀(RECURSION) 사용"
   ]
  },
  {
   "cell_type": "code",
   "execution_count": 3,
   "metadata": {},
   "outputs": [],
   "source": [
    "visited = []\n",
    "def DFS(start_visit):\n",
    "    visited.append(start_visit)\n",
    "    for v in graph[start_visit]:\n",
    "        if v not in visited:\n",
    "            DFS(v)\n",
    "    return visited"
   ]
  },
  {
   "cell_type": "code",
   "execution_count": 4,
   "metadata": {},
   "outputs": [
    {
     "data": {
      "text/plain": [
       "['F', 'A', 'B', 'C', 'D', 'E']"
      ]
     },
     "execution_count": 4,
     "metadata": {},
     "output_type": "execute_result"
    }
   ],
   "source": [
    "DFS('F')"
   ]
  },
  {
   "cell_type": "code",
   "execution_count": 5,
   "metadata": {},
   "outputs": [],
   "source": [
    "visited = []\n",
    "def dfs(start_visited):\n",
    "    visited.append(start_visited)\n",
    "    for i in graph[start_visited]:\n",
    "        if i not in visited:\n",
    "            dfs(i)\n",
    "    return visited"
   ]
  },
  {
   "cell_type": "code",
   "execution_count": 6,
   "metadata": {},
   "outputs": [
    {
     "data": {
      "text/plain": [
       "['C', 'B', 'A', 'D', 'F', 'E']"
      ]
     },
     "execution_count": 6,
     "metadata": {},
     "output_type": "execute_result"
    }
   ],
   "source": [
    "dfs('C')"
   ]
  },
  {
   "cell_type": "code",
   "execution_count": 7,
   "metadata": {},
   "outputs": [],
   "source": [
    "visited = []\n",
    "def dfs(start_visit):\n",
    "    visited.append(start_visit)\n",
    "    for i in graph[start_visit]:\n",
    "        if i not in visited:\n",
    "            dfs(i)\n",
    "    return visited"
   ]
  },
  {
   "cell_type": "code",
   "execution_count": 8,
   "metadata": {},
   "outputs": [],
   "source": [
    "# dfs('E')\n",
    "graph = {\n",
    "    'A' : ['B','D','E','F'],\n",
    "    'B' : ['A','C','D'],\n",
    "    'C' : ['B'],\n",
    "    'D' : ['A','B','F'],\n",
    "    'E' : ['A'],\n",
    "    'F' : ['A','D']\n",
    "}"
   ]
  },
  {
   "cell_type": "code",
   "execution_count": 9,
   "metadata": {},
   "outputs": [],
   "source": [
    "visited = []\n",
    "def DFS(start_visited):\n",
    "    visited.append(start_visited)\n",
    "    for i in graph[start_visited]:\n",
    "        if i not in visited:\n",
    "            DFS(i)\n",
    "    return visited"
   ]
  },
  {
   "cell_type": "code",
   "execution_count": 10,
   "metadata": {},
   "outputs": [
    {
     "data": {
      "text/plain": [
       "['B', 'A', 'D', 'F', 'E', 'C']"
      ]
     },
     "execution_count": 10,
     "metadata": {},
     "output_type": "execute_result"
    }
   ],
   "source": [
    "DFS('B')"
   ]
  },
  {
   "cell_type": "code",
   "execution_count": null,
   "metadata": {},
   "outputs": [],
   "source": []
  }
 ],
 "metadata": {
  "kernelspec": {
   "display_name": "Python 3",
   "language": "python",
   "name": "python3"
  },
  "language_info": {
   "codemirror_mode": {
    "name": "ipython",
    "version": 3
   },
   "file_extension": ".py",
   "mimetype": "text/x-python",
   "name": "python",
   "nbconvert_exporter": "python",
   "pygments_lexer": "ipython3",
   "version": "3.10.11"
  },
  "orig_nbformat": 4
 },
 "nbformat": 4,
 "nbformat_minor": 2
}
