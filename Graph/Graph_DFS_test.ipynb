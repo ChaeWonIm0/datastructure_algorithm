{
 "cells": [
  {
   "attachments": {},
   "cell_type": "markdown",
   "metadata": {},
   "source": [
    "### DFS 문제\n",
    "### Keys and Rooms\n",
    "\n",
    "0번방부터 n-1번방까지 총 n개의 방이 있습니다. 0번 방을 제외한 모든 방은 잠겨있고, 우리의 목표는 모든 방에 visit하는 것입니다. 하지만 잠겨져 있는 방은 key가 없으면 visit할수 없고, 각 방에 방문할 때, 별개의 열쇠뭉치를 찾을 수도 있습니다. 각각의 열쇠에는 number가 쓰여져 있고, 해당 번호에 해당하는 방을 잠금 해제할 수 있습니다. 열쇠 뭉치는 모두 가져갈 수 있고, 언제든 방문을 열기 위해 사용할 수 있습니다.\n",
    "\n",
    "문제에서 rooms 배열이 주어지고, rooms[i]는 해당 방에서 얻을 수 있는 열쇠뭉치 목록을 표현합니다. \n",
    "\n",
    "* 모든 방을 visit할 수 있다면 True, 그렇지 않다면 False를 반환하라.\n",
    "\n",
    "\n",
    "https://leetcode.com/problems/keys-and-rooms/"
   ]
  },
  {
   "attachments": {},
   "cell_type": "markdown",
   "metadata": {},
   "source": [
    "- 제약조건\n",
    "- n == rooms.length\n",
    "- 2 <= n <= 1000\n",
    "- 0 <= rooms[i].length <= 1000\n",
    "- 1 <= sum(rooms[i].length) <= 3000\n",
    "- 0 <= rooms[i][j] < n\n",
    "- All the values of rooms[i] are unique."
   ]
  },
  {
   "cell_type": "code",
   "execution_count": null,
   "metadata": {},
   "outputs": [],
   "source": [
    "rooms = [\n",
    "    [1], [2], [3], []\n",
    "    ]\n",
    "True\n"
   ]
  },
  {
   "attachments": {},
   "cell_type": "markdown",
   "metadata": {},
   "source": []
  },
  {
   "cell_type": "code",
   "execution_count": null,
   "metadata": {},
   "outputs": [],
   "source": [
    "# 문제에서 제공\n",
    "class Solution:\n",
    "    def canVisitAllRooms(self, rooms: List[List[int]]) -> bool:"
   ]
  },
  {
   "cell_type": "code",
   "execution_count": null,
   "metadata": {},
   "outputs": [],
   "source": [
    "def BFS(start_visited):\n",
    "    visited = []\n",
    "    visited.append(start_visited)\n",
    "    for v in rooms(start_visited):\n",
    "        if v not in visited:\n",
    "            BFS(v)\n",
    "    \n",
    "    return visited"
   ]
  },
  {
   "cell_type": "code",
   "execution_count": null,
   "metadata": {},
   "outputs": [],
   "source": [
    "BFS(rooms)"
   ]
  },
  {
   "cell_type": "code",
   "execution_count": null,
   "metadata": {},
   "outputs": [],
   "source": [
    "# 내 풀이\n",
    "class Solution:\n",
    "    def canVisitAllRooms(self, rooms: list[list[int]]) -> bool:\n",
    "        visited = []\n",
    "        current_visited = 0\n",
    "        bool_text = True\n",
    "        \n",
    "        def BFS(current_visited):\n",
    "            for key, room in enumerate(rooms):\n",
    "                visited.append(key)\n",
    "                for i in rooms[current_visited]:\n",
    "                    if i not in visited:\n",
    "                        BFS(current_visited)\n",
    "        for key, room in enumerate(rooms):\n",
    "            if [key] == room and len(room) == 1:\n",
    "                bool_text = False\n",
    "            elif [key] == room and room[0] == room[1]:\n",
    "                bool_text = False     \n",
    "                break\n",
    "            visited.append(room)\n",
    "            q = visited.pop()\n",
    "            if q == key:\n",
    "                bool_text = True\n",
    "                break\n",
    "            if rooms[0] == rooms[1]:\n",
    "                bool_text = False\n",
    "                break\n",
    "\n",
    "        return bool_text"
   ]
  },
  {
   "cell_type": "code",
   "execution_count": null,
   "metadata": {},
   "outputs": [],
   "source": [
    "s = Solution\n",
    "s.canVisitAllRooms(s, rooms)"
   ]
  },
  {
   "cell_type": "code",
   "execution_count": null,
   "metadata": {},
   "outputs": [],
   "source": [
    "# 해결책\n",
    "# 리스트를 사용하기 적합하게 되어 있음\n",
    "# key가 아니라 다음에 방문할 key를 의미!\n",
    "# 다수의 node가 존재할수도\n",
    "# 자신의 방에 자기 key 주소만 존재하면 false, key가 아예 없어도 false\n",
    "# 자신의 방에 자기 key 주소가 존재하지만 다른 인덱스도 같이 있고, 다른 사람\n",
    "# 방에 자기 인덱스가 존재하면 True\n",
    "# 자신의 방에 다른사람 주소가 존재 AND 모든 방의 인덱스 주소가 존재하면 True\n",
    "\n"
   ]
  },
  {
   "attachments": {},
   "cell_type": "markdown",
   "metadata": {},
   "source": [
    "#### 새로운 예시\n",
    "\n",
    "* DFS 든 BFS든 완전탐색 입니다."
   ]
  },
  {
   "cell_type": "code",
   "execution_count": null,
   "metadata": {},
   "outputs": [],
   "source": [
    "# DFS로 생각하기\n",
    "rooms2 = [[1,3], [2,4], [0], [4], [3,4]]\n",
    "False\n",
    "# 시간복잡도는 O(v+e) (v = vertex, e = edge)"
   ]
  },
  {
   "cell_type": "code",
   "execution_count": null,
   "metadata": {},
   "outputs": [],
   "source": [
    "# 오리지널 dfs\n",
    "def DFS(start_visited):\n",
    "    visited = []\n",
    "    visited.append(start_visited)\n",
    "    for i in rooms[start_visited]:\n",
    "        if i not in visited:\n",
    "            DFS(i)\n",
    "    return visited\n"
   ]
  },
  {
   "cell_type": "code",
   "execution_count": 33,
   "metadata": {},
   "outputs": [
    {
     "data": {
      "text/plain": [
       "True"
      ]
     },
     "execution_count": 33,
     "metadata": {},
     "output_type": "execute_result"
    }
   ],
   "source": [
    "# BFS로 생각하기\n",
    "from collections import deque\n",
    "rooms = [[1,3],[3,0,1],[2],[0]]\n",
    "True"
   ]
  },
  {
   "cell_type": "code",
   "execution_count": 28,
   "metadata": {},
   "outputs": [],
   "source": [
    "# 문제에서 제공\n",
    "class Solution:\n",
    "    def canVisitAllRooms(self, rooms: list[list[int]]) -> bool:\n",
    "        visited = []\n",
    "        # 모든 방에 방문해야 합니다.\n",
    "        def DFS(current_visited):\n",
    "            visited.append(current_visited)\n",
    "            for next_visited in rooms[current_visited]:\n",
    "                # 방문하지 \"않은 곳만\" 이라는 조건\n",
    "                if next_visited not in visited:\n",
    "                    DFS(next_visited)\n",
    "\n",
    "\n",
    "        DFS(0)\n",
    "        \n",
    "        \n",
    "        if len(visited) == len(rooms):\n",
    "            return True\n",
    "        else: \n",
    "            return False\n"
   ]
  },
  {
   "cell_type": "code",
   "execution_count": 34,
   "metadata": {},
   "outputs": [
    {
     "data": {
      "text/plain": [
       "False"
      ]
     },
     "execution_count": 34,
     "metadata": {},
     "output_type": "execute_result"
    }
   ],
   "source": [
    "s = Solution\n",
    "s.canVisitAllRooms(s, rooms)"
   ]
  },
  {
   "cell_type": "code",
   "execution_count": null,
   "metadata": {},
   "outputs": [],
   "source": [
    "# 또 다른 방법\n",
    "from collections import deque\n",
    "class Solution:\n",
    "    def canVisitAllRooms(self, rooms: list[list[int]]) -> bool:\n",
    "        visited = [False] * len(rooms)\n",
    "        # 모든 방에 방문해야 합니다.\n",
    "        def BFS(current_visited):\n",
    "            q = deque()\n",
    "            q.append(current_visited)\n",
    "            visited[current_visited] = True\n",
    "            while q:\n",
    "                next_visited = q.popleft()\n",
    "                for next_key in rooms[next_visited]:\n",
    "                    if visited[next_key] == False:\n",
    "                        q.append(next_key)\n",
    "                        visited[next_key] = True\n",
    "        BFS(0)\n",
    "\n",
    "        return all(visited)\n",
    "\n",
    "        # return visited"
   ]
  },
  {
   "cell_type": "code",
   "execution_count": null,
   "metadata": {},
   "outputs": [],
   "source": [
    "s = Solution\n",
    "s.canVisitAllRooms(s, rooms)"
   ]
  },
  {
   "cell_type": "code",
   "execution_count": 22,
   "metadata": {},
   "outputs": [],
   "source": [
    "# DFS\n",
    "\n",
    "# 문제에서 제공\n",
    "class Solution:\n",
    "    def canVisitAllRooms(self, rooms: list[list[int]]) -> bool:\n",
    "        visited = [False]*len(rooms)\n",
    "        def dfs(current_visited):\n",
    "            visited.append(current_visited)\n",
    "            for next_visited in rooms[current_visited]:\n",
    "                if next_visited not in visited:\n",
    "                    dfs(next_visited)\n",
    "        \n",
    "        dfs(0)\n",
    "\n",
    "        if len(visited) == len(rooms):\n",
    "            return True\n",
    "        else:\n",
    "            return False\n"
   ]
  },
  {
   "cell_type": "code",
   "execution_count": 35,
   "metadata": {},
   "outputs": [
    {
     "data": {
      "text/plain": [
       "False"
      ]
     },
     "execution_count": 35,
     "metadata": {},
     "output_type": "execute_result"
    }
   ],
   "source": [
    "s = Solution\n",
    "s.canVisitAllRooms(s, rooms)"
   ]
  },
  {
   "cell_type": "code",
   "execution_count": 36,
   "metadata": {},
   "outputs": [],
   "source": [
    "# 마지막 시도\n",
    "class Solution:\n",
    "    def canVisitAllRooms(self, rooms: list[list[int]]) -> bool:\n",
    "\n",
    "        visited = []\n",
    "        \n",
    "\n",
    "        def DFS(current_visited):\n",
    "            visited.append(current_visited)\n",
    "            for next_visited in rooms[current_visited]:\n",
    "                if next_visited not in visited:\n",
    "                    DFS(next_visited)\n",
    "        \n",
    "        DFS(0)\n",
    "\n",
    "        if len(visited) == len(rooms):\n",
    "            return True\n",
    "        else:\n",
    "            return False\n"
   ]
  },
  {
   "cell_type": "code",
   "execution_count": 37,
   "metadata": {},
   "outputs": [
    {
     "data": {
      "text/plain": [
       "False"
      ]
     },
     "execution_count": 37,
     "metadata": {},
     "output_type": "execute_result"
    }
   ],
   "source": [
    "class Solution:\n",
    "    def canVisitAllRooms(self, rooms: list[list[int]]) -> bool:\n",
    "        visited = []\n",
    "        def DFS(current_visited):\n",
    "            visited.append(current_visited)\n",
    "            for next_visited in rooms[current_visited]:\n",
    "                if next_visited not in visited:\n",
    "                    DFS(next_visited)\n",
    "\n",
    "        DFS(0)\n",
    "        if len(visited) == len(rooms):\n",
    "            return True\n",
    "        else:\n",
    "            return False\n",
    "s = Solution\n",
    "s.canVisitAllRooms(s, rooms)"
   ]
  },
  {
   "cell_type": "code",
   "execution_count": null,
   "metadata": {},
   "outputs": [],
   "source": []
  }
 ],
 "metadata": {
  "kernelspec": {
   "display_name": "Python 3",
   "language": "python",
   "name": "python3"
  },
  "language_info": {
   "codemirror_mode": {
    "name": "ipython",
    "version": 3
   },
   "file_extension": ".py",
   "mimetype": "text/x-python",
   "name": "python",
   "nbconvert_exporter": "python",
   "pygments_lexer": "ipython3",
   "version": "3.10.11"
  },
  "orig_nbformat": 4
 },
 "nbformat": 4,
 "nbformat_minor": 2
}
