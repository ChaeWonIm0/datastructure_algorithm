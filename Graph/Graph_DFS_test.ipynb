{
 "cells": [
  {
   "attachments": {},
   "cell_type": "markdown",
   "metadata": {},
   "source": [
    "## Number of islands\n",
    "\n",
    "* grid는 \"1\"(land)와 \"0\"(water)으로 이루어진 지도를 표현하는 m x n 이차원 배열이다. 이 지도에 표시된 섬들의 총 갯수를 반환하시오.\n",
    "* 섬이란 수평과 수직으로 땅이 연결되어 있고 주변은 물로 둘러 쌓여있는 것을 말한다. 또한 grid의 네 개의 가장자리는 모두 물로 둘러쌓여 있다고 가정합니다.\n"
   ]
  },
  {
   "attachments": {},
   "cell_type": "markdown",
   "metadata": {},
   "source": [
    "### 제약조건\n",
    "* m == grid.length\n",
    "* n == grid[i].length\n",
    "* 1 <= m,n <= 300\n",
    "* grid[i][j] is '0' or '1'\n"
   ]
  },
  {
   "cell_type": "code",
   "execution_count": 1,
   "metadata": {},
   "outputs": [],
   "source": [
    "# input 예시\n",
    "grid = [\n",
    "    ['1','1','1','1','0'],\n",
    "    ['1','1','0','1','0'],\n",
    "    ['1','1','0','0','0'],\n",
    "    ['0','0','0','0','0'],\n",
    "]\n",
    "output = 1\n",
    "# https://leetcode.com/problems/number-of-islands/"
   ]
  },
  {
   "cell_type": "code",
   "execution_count": null,
   "metadata": {},
   "outputs": [],
   "source": [
    "# 문제에서 제공\n",
    "class Solution:\n",
    "    def numIslands(self, grid: List[List[str]]) -> int:"
   ]
  }
 ],
 "metadata": {
  "kernelspec": {
   "display_name": "Python 3",
   "language": "python",
   "name": "python3"
  },
  "language_info": {
   "codemirror_mode": {
    "name": "ipython",
    "version": 3
   },
   "file_extension": ".py",
   "mimetype": "text/x-python",
   "name": "python",
   "nbconvert_exporter": "python",
   "pygments_lexer": "ipython3",
   "version": "3.10.11"
  },
  "orig_nbformat": 4
 },
 "nbformat": 4,
 "nbformat_minor": 2
}
