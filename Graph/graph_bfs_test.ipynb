{
 "cells": [
  {
   "attachments": {},
   "cell_type": "markdown",
   "metadata": {},
   "source": [
    "### Shortest Path in binary matrix\n",
    "\n",
    "* n x n binary matrix인 grid가 주어졌을 때, 출발지에서 목적지가지 도착하는 가장 빠른 경로의 길이를 반환하시오. 만약, 경로가 없다면 -1을 반환합니다.\n",
    "* 출발지 : top-left cell\n",
    "* 목적지 : bottom-right cell\n",
    "\n",
    "- 값이 0인 cell만 지나갈 수 있습니다.\n",
    "- cell끼리는 8가지 방향으로 연결되어 있습니다.(edge와 corner의 방향으로 총 8가지)\n",
    "- 연결된 cell을 통해서만 지나갈 수 있습니다."
   ]
  },
  {
   "attachments": {},
   "cell_type": "markdown",
   "metadata": {},
   "source": [
    "* 제약조건\n",
    "* n == grid.length\n",
    "* n == grid[i].length\n",
    "* 1 <= n <= 100\n",
    "* grid[i][j] i 0 or 1"
   ]
  },
  {
   "cell_type": "code",
   "execution_count": 3,
   "metadata": {},
   "outputs": [],
   "source": [
    "grid = [\n",
    "    [0,0,0],\n",
    "    [1,1,0],\n",
    "    [1,1,0],\n",
    "]\n",
    "output = 4\n",
    "grid2 = [\n",
    "    [0,1],\n",
    "    [1,0]\n",
    "]\n",
    "output2 = 2"
   ]
  },
  {
   "cell_type": "code",
   "execution_count": 1,
   "metadata": {},
   "outputs": [
    {
     "ename": "SyntaxError",
     "evalue": "incomplete input (2500526868.py, line 2)",
     "output_type": "error",
     "traceback": [
      "\u001b[1;36m  Cell \u001b[1;32mIn[1], line 2\u001b[1;36m\u001b[0m\n\u001b[1;33m    def shortestPathBinaryMatrix(self, grid: List[List[int]]) -> int:\u001b[0m\n\u001b[1;37m                                                                     ^\u001b[0m\n\u001b[1;31mSyntaxError\u001b[0m\u001b[1;31m:\u001b[0m incomplete input\n"
     ]
    }
   ],
   "source": [
    "# 문제에서 기본 제공\n",
    "class Solution:\n",
    "    def shortestPathBinaryMatrix(self, grid: List[List[int]]) -> int:"
   ]
  },
  {
   "cell_type": "code",
   "execution_count": 5,
   "metadata": {},
   "outputs": [],
   "source": [
    "from collections import deque\n",
    "class Solution:\n",
    "    def shortestPathBinaryMatrix(self, grid: list[list[int]]) -> int:\n",
    "        shortest_path = -1\n",
    "        row = len(grid)\n",
    "        col = len(grid[0])\n",
    "        visited = []\n",
    "        visited = [[False]*col for i in range(row)]\n",
    "        count = 0\n",
    "        def bfs(x,y):\n",
    "            q = deque()\n",
    "            q.append((x,y))\n",
    "            visited[x][y] = True\n",
    "            dx = [-1, 1, 0, 0, -1, -1, 1, 1]\n",
    "            dy = [0, 0, -1, 1, 1, -1, -1, 1]\n",
    "            while q:\n",
    "                current_x, current_y = q.popleft()\n",
    "                for i in range(4):\n",
    "                    next_x = current_x + dx[i]\n",
    "                    next_y = current_y + dy[i]\n",
    "                    if next_x >= 0 and next_x < row and next_y >= 0 and next_y < col:\n",
    "                        if grid[next_x][next_y] == \"0\" and not visited[next_x][next_y]:\n",
    "                            visited[next_x][next_y] = True\n",
    "                            q.append((next_x, next_y))\n",
    "                            count += 1\n",
    "        if grid[0][0] != \"1\":\n",
    "            shortest_path = 1\n",
    "            for i in range(row):\n",
    "                for j in range(col):                    \n",
    "                    if grid[i][j] == \"0\" and not visited[i][j]:                        \n",
    "                        bfs(i,j)\n",
    "                        shortest_path = shortest_path + count\n",
    "        return shortest_path"
   ]
  },
  {
   "cell_type": "code",
   "execution_count": null,
   "metadata": {},
   "outputs": [],
   "source": [
    "s = Solution\n",
    "s.shortestPathBinaryMatrix()"
   ]
  }
 ],
 "metadata": {
  "kernelspec": {
   "display_name": "Python 3",
   "language": "python",
   "name": "python3"
  },
  "language_info": {
   "codemirror_mode": {
    "name": "ipython",
    "version": 3
   },
   "file_extension": ".py",
   "mimetype": "text/x-python",
   "name": "python",
   "nbconvert_exporter": "python",
   "pygments_lexer": "ipython3",
   "version": "3.10.11"
  },
  "orig_nbformat": 4
 },
 "nbformat": 4,
 "nbformat_minor": 2
}
