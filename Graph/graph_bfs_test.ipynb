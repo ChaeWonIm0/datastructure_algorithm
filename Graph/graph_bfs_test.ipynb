{
 "cells": [
  {
   "attachments": {},
   "cell_type": "markdown",
   "metadata": {},
   "source": [
    "### Shortest Path in binary matrix\n",
    "\n",
    "* $n * n$ binary matrix인 grid가 주어졌을 때, 출발지에서 목적지가지 도착하는 가장 빠른 경로의 길이를 반환하시오. 만약, 경로가 없다면 -1을 반환합니다.\n",
    "* 출발지 : top-left cell\n",
    "* 목적지 : bottom-right cell\n",
    "\n",
    "- 값이 0인 cell만 지나갈 수 있습니다.\n",
    "- cell끼리는 8가지 방향으로 연결되어 있습니다.(edge와 corner의 방향으로 총 8가지)\n",
    "- 연결된 cell을 통해서만 지나갈 수 있습니다."
   ]
  },
  {
   "attachments": {},
   "cell_type": "markdown",
   "metadata": {},
   "source": [
    "* 제약조건\n",
    "* $n == grid.length$\n",
    "* $n == grid[i].length$\n",
    "* $1 <= n <= 100$\n",
    "* $grid[i][j] i 0 or 1$"
   ]
  },
  {
   "cell_type": "code",
   "execution_count": 44,
   "metadata": {},
   "outputs": [],
   "source": [
    "grid = [\n",
    "    [0,0,0],\n",
    "    [1,1,0],\n",
    "    [1,1,0],\n",
    "]\n",
    "output = 4\n",
    "grid2 = [\n",
    "    [0,1],\n",
    "    [1,0]\n",
    "]\n",
    "output2 = 2"
   ]
  },
  {
   "cell_type": "code",
   "execution_count": 45,
   "metadata": {},
   "outputs": [
    {
     "ename": "SyntaxError",
     "evalue": "incomplete input (3908221243.py, line 3)",
     "output_type": "error",
     "traceback": [
      "\u001b[1;36m  Cell \u001b[1;32mIn[45], line 3\u001b[1;36m\u001b[0m\n\u001b[1;33m    def shortestPathBinaryMatrix(self, grid: List[List[int]]) -> int:\u001b[0m\n\u001b[1;37m                                                                     ^\u001b[0m\n\u001b[1;31mSyntaxError\u001b[0m\u001b[1;31m:\u001b[0m incomplete input\n"
     ]
    }
   ],
   "source": [
    "# 문제에서 기본 제공\n",
    "class Solution:\n",
    "    def shortestPathBinaryMatrix(self, grid: List[List[int]]) -> int:"
   ]
  },
  {
   "cell_type": "code",
   "execution_count": null,
   "metadata": {},
   "outputs": [],
   "source": [
    "# 내 풀이\n",
    "from collections import deque\n",
    "class Solution:\n",
    "    def shortestPathBinaryMatrix(self, grid: list[list[int]]) -> int:\n",
    "        row = len(grid)\n",
    "        col = len(grid[0])\n",
    "        visited = []\n",
    "        visited = [[False]*col for i in range(row)]\n",
    "        count = 0\n",
    "        def bfs(x,y):\n",
    "            q = deque()\n",
    "            q.append((x,y))\n",
    "            visited[x][y] = True\n",
    "            dx = [-1, 1, 0, 0, -1, -1, 1, 1]\n",
    "            dy = [0, 0, -1, 1, 1, -1, -1, 1]\n",
    "            count = 0\n",
    "            while q:\n",
    "                current_x, current_y = q.popleft()\n",
    "                for i in range(8):\n",
    "                    next_x = current_x + dx[i]\n",
    "                    next_y = current_y + dy[i]\n",
    "                    if next_x >= 0 and next_x < row and next_y >= 0 and next_y < col:\n",
    "                        if grid[next_x][next_y] == 0 and not visited[next_x][next_y]:\n",
    "                            visited[next_x][next_y] = True\n",
    "                            q.append((next_x, next_y))\n",
    "                            count += 1\n",
    "\n",
    "        if grid[0][0] == 0:\n",
    "            shortest_path = 1\n",
    "            for i in range(row):\n",
    "                for j in range(col):                    \n",
    "                    if grid[i][j] == 0 and not visited[i][j]:                        \n",
    "                        bfs(i,j)\n",
    "                        shortest_path = shortest_path + count\n",
    "        else:\n",
    "            shortest_path = -1\n",
    "        return shortest_path"
   ]
  },
  {
   "cell_type": "code",
   "execution_count": null,
   "metadata": {},
   "outputs": [
    {
     "data": {
      "text/plain": [
       "1"
      ]
     },
     "execution_count": 40,
     "metadata": {},
     "output_type": "execute_result"
    }
   ],
   "source": [
    "s = Solution\n",
    "s.shortestPathBinaryMatrix(s, grid=grid2)"
   ]
  },
  {
   "cell_type": "code",
   "execution_count": 49,
   "metadata": {},
   "outputs": [],
   "source": [
    "# 해결안\n",
    "# 자료구조를 어떤 것을 가져올까?\n",
    "# 암시적 그래프"
   ]
  },
  {
   "cell_type": "code",
   "execution_count": 47,
   "metadata": {},
   "outputs": [
    {
     "data": {
      "text/plain": [
       "[[0, 0, 0, 1, 0, 0, 0],\n",
       " [0, 1, 1, 0, 0, 1, 0],\n",
       " [0, 1, 0, 0, 0, 1, 0],\n",
       " [0, 0, 0, 1, 1, 1, 0],\n",
       " [0, 1, 0, 1, 0, 0, 0],\n",
       " [0, 0, 0, 0, 1, 0, 0],\n",
       " [1, 0, 0, 1, 0, 0, 0]]"
      ]
     },
     "execution_count": 47,
     "metadata": {},
     "output_type": "execute_result"
    }
   ],
   "source": [
    "grid3 = [\n",
    "    [0,0,0,1,0,0,0],\n",
    "    [0,1,1,0,0,1,0],\n",
    "    [0,1,0,0,0,1,0],\n",
    "    [0,0,0,1,1,1,0],\n",
    "    [0,1,0,1,0,0,0],\n",
    "    [0,0,0,0,1,0,0],\n",
    "    [1,0,0,1,0,0,0],\n",
    "]\n",
    "output3 = 9\n",
    "grid3"
   ]
  },
  {
   "attachments": {
    "image.png": {
     "image/png": "[encoded data removed]"
    }
   },
   "cell_type": "markdown",
   "metadata": {},
   "source": [
    "![image.png](attachment:image.png)"
   ]
  },
  {
   "cell_type": "code",
   "execution_count": 48,
   "metadata": {},
   "outputs": [],
   "source": [
    "# 탐색이 8가지 방향으로\n",
    "# shortest path binary graph = 사실 미로찾기 문제이다\n",
    "# 가장 오래 걸리는 경로일 경우 = 깊이 우선 탐색\n",
    "# 가장 빨리 도착하는 경로일 경우 = \"BFS\""
   ]
  },
  {
   "cell_type": "code",
   "execution_count": 65,
   "metadata": {},
   "outputs": [],
   "source": [
    "from collections import deque\n",
    "class Solution:\n",
    "    # 현재의 사각형은 직사각형이다\n",
    "    def shortestPathBinaryMatrix(self, grid: list[list[int]]) -> int:\n",
    "        shortest_path = -1\n",
    "        \n",
    "        row = col = len(grid)\n",
    "        if grid[0][0] != 0 or grid[row-1][col-1] != 0:\n",
    "             return shortest_path\n",
    "\n",
    "        q = deque()\n",
    "        q.append((0,0,1))\n",
    "        \n",
    "        visited = [[False]*col for i in range(row)]\n",
    "        visited[0][0] = True\n",
    "        while q:\n",
    "            # 목적지에 도착했을 때, 그때의 current_len을 shortest_path에 저장\n",
    "            current_row, current_col, current_len = q.popleft()\n",
    "            # 목적지 (여기서 끝나는 것도 가능)\n",
    "            if current_row == row -1 and current_col == col -1:\n",
    "                 shortest_path = current_len\n",
    "                 break\n",
    "            # 연결되어 있는 vertex 확인\n",
    "            delta = [(-1, 0), (1,0), (0,-1), (0,1),(-1,1), (-1,-1), (1,-1), (1,1)]\n",
    "            for dx, dy in delta:\n",
    "                next_row = current_row + dx\n",
    "                next_col = current_col + dy                    \n",
    "                if next_row >= 0 and next_row < row and next_col >= 0 and next_col < col:\n",
    "                     if grid[next_row][next_col] == 0 and not visited[next_row][next_col]:\n",
    "                        q.append((next_row, next_col, current_len + 1))\n",
    "                        visited[next_row][next_col] = True        \n",
    "        \n",
    "        return shortest_path"
   ]
  },
  {
   "cell_type": "code",
   "execution_count": 66,
   "metadata": {},
   "outputs": [
    {
     "data": {
      "text/plain": [
       "2"
      ]
     },
     "execution_count": 66,
     "metadata": {},
     "output_type": "execute_result"
    }
   ],
   "source": [
    "s = Solution\n",
    "s.shortestPathBinaryMatrix(s, grid=grid2)"
   ]
  },
  {
   "cell_type": "code",
   "execution_count": 70,
   "metadata": {},
   "outputs": [],
   "source": [
    "from collections import deque\n",
    "# 문제에서 기본 제공\n",
    "class Solution:\n",
    "    def shortestPathBinaryMatrix(self, grid: list[list[int]]) -> int:\n",
    "        visited = []\n",
    "        shortest_path = -1\n",
    "        col = row = len(grid)\n",
    "        visited = [[False]*col for i in range(row)]\n",
    "        if grid[0][0] != 0:\n",
    "            return shortest_path\n",
    "        q = deque()\n",
    "        q.append((0, 0, 1))\n",
    "        visited[0][0] = True\n",
    "        while q:\n",
    "            current_r, current_c, current_len = q.popleft()\n",
    "            if current_r == row -1 and current_c == col -1:\n",
    "                shortest_path = current_len\n",
    "                break\n",
    "            delta = [(-1,0), (1, 0), (0, -1), (0, 1), (-1, -1), (-1, 1), (1, 1), (1, -1)]\n",
    "            \n",
    "            for dx, dy in delta:\n",
    "                next_r = current_r + dx\n",
    "                next_c = current_c + dy\n",
    "                if next_r >= 0 and next_r < row and next_c >= 0 and next_c < col:\n",
    "                    if grid[next_r][next_c] == 0 and not visited[next_r][next_c]:                        \n",
    "                        q.append((next_r, next_c, current_len+1))\n",
    "                        visited[next_r][next_c] = True\n",
    "            \n",
    "\n",
    "\n",
    "        return shortest_path"
   ]
  },
  {
   "cell_type": "code",
   "execution_count": 71,
   "metadata": {},
   "outputs": [
    {
     "data": {
      "text/plain": [
       "9"
      ]
     },
     "execution_count": 71,
     "metadata": {},
     "output_type": "execute_result"
    }
   ],
   "source": [
    "s = Solution\n",
    "s.shortestPathBinaryMatrix(s, grid=grid3)"
   ]
  },
  {
   "cell_type": "code",
   "execution_count": 82,
   "metadata": {},
   "outputs": [],
   "source": [
    "from collections import deque\n",
    "# 문제에서 기본 제공\n",
    "class Solution:\n",
    "    def shortestPathBinaryMatrix(self, grid: list[list[int]]) -> int:\n",
    "        shortestpath = -1\n",
    "        if grid[0][0] != 0:\n",
    "            return shortestpath\n",
    "        row = col = len(grid)\n",
    "        visited = []\n",
    "        visited = [[False]*col for i in range(row)]\n",
    "        visited[0][0] = True\n",
    "        \n",
    "        q = deque()\n",
    "        q.append((0,0,1))\n",
    "\n",
    "        while q:\n",
    "            current_row, current_col, current_len = q.popleft()\n",
    "            if current_row == row -1 and current_col == col -1:\n",
    "                shortestpath = current_len\n",
    "                break\n",
    "            move = [(-1, 0), (1, 0), (0, -1), (0, 1), (1, 1), (1, -1), (-1, 1), (-1, -1)]\n",
    "            for dx, dy in move:\n",
    "                next_col = current_col + dy\n",
    "                next_row = current_row + dx\n",
    "                if next_col >= 0 and next_col < col and next_row >= 0 and next_row < row:\n",
    "                    if grid[next_row][next_col] == 0 and not visited[next_row][next_col]:\n",
    "                        q.append((next_row, next_col, current_len+1))\n",
    "                        visited[next_row][next_col] = True\n",
    "\n",
    "        return shortestpath"
   ]
  },
  {
   "cell_type": "code",
   "execution_count": 83,
   "metadata": {},
   "outputs": [
    {
     "data": {
      "text/plain": [
       "9"
      ]
     },
     "execution_count": 83,
     "metadata": {},
     "output_type": "execute_result"
    }
   ],
   "source": [
    "s = Solution\n",
    "s.shortestPathBinaryMatrix(s, grid=grid3)"
   ]
  },
  {
   "cell_type": "code",
   "execution_count": 84,
   "metadata": {},
   "outputs": [],
   "source": [
    "# 문제에서 기본 제공\n",
    "from collections import deque\n",
    "class Solution:\n",
    "    def shortestPathBinaryMatrix(self, grid: list[list[int]]) -> int:\n",
    "        shortest_path = -1\n",
    "\n",
    "        row = col = len(grid)\n",
    "        \n",
    "        visited = []\n",
    "        visited = [[False]*col for i in range(row)]\n",
    "        visited[0][0] = True\n",
    "\n",
    "        q = deque()\n",
    "        q.append((0,0,1))\n",
    "\n",
    "        if grid[0][0] != 0:\n",
    "            return shortest_path\n",
    "        while q:\n",
    "            current_row, current_col, current_len = q.popleft()\n",
    "            if current_row == row-1 and current_col == col-1:\n",
    "                shortest_path = current_len\n",
    "                break\n",
    "            delta = [(-1, 0), (1, 0), (0, -1), (0, 1)\n",
    "                     ,(-1, 1), (-1, -1), (1, 1), (1, -1)]\n",
    "            for dx, dy in delta:\n",
    "                next_row = current_row + dx\n",
    "                next_col = current_col + dy\n",
    "                if next_row >= 0 and next_row < row and next_col >= 0 and next_col < col:\n",
    "                    if grid[next_row][next_col] == 0 and not visited[next_row][next_col]:\n",
    "                        q.append((next_row, next_col, current_len +1))\n",
    "                        visited[next_row][next_col] = True\n",
    "        return shortest_path"
   ]
  },
  {
   "cell_type": "code",
   "execution_count": 85,
   "metadata": {},
   "outputs": [
    {
     "data": {
      "text/plain": [
       "9"
      ]
     },
     "execution_count": 85,
     "metadata": {},
     "output_type": "execute_result"
    }
   ],
   "source": [
    "s = Solution\n",
    "s.shortestPathBinaryMatrix(s, grid=grid3)"
   ]
  },
  {
   "cell_type": "code",
   "execution_count": null,
   "metadata": {},
   "outputs": [],
   "source": []
  }
 ],
 "metadata": {
  "kernelspec": {
   "display_name": "Python 3",
   "language": "python",
   "name": "python3"
  },
  "language_info": {
   "codemirror_mode": {
    "name": "ipython",
    "version": 3
   },
   "file_extension": ".py",
   "mimetype": "text/x-python",
   "name": "python",
   "nbconvert_exporter": "python",
   "pygments_lexer": "ipython3",
   "version": "3.10.11"
  },
  "orig_nbformat": 4
 },
 "nbformat": 4,
 "nbformat_minor": 2
}
