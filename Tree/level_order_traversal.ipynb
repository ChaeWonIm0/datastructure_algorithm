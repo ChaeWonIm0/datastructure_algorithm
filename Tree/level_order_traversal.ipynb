{
 "cells": [
  {
   "attachments": {},
   "cell_type": "markdown",
   "metadata": {},
   "source": [
    "### Maximum depth of binary tree\n",
    "\n",
    "문제에서 binary tree 하나가 주어진다. 주어진 binary tree의 최대 깊이를 반환해라.\n",
    "\n",
    "* 제약조건\n",
    " - 0 <= node 개수 <= 10^4\n",
    " - -100 <= Node.val <= 100"
   ]
  },
  {
   "cell_type": "code",
   "execution_count": null,
   "metadata": {},
   "outputs": [],
   "source": [
    "root = 3\n",
    "root.left = 5\n",
    "root.right = 1\n",
    "root.left.left = 6\n",
    "root.left.right = 2\n",
    "root.left.right.left = 7\n",
    "root.left.right.right =4\n",
    "root.right = 1\n",
    "root.right.left = 0\n",
    "root.right.right =8\n",
    "# output\n",
    "output = 4"
   ]
  },
  {
   "cell_type": "code",
   "execution_count": null,
   "metadata": {},
   "outputs": [],
   "source": [
    "# 문제에서 기본 제공\n",
    "# Definition for a binary tree node.\n",
    "# class TreeNode:\n",
    "#     def __init__(self, val=0, left=None, right=None):\n",
    "#         self.val = val\n",
    "#         self.left = left\n",
    "#         self.right = right\n",
    "class Solution:\n",
    "    def maxDepth(self, root: optional[TreeNode]) -> int:"
   ]
  },
  {
   "cell_type": "code",
   "execution_count": 16,
   "metadata": {},
   "outputs": [
    {
     "data": {
      "text/plain": [
       "3"
      ]
     },
     "execution_count": 16,
     "metadata": {},
     "output_type": "execute_result"
    }
   ],
   "source": [
    "# 해결방식\n",
    "from collections import deque\n",
    "def maxDepth(self, root):\n",
    "    q = deque()\n",
    "    max_depth=1\n",
    "    visited = []\n",
    "    if root is None:\n",
    "        return []\n",
    "    depth = 1\n",
    "    q.append((root, depth))\n",
    "    while q:\n",
    "        node, depth = q.popleft()\n",
    "        max_depth = max(max_depth, depth)\n",
    "        if node.left:\n",
    "            q.append((node.left, depth+1))\n",
    "        if node.right:\n",
    "            q.append((node.right, depth+1))\n",
    "    return max_depth\n",
    "root = [3,9,20,None,None,15,7]\n",
    "\n",
    "class TreeNode:\n",
    "    def __init__(self, value=0, left=None, right=None):\n",
    "        self.value = value\n",
    "        self.left = left\n",
    "        self.right = right\n",
    "\n",
    "root = TreeNode(value = 3)\n",
    "root.left = TreeNode(value=9)\n",
    "root.right = TreeNode(value=20)\n",
    "root.right.left = TreeNode(value=15)\n",
    "root.right.right = TreeNode(value=7)\n",
    "\n",
    "maxDepth(maxDepth, root= root)"
   ]
  },
  {
   "cell_type": "code",
   "execution_count": null,
   "metadata": {},
   "outputs": [],
   "source": [
    "# 내 풀이\n",
    "class Solution:\n",
    "    def maxDepth(self, root: Optional[TreeNode]) -> int:\n",
    "        if root is None:\n",
    "            return None\n",
    "        left = self.maxDepth(root.left)\n",
    "        right = self.maxDepth(root.right)\n",
    "        count = 1\n",
    "        while left or right:\n",
    "            if left:\n",
    "                left == root.left\n",
    "            elif right:\n",
    "                right == root.right\n",
    "            count += 1 \n",
    "        return count"
   ]
  },
  {
   "cell_type": "code",
   "execution_count": 3,
   "metadata": {},
   "outputs": [
    {
     "ename": "NameError",
     "evalue": "name 'Optional' is not defined",
     "output_type": "error",
     "traceback": [
      "\u001b[1;31m---------------------------------------------------------------------------\u001b[0m",
      "\u001b[1;31mNameError\u001b[0m                                 Traceback (most recent call last)",
      "Cell \u001b[1;32mIn[3], line 2\u001b[0m\n\u001b[0;32m      1\u001b[0m \u001b[39m# 다른사람 풀이 (시간복잡도)\u001b[39;00m\n\u001b[1;32m----> 2\u001b[0m \u001b[39mclass\u001b[39;00m \u001b[39mSolution\u001b[39;00m:\n\u001b[0;32m      3\u001b[0m     \u001b[39mdef\u001b[39;00m \u001b[39mmaxDepth\u001b[39m(\u001b[39mself\u001b[39m, root: Optional[TreeNode]) \u001b[39m-\u001b[39m\u001b[39m>\u001b[39m \u001b[39mint\u001b[39m:\n\u001b[0;32m      4\u001b[0m         queue \u001b[39m=\u001b[39m []\n",
      "Cell \u001b[1;32mIn[3], line 3\u001b[0m, in \u001b[0;36mSolution\u001b[1;34m()\u001b[0m\n\u001b[0;32m      2\u001b[0m \u001b[39mclass\u001b[39;00m \u001b[39mSolution\u001b[39;00m:\n\u001b[1;32m----> 3\u001b[0m     \u001b[39mdef\u001b[39;00m \u001b[39mmaxDepth\u001b[39m(\u001b[39mself\u001b[39m, root: Optional[TreeNode]) \u001b[39m-\u001b[39m\u001b[39m>\u001b[39m \u001b[39mint\u001b[39m:\n\u001b[0;32m      4\u001b[0m         queue \u001b[39m=\u001b[39m []\n\u001b[0;32m      5\u001b[0m         level \u001b[39m=\u001b[39m \u001b[39m0\u001b[39m\n",
      "\u001b[1;31mNameError\u001b[0m: name 'Optional' is not defined"
     ]
    }
   ],
   "source": [
    "# 다른사람 풀이 (시간복잡도)\n",
    "class Solution:\n",
    "    def maxDepth(self, root: Optional[TreeNode]) -> int:\n",
    "        queue = []\n",
    "        level = 0\n",
    "        length = 1\n",
    "        queue.append(root)\n",
    "        if root == None :\n",
    "            return 0\n",
    "\n",
    "        while len(queue) != 0 :\n",
    "            for _ in range(0, length) : # 1\n",
    "                current_node = queue.pop(0)\n",
    "                if current_node.left != None :\n",
    "                    queue.append(current_node.left)\n",
    "                if current_node.right != None :\n",
    "                    queue.append(current_node.right)   \n",
    "            length = len(queue)\n",
    "            level += 1\n",
    "        return level"
   ]
  },
  {
   "cell_type": "code",
   "execution_count": 6,
   "metadata": {},
   "outputs": [],
   "source": [
    "from collections import deque\n",
    "def bfs(root):\n",
    "    q = deque()\n",
    "    visited = []\n",
    "    if root is None:\n",
    "        return []\n",
    "    q.append(root)\n",
    "    while q:\n",
    "        current_node = q.popleft()\n",
    "        visited.append(current_node.value)\n",
    "        if current_node.left:\n",
    "            q.append(current_node.left)\n",
    "        if current_node.right:\n",
    "            q.append(current_node.right)\n",
    "    return visited\n"
   ]
  },
  {
   "cell_type": "code",
   "execution_count": null,
   "metadata": {},
   "outputs": [],
   "source": []
  }
 ],
 "metadata": {
  "kernelspec": {
   "display_name": "Python 3",
   "language": "python",
   "name": "python3"
  },
  "language_info": {
   "codemirror_mode": {
    "name": "ipython",
    "version": 3
   },
   "file_extension": ".py",
   "mimetype": "text/x-python",
   "name": "python",
   "nbconvert_exporter": "python",
   "pygments_lexer": "ipython3",
   "version": "3.10.11"
  },
  "orig_nbformat": 4
 },
 "nbformat": 4,
 "nbformat_minor": 2
}
