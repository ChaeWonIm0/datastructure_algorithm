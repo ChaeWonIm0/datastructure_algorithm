{
 "cells": [
  {
   "attachments": {},
   "cell_type": "markdown",
   "metadata": {},
   "source": [
    "### Maximum depth of binary tree\n",
    "\n",
    "문제에서 binary tree 하나가 주어진다. 주어진 binary tree의 최대 깊이를 반환해라.\n",
    "\n",
    "* 제약조건\n",
    " - 0 <= node 개수 <= 10^4\n",
    " - -100 <= Node.val <= 100"
   ]
  },
  {
   "cell_type": "code",
   "execution_count": null,
   "metadata": {},
   "outputs": [],
   "source": [
    "root = 3\n",
    "root.left = 5\n",
    "root.right = 1\n",
    "root.left.left = 6\n",
    "root.left.right = 2\n",
    "root.left.right.left = 7\n",
    "root.left.right.right =4\n",
    "root.right = 1\n",
    "root.right.left = 0\n",
    "root.right.right =8\n",
    "# output\n",
    "output = 4"
   ]
  },
  {
   "cell_type": "code",
   "execution_count": null,
   "metadata": {},
   "outputs": [],
   "source": [
    "# 문제에서 기본 제공\n",
    "# Definition for a binary tree node.\n",
    "# class TreeNode:\n",
    "#     def __init__(self, val=0, left=None, right=None):\n",
    "#         self.val = val\n",
    "#         self.left = left\n",
    "#         self.right = right\n",
    "class Solution:\n",
    "    def maxDepth(self, root: optional[TreeNode]) -> int:"
   ]
  },
  {
   "cell_type": "code",
   "execution_count": null,
   "metadata": {},
   "outputs": [],
   "source": [
    "# 가장 시간복잡도를 낮춘 해결방식 - 깊이 우선 탐색\n",
    "class Solution:\n",
    "    def maxDepth(self, root: optional[TreeNode]) -> int:\n",
    "        def DFS(root, depth):\n",
    "            if root is None:\n",
    "                return depth\n",
    "            return max(DFS(root.left, depth+1), DFS(root.right, depth+1))\n",
    "        return DFS(root, 0)"
   ]
  },
  {
   "cell_type": "code",
   "execution_count": 16,
   "metadata": {},
   "outputs": [
    {
     "data": {
      "text/plain": [
       "3"
      ]
     },
     "execution_count": 16,
     "metadata": {},
     "output_type": "execute_result"
    }
   ],
   "source": [
    "# 해결방식\n",
    "from collections import deque\n",
    "def maxDepth(self, root):\n",
    "    q = deque()\n",
    "    max_depth=1\n",
    "    visited = []\n",
    "    if root is None:\n",
    "        return []\n",
    "    depth = 1\n",
    "    q.append((root, depth))\n",
    "    while q:\n",
    "        node, depth = q.popleft()\n",
    "        max_depth = max(max_depth, depth)\n",
    "        if node.left:\n",
    "            q.append((node.left, depth+1))\n",
    "        if node.right:\n",
    "            q.append((node.right, depth+1))\n",
    "    return max_depth\n",
    "root = [3,9,20,None,None,15,7]\n",
    "\n",
    "class TreeNode:\n",
    "    def __init__(self, value=0, left=None, right=None):\n",
    "        self.value = value\n",
    "        self.left = left\n",
    "        self.right = right\n",
    "\n",
    "root = TreeNode(value = 3)\n",
    "root.left = TreeNode(value=9)\n",
    "root.right = TreeNode(value=20)\n",
    "root.right.left = TreeNode(value=15)\n",
    "root.right.right = TreeNode(value=7)\n",
    "\n",
    "maxDepth(maxDepth, root= root)"
   ]
  },
  {
   "cell_type": "code",
   "execution_count": 11,
   "metadata": {},
   "outputs": [
    {
     "ename": "StopIteration",
     "evalue": "",
     "output_type": "error",
     "traceback": [
      "\u001b[1;31m---------------------------------------------------------------------------\u001b[0m",
      "\u001b[1;31mStopIteration\u001b[0m                             Traceback (most recent call last)",
      "Cell \u001b[1;32mIn[11], line 8\u001b[0m\n\u001b[0;32m      6\u001b[0m \u001b[39mnext\u001b[39m(gen)\n\u001b[0;32m      7\u001b[0m \u001b[39mnext\u001b[39m(gen)\n\u001b[1;32m----> 8\u001b[0m \u001b[39mnext\u001b[39;49m(gen)\n",
      "\u001b[1;31mStopIteration\u001b[0m: "
     ]
    }
   ],
   "source": []
  },
  {
   "cell_type": "code",
   "execution_count": null,
   "metadata": {},
   "outputs": [],
   "source": [
    "# 내 풀이\n",
    "class Solution:\n",
    "    def maxDepth(self, root: Optional[TreeNode]) -> int:\n",
    "        if root is None:\n",
    "            return None\n",
    "        left = self.maxDepth(root.left)\n",
    "        right = self.maxDepth(root.right)\n",
    "        count = 1\n",
    "        while left or right:\n",
    "            if left:\n",
    "                left == root.left\n",
    "            elif right:\n",
    "                right == root.right\n",
    "            count += 1 \n",
    "        return count"
   ]
  },
  {
   "cell_type": "code",
   "execution_count": 3,
   "metadata": {},
   "outputs": [
    {
     "ename": "NameError",
     "evalue": "name 'Optional' is not defined",
     "output_type": "error",
     "traceback": [
      "\u001b[1;31m---------------------------------------------------------------------------\u001b[0m",
      "\u001b[1;31mNameError\u001b[0m                                 Traceback (most recent call last)",
      "Cell \u001b[1;32mIn[3], line 2\u001b[0m\n\u001b[0;32m      1\u001b[0m \u001b[39m# 다른사람 풀이 (시간복잡도)\u001b[39;00m\n\u001b[1;32m----> 2\u001b[0m \u001b[39mclass\u001b[39;00m \u001b[39mSolution\u001b[39;00m:\n\u001b[0;32m      3\u001b[0m     \u001b[39mdef\u001b[39;00m \u001b[39mmaxDepth\u001b[39m(\u001b[39mself\u001b[39m, root: Optional[TreeNode]) \u001b[39m-\u001b[39m\u001b[39m>\u001b[39m \u001b[39mint\u001b[39m:\n\u001b[0;32m      4\u001b[0m         queue \u001b[39m=\u001b[39m []\n",
      "Cell \u001b[1;32mIn[3], line 3\u001b[0m, in \u001b[0;36mSolution\u001b[1;34m()\u001b[0m\n\u001b[0;32m      2\u001b[0m \u001b[39mclass\u001b[39;00m \u001b[39mSolution\u001b[39;00m:\n\u001b[1;32m----> 3\u001b[0m     \u001b[39mdef\u001b[39;00m \u001b[39mmaxDepth\u001b[39m(\u001b[39mself\u001b[39m, root: Optional[TreeNode]) \u001b[39m-\u001b[39m\u001b[39m>\u001b[39m \u001b[39mint\u001b[39m:\n\u001b[0;32m      4\u001b[0m         queue \u001b[39m=\u001b[39m []\n\u001b[0;32m      5\u001b[0m         level \u001b[39m=\u001b[39m \u001b[39m0\u001b[39m\n",
      "\u001b[1;31mNameError\u001b[0m: name 'Optional' is not defined"
     ]
    }
   ],
   "source": [
    "# 다른사람 풀이 (시간복잡도)\n",
    "class Solution:\n",
    "    def maxDepth(self, root: Optional[TreeNode]) -> int:\n",
    "        queue = []\n",
    "        level = 0\n",
    "        length = 1\n",
    "        queue.append(root)\n",
    "        if root == None :\n",
    "            return 0\n",
    "\n",
    "        while len(queue) != 0 :\n",
    "            for _ in range(0, length) : # 1\n",
    "                current_node = queue.pop(0)\n",
    "                if current_node.left != None :\n",
    "                    queue.append(current_node.left)\n",
    "                if current_node.right != None :\n",
    "                    queue.append(current_node.right)   \n",
    "            length = len(queue)\n",
    "            level += 1\n",
    "        return level"
   ]
  },
  {
   "cell_type": "code",
   "execution_count": 17,
   "metadata": {},
   "outputs": [
    {
     "ename": "NameError",
     "evalue": "name 'optional' is not defined",
     "output_type": "error",
     "traceback": [
      "\u001b[1;31m---------------------------------------------------------------------------\u001b[0m",
      "\u001b[1;31mNameError\u001b[0m                                 Traceback (most recent call last)",
      "Cell \u001b[1;32mIn[17], line 3\u001b[0m\n\u001b[0;32m      1\u001b[0m \u001b[39mfrom\u001b[39;00m \u001b[39mcollections\u001b[39;00m \u001b[39mimport\u001b[39;00m deque\n\u001b[0;32m      2\u001b[0m deque()\n\u001b[1;32m----> 3\u001b[0m \u001b[39mclass\u001b[39;00m \u001b[39mSolution\u001b[39;00m:\n\u001b[0;32m      4\u001b[0m     \u001b[39mdef\u001b[39;00m \u001b[39mmaxDepth\u001b[39m(\u001b[39mself\u001b[39m, root: optional[TreeNode]) \u001b[39m-\u001b[39m\u001b[39m>\u001b[39m \u001b[39mint\u001b[39m:\n\u001b[0;32m      5\u001b[0m         q \u001b[39m=\u001b[39m deque()\n",
      "Cell \u001b[1;32mIn[17], line 4\u001b[0m, in \u001b[0;36mSolution\u001b[1;34m()\u001b[0m\n\u001b[0;32m      3\u001b[0m \u001b[39mclass\u001b[39;00m \u001b[39mSolution\u001b[39;00m:\n\u001b[1;32m----> 4\u001b[0m     \u001b[39mdef\u001b[39;00m \u001b[39mmaxDepth\u001b[39m(\u001b[39mself\u001b[39m, root: optional[TreeNode]) \u001b[39m-\u001b[39m\u001b[39m>\u001b[39m \u001b[39mint\u001b[39m:\n\u001b[0;32m      5\u001b[0m         q \u001b[39m=\u001b[39m deque()\n\u001b[0;32m      6\u001b[0m         max_depth \u001b[39m=\u001b[39m \u001b[39m0\u001b[39m\n",
      "\u001b[1;31mNameError\u001b[0m: name 'optional' is not defined"
     ]
    }
   ],
   "source": [
    "from collections import deque\n",
    "deque()\n",
    "class Solution:\n",
    "    def maxDepth(self, root: Optional[TreeNode]) -> int:\n",
    "        q = deque()\n",
    "        max_depth = 0\n",
    "        depth = 1\n",
    "        if root is None:\n",
    "            return max_depth\n",
    "        q.append((root, depth))\n",
    "        while q:\n",
    "            current_node, depth = q.popleft()\n",
    "            max_depth = max(depth, max_depth)\n",
    "            if current_node.left:\n",
    "                q.append((current_node.left, depth+1))\n",
    "            if current_node.right:\n",
    "                q.append((current_node.right, depth+1))\n",
    "        return max_depth\n"
   ]
  },
  {
   "cell_type": "code",
   "execution_count": 1,
   "metadata": {},
   "outputs": [
    {
     "ename": "NameError",
     "evalue": "name 'Optional' is not defined",
     "output_type": "error",
     "traceback": [
      "\u001b[1;31m---------------------------------------------------------------------------\u001b[0m",
      "\u001b[1;31mNameError\u001b[0m                                 Traceback (most recent call last)",
      "Cell \u001b[1;32mIn[1], line 3\u001b[0m\n\u001b[0;32m      1\u001b[0m \u001b[39m# postorder 방식\u001b[39;00m\n\u001b[1;32m----> 3\u001b[0m \u001b[39mclass\u001b[39;00m \u001b[39mSolution\u001b[39;00m:\n\u001b[0;32m      4\u001b[0m     \u001b[39mdef\u001b[39;00m \u001b[39mmaxDepth\u001b[39m(\u001b[39mself\u001b[39m, root: Optional[TreeNode]) \u001b[39m-\u001b[39m\u001b[39m>\u001b[39m \u001b[39mint\u001b[39m:\n\u001b[0;32m      5\u001b[0m         \u001b[39mif\u001b[39;00m root \u001b[39mis\u001b[39;00m \u001b[39mNone\u001b[39;00m:\n",
      "Cell \u001b[1;32mIn[1], line 4\u001b[0m, in \u001b[0;36mSolution\u001b[1;34m()\u001b[0m\n\u001b[0;32m      3\u001b[0m \u001b[39mclass\u001b[39;00m \u001b[39mSolution\u001b[39;00m:\n\u001b[1;32m----> 4\u001b[0m     \u001b[39mdef\u001b[39;00m \u001b[39mmaxDepth\u001b[39m(\u001b[39mself\u001b[39m, root: Optional[TreeNode]) \u001b[39m-\u001b[39m\u001b[39m>\u001b[39m \u001b[39mint\u001b[39m:\n\u001b[0;32m      5\u001b[0m         \u001b[39mif\u001b[39;00m root \u001b[39mis\u001b[39;00m \u001b[39mNone\u001b[39;00m:\n\u001b[0;32m      6\u001b[0m             \u001b[39mreturn\u001b[39;00m \u001b[39m1\u001b[39m\n",
      "\u001b[1;31mNameError\u001b[0m: name 'Optional' is not defined"
     ]
    }
   ],
   "source": [
    "# postorder 방식\n",
    "\n",
    "class Solution:\n",
    "    def maxDepth(self, root: Optional[TreeNode]) -> int:\n",
    "        if root is None:\n",
    "            return 0\n",
    "        left_depth = self.maxDepth(root.left)\n",
    "        right_depth = self.maxDepth(root.right)\n",
    "\n",
    "        return max(left_depth, right_depth)+1\n",
    "        \n",
    "        "
   ]
  },
  {
   "cell_type": "code",
   "execution_count": null,
   "metadata": {},
   "outputs": [],
   "source": [
    "def postorder(root):\n",
    "    if root is None:\n",
    "        return None\n",
    "    postorder(root.left)\n",
    "    postorder(root.right)\n",
    "    print(root.value)\n"
   ]
  },
  {
   "cell_type": "code",
   "execution_count": 9,
   "metadata": {},
   "outputs": [
    {
     "data": {
      "text/plain": [
       "1"
      ]
     },
     "execution_count": 9,
     "metadata": {},
     "output_type": "execute_result"
    }
   ],
   "source": [
    "from collections import deque\n",
    "def MaxDepth(self, root):\n",
    "    depth = 1\n",
    "    max_depth = 0\n",
    "    q= deque()\n",
    "    q.append((root, depth))\n",
    "    \n",
    "    \n",
    "    if root is None:\n",
    "        return []\n",
    "    \n",
    "    while q:\n",
    "        node, depth = q.popleft()\n",
    "        max_depth = max(max_depth, depth)\n",
    "        if node.left:\n",
    "            q.append((node.left, depth+1))\n",
    "        if node.right:\n",
    "            q.append((node.right, depth+1))\n",
    "        return max_depth\n",
    "    \n",
    "class TreeNode:\n",
    "    def __init__(self, value=0, left=None, right=None):\n",
    "        self.value = value\n",
    "        self.left = left\n",
    "        self.right = right\n",
    "\n",
    "root = TreeNode(value = 3)\n",
    "root.left = TreeNode(value=9)\n",
    "root.right = TreeNode(value=20)\n",
    "root.right.left = TreeNode(value=15)\n",
    "root.right.right = TreeNode(value=7)\n",
    "\n",
    "MaxDepth(MaxDepth, root= root)"
   ]
  },
  {
   "cell_type": "code",
   "execution_count": 5,
   "metadata": {},
   "outputs": [
    {
     "ename": "NameError",
     "evalue": "name 'optional' is not defined",
     "output_type": "error",
     "traceback": [
      "\u001b[1;31m---------------------------------------------------------------------------\u001b[0m",
      "\u001b[1;31mNameError\u001b[0m                                 Traceback (most recent call last)",
      "Cell \u001b[1;32mIn[5], line 10\u001b[0m\n\u001b[0;32m      7\u001b[0m         \u001b[39mself\u001b[39m\u001b[39m.\u001b[39mright \u001b[39m=\u001b[39m right\n\u001b[0;32m      9\u001b[0m \u001b[39mfrom\u001b[39;00m \u001b[39mcollections\u001b[39;00m \u001b[39mimport\u001b[39;00m deque\n\u001b[1;32m---> 10\u001b[0m \u001b[39mclass\u001b[39;00m \u001b[39mSolution\u001b[39;00m:\n\u001b[0;32m     11\u001b[0m     \u001b[39mdef\u001b[39;00m \u001b[39mmaxDepth\u001b[39m(\u001b[39mself\u001b[39m, root: optional[TreeNode]) \u001b[39m-\u001b[39m\u001b[39m>\u001b[39m \u001b[39mint\u001b[39m:\n\u001b[0;32m     12\u001b[0m         \u001b[39mif\u001b[39;00m root \u001b[39mis\u001b[39;00m \u001b[39mNone\u001b[39;00m:\n",
      "Cell \u001b[1;32mIn[5], line 11\u001b[0m, in \u001b[0;36mSolution\u001b[1;34m()\u001b[0m\n\u001b[0;32m     10\u001b[0m \u001b[39mclass\u001b[39;00m \u001b[39mSolution\u001b[39;00m:\n\u001b[1;32m---> 11\u001b[0m     \u001b[39mdef\u001b[39;00m \u001b[39mmaxDepth\u001b[39m(\u001b[39mself\u001b[39m, root: optional[TreeNode]) \u001b[39m-\u001b[39m\u001b[39m>\u001b[39m \u001b[39mint\u001b[39m:\n\u001b[0;32m     12\u001b[0m         \u001b[39mif\u001b[39;00m root \u001b[39mis\u001b[39;00m \u001b[39mNone\u001b[39;00m:\n\u001b[0;32m     13\u001b[0m             \u001b[39mreturn\u001b[39;00m []\n",
      "\u001b[1;31mNameError\u001b[0m: name 'optional' is not defined"
     ]
    }
   ],
   "source": [
    "# 문제에서 기본 제공\n",
    "# Definition for a binary tree node.\n",
    "class TreeNode:\n",
    "    def __init__(self, val=0, left=None, right=None):\n",
    "        self.val = val\n",
    "        self.left = left\n",
    "        self.right = right\n",
    "\n",
    "from collections import deque\n",
    "class Solution:\n",
    "    def maxDepth(self, root: optional[TreeNode]) -> int:\n",
    "        if root is None:\n",
    "            return []\n",
    "        depth = 1\n",
    "        max_depth = 1\n",
    "        q = deque()\n",
    "        q.append((root,depth))\n",
    "        current_visited = {}\n",
    "        while q:\n",
    "            node, depth = q.popleft()\n",
    "            max_depth = max(depth, max_depth)\n",
    "            if node.left:\n",
    "                q.append((node.left, depth+1))\n",
    "            if node.right:\n",
    "                q.append((node.right, depth+1))\n",
    "        return max_depth\n",
    "        "
   ]
  },
  {
   "cell_type": "code",
   "execution_count": 3,
   "metadata": {},
   "outputs": [],
   "source": [
    "# DFS\n",
    "# root.left root.left root.left\n",
    "root = [3,9,20,'null','null',15,7]\n",
    "class Solution:\n",
    "    def maxDepth(self, root: Optional[TreeNode]) -> int:\n",
    "        def DFS(root, depth):\n",
    "            if root is None:\n",
    "                return depth\n",
    "            return max(DFS(root.left, depth+1) , DFS(root.right, depth+1))\n",
    "        return DFS(root, 0)"
   ]
  },
  {
   "cell_type": "code",
   "execution_count": 4,
   "metadata": {},
   "outputs": [
    {
     "data": {
      "text/plain": [
       "{3: 0, 9: 1, 20: 2, 'null': 4, 15: 5, 7: 6}"
      ]
     },
     "execution_count": 4,
     "metadata": {},
     "output_type": "execute_result"
    }
   ],
   "source": [
    "current_visited"
   ]
  },
  {
   "cell_type": "code",
   "execution_count": null,
   "metadata": {},
   "outputs": [],
   "source": [
    "# 다시 제출한 해결책\n",
    "from collections import deque\n",
    "class Solution:\n",
    "    def maxDepth(self, root: Optional[TreeNode]) -> int:\n",
    "        if root is None:\n",
    "            return 0;\n",
    "        depth = 1\n",
    "        max_depth = 1\n",
    "        q = deque()\n",
    "        q.append((root, depth))\n",
    "        while q:\n",
    "            current_node, depth = q.popleft()\n",
    "            max_depth = max(max_depth, depth)\n",
    "            if current_node.left != None:\n",
    "                q.append((current_node.left, depth+1))\n",
    "            if current_node.right != None:\n",
    "                q.append((current_node.right, depth+1))\n",
    "        return max_depth"
   ]
  }
 ],
 "metadata": {
  "kernelspec": {
   "display_name": "Python 3",
   "language": "python",
   "name": "python3"
  },
  "language_info": {
   "codemirror_mode": {
    "name": "ipython",
    "version": 3
   },
   "file_extension": ".py",
   "mimetype": "text/x-python",
   "name": "python",
   "nbconvert_exporter": "python",
   "pygments_lexer": "ipython3",
   "version": "3.10.11"
  },
  "orig_nbformat": 4
 },
 "nbformat": 4,
 "nbformat_minor": 2
}
