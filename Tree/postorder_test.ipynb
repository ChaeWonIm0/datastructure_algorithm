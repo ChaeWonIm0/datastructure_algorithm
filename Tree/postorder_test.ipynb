{
 "cells": [
  {
   "attachments": {},
   "cell_type": "markdown",
   "metadata": {},
   "source": [
    "# postorder"
   ]
  },
  {
   "attachments": {},
   "cell_type": "markdown",
   "metadata": {},
   "source": [
    "1. 트리를 구현할 수 있는지 없는지 보거나\n",
    "2. 트리 순회를 할 수 있나 입니다."
   ]
  },
  {
   "attachments": {},
   "cell_type": "markdown",
   "metadata": {},
   "source": [
    "## Lowest common ancestor of a binary tree\n",
    "\n",
    "문제에서 이진 트리 하나와 해당 트리에 속한 두 개의 노드가 주어진다. 이때, 두 노드의 공통 조상 중 height가 가장 깊은 node 즉, lowest common ancestor(LCA)를 찾아라\n"
   ]
  },
  {
   "cell_type": "code",
   "execution_count": null,
   "metadata": {},
   "outputs": [],
   "source": [
    "# 제약조건\n",
    "2 <= node <= 10^5\n",
    "-10^9 <= node.val <= 10^9\n",
    "# 모든 node.val은 유일합니다\n",
    "p != q\n",
    "# p,q는 모두 주어진 tree에 속해있다."
   ]
  },
  {
   "cell_type": "code",
   "execution_count": 9,
   "metadata": {},
   "outputs": [
    {
     "data": {
      "text/plain": [
       "3"
      ]
     },
     "execution_count": 9,
     "metadata": {},
     "output_type": "execute_result"
    }
   ],
   "source": [
    "root = [3,5,1,6,2,0,8,None,None,7,4]\n",
    "p = 5\n",
    "q = 1\n",
    "result = 3\n"
   ]
  },
  {
   "cell_type": "code",
   "execution_count": 1,
   "metadata": {},
   "outputs": [
    {
     "ename": "SyntaxError",
     "evalue": "incomplete input (1459073644.py, line 10)",
     "output_type": "error",
     "traceback": [
      "\u001b[1;36m  Cell \u001b[1;32mIn[1], line 10\u001b[1;36m\u001b[0m\n\u001b[1;33m    \u001b[0m\n\u001b[1;37m    ^\u001b[0m\n\u001b[1;31mSyntaxError\u001b[0m\u001b[1;31m:\u001b[0m incomplete input\n"
     ]
    }
   ],
   "source": [
    "# 문제에서 기본제공\n",
    "class TreeNode:\n",
    "    def __init__(self, x):\n",
    "        self.val = x\n",
    "        self.left = None\n",
    "        self.right = None\n",
    "\n",
    "class Solution:\n",
    "    def lowestCommonAncestor(self, root: 'TreeNode', p: 'TreeNode', q: 'TreeNode') -> 'TreeNode':\n",
    "        "
   ]
  },
  {
   "cell_type": "code",
   "execution_count": 10,
   "metadata": {},
   "outputs": [],
   "source": [
    "# 문제에서 기본제공\n",
    "class TreeNode:\n",
    "    def __init__(self, x):\n",
    "        self.val = x\n",
    "        self.left = None\n",
    "        self.right = None\n",
    "\n",
    "class Solution:\n",
    "    def lowestCommonAncestor(self, root: 'TreeNode', p: 'TreeNode', q: 'TreeNode') -> 'TreeNode':\n",
    "        while lowestCommonAncestor:\n",
    "            if root is None:\n",
    "                return\n",
    "            lowestCommonAncestor(root.left)\n",
    "            lowestCommonAncestor(root.right)\n",
    "\n"
   ]
  },
  {
   "cell_type": "code",
   "execution_count": 7,
   "metadata": {},
   "outputs": [],
   "source": [
    "# 문제에서 기본제공\n",
    "class TreeNode:\n",
    "    def __init__(self, val = 0, left = None, right = None):\n",
    "        self.val = val\n",
    "        self.left = left\n",
    "        self.right = right\n",
    "\n",
    "class Solution:\n",
    "    def LCA(root, p, q):\n",
    "        if root == None:\n",
    "            return None\n",
    "        left = LCA(root.left, p, q)\n",
    "        right = LCA(root.right, q, q)\n",
    "        if root == p or root == q:\n",
    "            return root\n",
    "        elif left and right:\n",
    "            return root\n",
    "        return left or right\n",
    "\n",
    "root = [3,5,1,6,2,0,8,None,None,7,4]\n",
    "root2 = TreeNode(root)\n",
    "p = 5\n",
    "q = 1\n",
    "lca = Solution\n",
    "lca.LCA(root2, p, q)"
   ]
  },
  {
   "cell_type": "code",
   "execution_count": null,
   "metadata": {},
   "outputs": [],
   "source": [
    "def LCA(root, p, q):\n",
    "    if root == None:\n",
    "        "
   ]
  },
  {
   "cell_type": "code",
   "execution_count": 11,
   "metadata": {},
   "outputs": [],
   "source": [
    "def LCA(root, p, q):\n",
    "    if root == None:\n",
    "        return None\n",
    "    left = LCA(root.left, p, q)\n",
    "    right = LCA(root.right, q, q)\n",
    "    if root == p or root == q:\n",
    "        return root\n",
    "    elif left and right:\n",
    "        return root\n",
    "    return left or right\n",
    "\n",
    "# complete binary tree 완전 이진 트리\n",
    "class Node:\n",
    "    def __init__(self, value = 0, left = None, right = None):\n",
    "        self.value = value\n",
    "        self.left = left\n",
    "        self.right = right\n",
    "class BinaryTree:\n",
    "    def __init__(self, value=0):\n",
    "        self.root = None\n",
    "        self.value = value\n",
    "tree = BinaryTree()\n",
    "tree.root = Node(value='A')\n",
    "tree.root.left = Node(value = 'B')\n",
    "tree.root.right = Node(value = 'C')\n",
    "tree.root.left.left = Node(value = 'D')\n",
    "tree.root.left.right = Node(value = 'E')\n",
    "tree.root.right.left = Node(value = 'F')\n",
    "tree.root.right.right = Node(value = 'G')\n",
    "p = 'B'\n",
    "q = 'E'\n",
    "LCA(tree.root.left, p, q)"
   ]
  },
  {
   "cell_type": "code",
   "execution_count": 48,
   "metadata": {},
   "outputs": [],
   "source": [
    "# 문제 전제조건\n",
    "from collections import deque\n",
    "\n",
    "\n",
    "class TreeNode():\n",
    "    def __init__(self, val=0):\n",
    "        self.val = val\n",
    "        self.left = None\n",
    "        self.right = None\n",
    "\n",
    "\n",
    "def array2tree(arr):\n",
    "    q = deque()\n",
    "    root = TreeNode(arr[0])\n",
    "    q.append(root)\n",
    "\n",
    "    idx = 1\n",
    "    while idx < len(arr):\n",
    "        cur_node = q.popleft()\n",
    "\n",
    "        # left Node\n",
    "        if arr[idx] != None:\n",
    "            cur_node.left = TreeNode(arr[idx])\n",
    "            q.append(cur_node.left)\n",
    "        idx += 1\n",
    "\n",
    "        # right Node\n",
    "        if arr[idx] != None:\n",
    "            cur_node.right = TreeNode(arr[idx])\n",
    "            q.append(cur_node.right)\n",
    "        idx += 1\n",
    "    return root\n"
   ]
  },
  {
   "cell_type": "code",
   "execution_count": 56,
   "metadata": {},
   "outputs": [],
   "source": [
    "# leetcode에서 작동하는 코드\n",
    "class Solution:\n",
    "    def lowestCommonAncestor(self, root: 'TreeNode', p: 'TreeNode', q: 'TreeNode') -> 'TreeNode':\n",
    "        if root == None:\n",
    "            return None\n",
    "        left = self.lowestCommonAncestor(root.left, p, q)\n",
    "        right = self.lowestCommonAncestor(root.right, p, q)\n",
    "\n",
    "        if root == p or root == q:\n",
    "            return root\n",
    "        elif left and right:\n",
    "            return root\n",
    "        return left or right"
   ]
  },
  {
   "cell_type": "code",
   "execution_count": 42,
   "metadata": {},
   "outputs": [],
   "source": [
    "# leetcode에서 작동하는 또다른 코드\n",
    "class Solution(object):\n",
    "    def lowestCommonAncestor(self, root, p, q):         \n",
    "        if root is None:\n",
    "            return None\n",
    "        left = self.lowestCommonAncestor(self, root=root.left,p=p,q=q)\n",
    "        right = self.lowestCommonAncestor(self, root=root.right,p=p,q=q)\n",
    "        if root == p or root == q :\n",
    "            return root\n",
    "        elif left and right:\n",
    "            return root\n",
    "        elif left:\n",
    "            return left\n",
    "        elif right:\n",
    "            return right\n"
   ]
  },
  {
   "attachments": {},
   "cell_type": "markdown",
   "metadata": {},
   "source": []
  },
  {
   "cell_type": "code",
   "execution_count": 50,
   "metadata": {},
   "outputs": [
    {
     "ename": "AttributeError",
     "evalue": "'list' object has no attribute 'left'",
     "output_type": "error",
     "traceback": [
      "\u001b[1;31m---------------------------------------------------------------------------\u001b[0m",
      "\u001b[1;31mAttributeError\u001b[0m                            Traceback (most recent call last)",
      "Cell \u001b[1;32mIn[50], line 15\u001b[0m\n\u001b[0;32m     12\u001b[0m     \u001b[39melif\u001b[39;00m right:\n\u001b[0;32m     13\u001b[0m         \u001b[39mreturn\u001b[39;00m right\n\u001b[1;32m---> 15\u001b[0m LCA([\u001b[39m3\u001b[39;49m,\u001b[39m5\u001b[39;49m,\u001b[39m1\u001b[39;49m,\u001b[39m6\u001b[39;49m,\u001b[39m2\u001b[39;49m,\u001b[39m0\u001b[39;49m,\u001b[39m8\u001b[39;49m,\u001b[39mNone\u001b[39;49;00m, \u001b[39mNone\u001b[39;49;00m, \u001b[39m7\u001b[39;49m,\u001b[39m4\u001b[39;49m], \u001b[39m6\u001b[39;49m, \u001b[39m4\u001b[39;49m)\n",
      "Cell \u001b[1;32mIn[50], line 4\u001b[0m, in \u001b[0;36mLCA\u001b[1;34m(root, p, q)\u001b[0m\n\u001b[0;32m      2\u001b[0m \u001b[39mif\u001b[39;00m root \u001b[39m==\u001b[39m \u001b[39mNone\u001b[39;00m:\n\u001b[0;32m      3\u001b[0m     \u001b[39mreturn\u001b[39;00m \u001b[39mNone\u001b[39;00m\n\u001b[1;32m----> 4\u001b[0m left \u001b[39m=\u001b[39m LCA(root\u001b[39m.\u001b[39;49mleft, p, q)\n\u001b[0;32m      5\u001b[0m right \u001b[39m=\u001b[39m LCA(root\u001b[39m.\u001b[39mright, q, q)\n\u001b[0;32m      6\u001b[0m \u001b[39mif\u001b[39;00m root \u001b[39m==\u001b[39m p \u001b[39mor\u001b[39;00m root \u001b[39m==\u001b[39m q :\n",
      "\u001b[1;31mAttributeError\u001b[0m: 'list' object has no attribute 'left'"
     ]
    }
   ],
   "source": [
    "def LCA(root, p, q):\n",
    "    if root == None:\n",
    "        return None\n",
    "    left = LCA(root.left, p, q)\n",
    "    right = LCA(root.right, q, q)\n",
    "    if root == p or root == q :\n",
    "        return root\n",
    "    elif left and right:\n",
    "        return root\n",
    "    elif left:\n",
    "        return left\n",
    "    elif right:\n",
    "        return right\n",
    "\n",
    "LCA([3,5,1,6,2,0,8,None, None, 7,4], 6, 4)"
   ]
  },
  {
   "cell_type": "code",
   "execution_count": 6,
   "metadata": {},
   "outputs": [],
   "source": [
    "# 문제에서 기본제공\n",
    "class TreeNode:\n",
    "    def __init__(self, x):\n",
    "        self.val = x\n",
    "        self.left = None\n",
    "        self.right = None\n",
    "\n",
    "class Solution:\n",
    "    def lowestCommonAncestor(self, root: 'TreeNode', p: 'TreeNode', q: 'TreeNode') -> 'TreeNode':\n",
    "        if root == None:\n",
    "            return None\n",
    "        left = self.lowestCommonAncestor(root.left, p, q)\n",
    "        right = self.lowestCommonAncestor(root.right, p, q)\n",
    "        if root == p or root == q:\n",
    "            return root\n",
    "        elif left and right:\n",
    "            return root\n",
    "        return left or right\n",
    "\n",
    "\n"
   ]
  },
  {
   "cell_type": "code",
   "execution_count": 8,
   "metadata": {},
   "outputs": [
    {
     "ename": "AttributeError",
     "evalue": "'list' object has no attribute 'left'",
     "output_type": "error",
     "traceback": [
      "\u001b[1;31m---------------------------------------------------------------------------\u001b[0m",
      "\u001b[1;31mAttributeError\u001b[0m                            Traceback (most recent call last)",
      "Cell \u001b[1;32mIn[8], line 2\u001b[0m\n\u001b[0;32m      1\u001b[0m LCA \u001b[39m=\u001b[39m Solution\n\u001b[1;32m----> 2\u001b[0m LCA\u001b[39m.\u001b[39;49mlowestCommonAncestor(LCA, [\u001b[39m3\u001b[39;49m,\u001b[39m5\u001b[39;49m,\u001b[39m1\u001b[39;49m,\u001b[39m6\u001b[39;49m,\u001b[39m2\u001b[39;49m,\u001b[39m0\u001b[39;49m,\u001b[39m8\u001b[39;49m,\u001b[39mNone\u001b[39;49;00m, \u001b[39mNone\u001b[39;49;00m, \u001b[39m7\u001b[39;49m,\u001b[39m4\u001b[39;49m], \u001b[39m6\u001b[39;49m, \u001b[39m4\u001b[39;49m)\n",
      "Cell \u001b[1;32mIn[6], line 12\u001b[0m, in \u001b[0;36mSolution.lowestCommonAncestor\u001b[1;34m(self, root, p, q)\u001b[0m\n\u001b[0;32m     10\u001b[0m \u001b[39mif\u001b[39;00m root \u001b[39m==\u001b[39m \u001b[39mNone\u001b[39;00m:\n\u001b[0;32m     11\u001b[0m     \u001b[39mreturn\u001b[39;00m \u001b[39mNone\u001b[39;00m\n\u001b[1;32m---> 12\u001b[0m left \u001b[39m=\u001b[39m \u001b[39mself\u001b[39m\u001b[39m.\u001b[39mlowestCommonAncestor(root\u001b[39m.\u001b[39;49mleft, p, q)\n\u001b[0;32m     13\u001b[0m right \u001b[39m=\u001b[39m \u001b[39mself\u001b[39m\u001b[39m.\u001b[39mlowestCommonAncestor(root\u001b[39m.\u001b[39mright, p, q)\n\u001b[0;32m     14\u001b[0m \u001b[39mif\u001b[39;00m root \u001b[39m==\u001b[39m p \u001b[39mor\u001b[39;00m root \u001b[39m==\u001b[39m q:\n",
      "\u001b[1;31mAttributeError\u001b[0m: 'list' object has no attribute 'left'"
     ]
    }
   ],
   "source": [
    "LCA = Solution\n",
    "LCA.lowestCommonAncestor(LCA, [3,5,1,6,2,0,8,None, None, 7,4], 6, 4)\n",
    "\n"
   ]
  },
  {
   "cell_type": "code",
   "execution_count": null,
   "metadata": {},
   "outputs": [],
   "source": []
  }
 ],
 "metadata": {
  "kernelspec": {
   "display_name": "Python 3",
   "language": "python",
   "name": "python3"
  },
  "language_info": {
   "codemirror_mode": {
    "name": "ipython",
    "version": 3
   },
   "file_extension": ".py",
   "mimetype": "text/x-python",
   "name": "python",
   "nbconvert_exporter": "python",
   "pygments_lexer": "ipython3",
   "version": "3.10.11"
  },
  "orig_nbformat": 4
 },
 "nbformat": 4,
 "nbformat_minor": 2
}
