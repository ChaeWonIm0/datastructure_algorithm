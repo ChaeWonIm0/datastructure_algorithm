{
 "cells": [
  {
   "attachments": {},
   "cell_type": "markdown",
   "metadata": {},
   "source": [
    "#### Tree traversal 트리 순회\n",
    "\n",
    "##### 트리 탐색. 각 노드를 모두 방문하는 과정으로, 완전 탐색이라 부를 수 있습니다.\n",
    "- BFS 너비 우선탐색\n",
    "- DFS 깊이 우선 탐색\n",
    ">  2가지가 존재합니다."
   ]
  },
  {
   "attachments": {},
   "cell_type": "markdown",
   "metadata": {},
   "source": [
    "> BFS Breadth-first search 너비 우선 탐색\n",
    "\n"
   ]
  },
  {
   "attachments": {
    "image.png": {
     "image/png": "[encoded data removed]"
    }
   },
   "cell_type": "markdown",
   "metadata": {},
   "source": [
    "![image.png](attachment:image.png)"
   ]
  },
  {
   "attachments": {},
   "cell_type": "markdown",
   "metadata": {},
   "source": [
    "##### 루트 노드를 기준으로 왼쪽부터 가까운 노드를 시작으로 탐색합니다.\n",
    "1. 트리가 위처럼 있을때, 루트 노드 A를 기준으로 가장 가까운 B >> C>> D 탐색합니다.\n",
    "2. E>F>G>H>I>J를 탐색합니다.\n",
    "3. 마지막으로 K를 탐색합니다."
   ]
  },
  {
   "cell_type": "code",
   "execution_count": 2,
   "metadata": {},
   "outputs": [],
   "source": [
    "from collections import deque\n",
    "# 코드 구현 기본\n",
    "def BFS(root):\n",
    "    q = deque()\n",
    "    visited = []\n",
    "    if root is None:\n",
    "        return 0;\n",
    "    q.append(root)\n",
    "    while q:\n",
    "        # 노드는 q 덱의 맨첫번째\n",
    "        current_node = q.popleft()\n",
    "        # 루트 노드에 입력\n",
    "        visited.append(current_node.value)\n",
    "        # = left에 child가 있다면\n",
    "        if current_node.left:\n",
    "            # 노드값을 왼쪽 차일드에 입력하기\n",
    "            q.append(current_node.left)\n",
    "        # = right에 child가 있다면\n",
    "        if current_node.right:\n",
    "            # 노드값을 오른쪽 차일드에 입력하기\n",
    "            q.append(current_node.right)\n",
    "        # 이 과정은 q가 아무것도 없을때까지 반복합니다(>> while q)\n",
    "    return visited"
   ]
  },
  {
   "cell_type": "code",
   "execution_count": 66,
   "metadata": {},
   "outputs": [],
   "source": [
    "# complete binary tree 완전 이진 트리\n",
    "class Node:\n",
    "    def __init__(self, value = 0, left = None, right = None):\n",
    "        self.value = value\n",
    "        self.left = left\n",
    "        self.right = right\n",
    "class BinaryTree:\n",
    "    def __init__(self, value=0):\n",
    "        self.root = None\n",
    "        self.value = value\n",
    "tree = BinaryTree()\n",
    "tree.root = Node(value='A')\n",
    "tree.root.left = Node(value = 'B')\n",
    "tree.root.right = Node(value = 'C')\n",
    "tree.root.left.left = Node(value = 'D')\n",
    "tree.root.left.right = Node(value = 'E')\n",
    "tree.root.right.left = Node(value = 'F')\n",
    "tree.root.right.right = Node(value = 'G')"
   ]
  },
  {
   "attachments": {},
   "cell_type": "markdown",
   "metadata": {},
   "source": [
    "* 너비 우선 탐색"
   ]
  },
  {
   "cell_type": "code",
   "execution_count": 67,
   "metadata": {},
   "outputs": [],
   "source": [
    "# BFS 탐색\n",
    "from collections import deque\n",
    "\n",
    "def BFS(root):\n",
    "    q = deque()\n",
    "    visited = []\n",
    "    if root is None:\n",
    "        return []\n",
    "    q.append(root)\n",
    "    while q:\n",
    "        current_node = q.popleft()\n",
    "        visited.append(current_node.value)\n",
    "        if current_node.left:\n",
    "            q.append(current_node.left)\n",
    "        if current_node.right:\n",
    "            q.append(current_node.right)\n",
    "    return visited"
   ]
  },
  {
   "cell_type": "code",
   "execution_count": 68,
   "metadata": {},
   "outputs": [
    {
     "data": {
      "text/plain": [
       "['A', 'B', 'C', 'D', 'E', 'F', 'G']"
      ]
     },
     "execution_count": 68,
     "metadata": {},
     "output_type": "execute_result"
    }
   ],
   "source": [
    "BFS(tree.root)"
   ]
  },
  {
   "cell_type": "code",
   "execution_count": 69,
   "metadata": {},
   "outputs": [],
   "source": [
    "from collections import deque\n",
    "deque()\n",
    "def bfs(tree_root):\n",
    "    q = deque()\n",
    "    visited= []\n",
    "    if tree_root is None:\n",
    "        return 0\n",
    "    q.append(tree_root)\n",
    "    while q:\n",
    "        current_node = q.popleft()\n",
    "        visited.append(current_node.value)\n",
    "        if current_node.left:\n",
    "            q.append(current_node.left)\n",
    "        if current_node.right:\n",
    "            q.append(current_node.right)\n",
    "    return visited\n"
   ]
  },
  {
   "cell_type": "code",
   "execution_count": 62,
   "metadata": {},
   "outputs": [
    {
     "data": {
      "text/plain": [
       "['A', 'B', 'C', 'D', 'E', 'G']"
      ]
     },
     "execution_count": 62,
     "metadata": {},
     "output_type": "execute_result"
    }
   ],
   "source": [
    "bfs(tree.root)"
   ]
  },
  {
   "cell_type": "code",
   "execution_count": 64,
   "metadata": {},
   "outputs": [],
   "source": [
    "from collections import deque\n",
    "deque()\n",
    "def BFS(tree_root):\n",
    "    q = deque()\n",
    "    visited= []\n",
    "    if tree_root is None:\n",
    "        return []\n",
    "    q.append(tree_root)\n",
    "    while q:\n",
    "        node = q.popleft()\n",
    "        visited.append(node.value)\n",
    "        if node.left:\n",
    "            q.append(node.left)\n",
    "        if node.right:\n",
    "            q.append(node.right)\n",
    "    return visited"
   ]
  },
  {
   "cell_type": "code",
   "execution_count": 65,
   "metadata": {},
   "outputs": [
    {
     "data": {
      "text/plain": [
       "['B', 'D', 'E']"
      ]
     },
     "execution_count": 65,
     "metadata": {},
     "output_type": "execute_result"
    }
   ],
   "source": [
    "BFS(tree.root.left)"
   ]
  },
  {
   "cell_type": "code",
   "execution_count": 1,
   "metadata": {},
   "outputs": [],
   "source": [
    "from collections import deque\n",
    "class BFS:\n",
    "    def bfs(root):\n",
    "        visited = []\n",
    "        q = deque()\n",
    "        if root is None:\n",
    "            return [];\n",
    "        q.append(root)\n",
    "        while q:\n",
    "            current_visited = q.popleft()\n",
    "            visited.append(current_visited.value)\n",
    "\n",
    "            if root.left:\n",
    "                q.append(current_visited.left)\n",
    "            if root.right:\n",
    "                q.append(current_visited.right)\n",
    "        return visited\n"
   ]
  },
  {
   "cell_type": "code",
   "execution_count": null,
   "metadata": {},
   "outputs": [],
   "source": []
  }
 ],
 "metadata": {
  "kernelspec": {
   "display_name": "Python 3",
   "language": "python",
   "name": "python3"
  },
  "language_info": {
   "codemirror_mode": {
    "name": "ipython",
    "version": 3
   },
   "file_extension": ".py",
   "mimetype": "text/x-python",
   "name": "python",
   "nbconvert_exporter": "python",
   "pygments_lexer": "ipython3",
   "version": "3.10.11"
  },
  "orig_nbformat": 4
 },
 "nbformat": 4,
 "nbformat_minor": 2
}
