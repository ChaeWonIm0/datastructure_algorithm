{
 "cells": [
  {
   "attachments": {},
   "cell_type": "markdown",
   "metadata": {},
   "source": [
    "### DFS 깊이 우선 탐색 by recursion\n",
    "\n",
    "#### 모든 노드에 방문해야 합니다."
   ]
  },
  {
   "cell_type": "code",
   "execution_count": 4,
   "metadata": {},
   "outputs": [],
   "source": [
    "class Node:\n",
    "    def __init__ (self, root=0, left=None, right=None):\n",
    "        self.root = root\n",
    "        self.left = left\n",
    "        self.right = right\n",
    "\n",
    "class Binarytree:\n",
    "    def __init__(self, value = 0):\n",
    "        self.value=value\n",
    "from collections import deque\n",
    "deque()\n",
    "def dfs(tree_root):\n",
    "    q = deque()\n",
    "    visited = []\n",
    "    if tree_root is None:\n",
    "        return []\n",
    "    q.append(tree_root)\n",
    "    while q:\n",
    "        current_node = q.popleft()\n",
    "        visited.append(current_node.value)\n",
    "        if current_node.left:\n",
    "            q.append(current_node.left)\n",
    "        if current_node.right:\n",
    "            q.append(current_node.right)\n",
    "    return visited\n"
   ]
  },
  {
   "cell_type": "code",
   "execution_count": 5,
   "metadata": {},
   "outputs": [
    {
     "data": {
      "text/plain": [
       "['A', 'B', 'C', 'D', 'E', 'G']"
      ]
     },
     "execution_count": 5,
     "metadata": {},
     "output_type": "execute_result"
    }
   ],
   "source": [
    "dfs(tree.root)"
   ]
  },
  {
   "cell_type": "code",
   "execution_count": null,
   "metadata": {},
   "outputs": [],
   "source": []
  }
 ],
 "metadata": {
  "kernelspec": {
   "display_name": "Python 3",
   "language": "python",
   "name": "python3"
  },
  "language_info": {
   "codemirror_mode": {
    "name": "ipython",
    "version": 3
   },
   "file_extension": ".py",
   "mimetype": "text/x-python",
   "name": "python",
   "nbconvert_exporter": "python",
   "pygments_lexer": "ipython3",
   "version": "3.10.11"
  },
  "orig_nbformat": 4
 },
 "nbformat": 4,
 "nbformat_minor": 2
}
