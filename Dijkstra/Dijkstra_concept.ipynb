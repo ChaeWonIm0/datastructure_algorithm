{
 "cells": [
  {
   "attachments": {},
   "cell_type": "markdown",
   "metadata": {},
   "source": [
    "### 최단 경로 알고리즘\n",
    "\n",
    "- 대표적인 알고리즘\n",
    "\n",
    "> 다익스트라는 도로 cost가 minus값이 있으면 작동하지 않습니다\n",
    "\n",
    "> 그리디 알고리즘이라고 볼 수도 있음\n",
    "\n",
    "@ 음의 가중치가 있는 경우에는 다른 알고리즘인 벨만-포드 알고리즘을 사용해야 합니다."
   ]
  },
  {
   "attachments": {},
   "cell_type": "markdown",
   "metadata": {},
   "source": [
    "#### Dijkstra\n",
    "\n",
    "- 가중치 그래프에서 시작점과 도착점이 주어졌을 때, 최단 경로를 return하는 알고리즘 입니다.\n",
    "(shortest path)"
   ]
  },
  {
   "attachments": {},
   "cell_type": "markdown",
   "metadata": {},
   "source": [
    "1. 각각의 노드에 라벨을 입력해요 (시작노드 : 0, 나머지노드: ∞)"
   ]
  },
  {
   "attachments": {},
   "cell_type": "markdown",
   "metadata": {},
   "source": [
    "- 나머지 노드 ▶ 문제에서 나오는 최댓값에 +1 을 해도 됩니다."
   ]
  },
  {
   "attachments": {},
   "cell_type": "markdown",
   "metadata": {},
   "source": [
    "2. 사용 안한 라벨 중 제일 작은 라벨 찾아요.(사용체크)"
   ]
  },
  {
   "attachments": {},
   "cell_type": "markdown",
   "metadata": {},
   "source": [
    "\n",
    "3. 해당 노드에 인접한 노드의 라벨을 업데이트해요\n",
    "(최종적으로 기존 라벨 값보다 작을 때만)"
   ]
  },
  {
   "attachments": {},
   "cell_type": "markdown",
   "metadata": {},
   "source": [
    "##### 가중치 그래프 구현\n",
    "> 딕셔너리"
   ]
  },
  {
   "cell_type": "code",
   "execution_count": null,
   "metadata": {},
   "outputs": [],
   "source": [
    "graph = {\n",
    "    1:[2,4],\n",
    "    2:[3,5,6],\n",
    "    3:[5,6],\n",
    "    4:[4,3],\n",
    "    5:{2,5}\n",
    "}"
   ]
  },
  {
   "cell_type": "code",
   "execution_count": 3,
   "metadata": {},
   "outputs": [],
   "source": [
    "graph = {\n",
    "    1: [(2, 2), (4, 1)],\n",
    "    2: [(3, 1), (5, 2), (6, 4)],\n",
    "    3: [(6, 4)],\n",
    "    4: [(3, 3), (7, 5)],\n",
    "    5: [(8, 1)],\n",
    "    6: [(5, 3)],\n",
    "    7: [(6, 7), (8, 6)],\n",
    "    8: [],\n",
    "}"
   ]
  },
  {
   "cell_type": "code",
   "execution_count": 4,
   "metadata": {},
   "outputs": [
    {
     "name": "stdout",
     "output_type": "stream",
     "text": [
      "inf\n"
     ]
    }
   ],
   "source": [
    "import heapq\n",
    "import math\n",
    "def dijkstra(graph, start, destination, n):\n",
    "    dist = [math.inf] * (n+1)\n",
    "    pq = [(0, start)]\n",
    "    while pq:\n",
    "        current_dist, current_v = heapq.heappop(pq)\n",
    "        if current_v in dist:\n",
    "            dist[current_v] = current_dist\n",
    "            for next_v, cost in graph[current_v]:\n",
    "                next_dist = dist[current_v] +cost\n",
    "                heapq.heappush(pq, (next_dist, next_v))\n",
    "    return dist[destination]\n",
    "\n",
    "print(dijkstra(graph, 1, 8, len(graph)))"
   ]
  },
  {
   "attachments": {},
   "cell_type": "markdown",
   "metadata": {},
   "source": [
    "### 또다른 예시\n",
    "(형식이 상이함)"
   ]
  },
  {
   "cell_type": "code",
   "execution_count": 41,
   "metadata": {},
   "outputs": [
    {
     "ename": "ValueError",
     "evalue": "not enough values to unpack (expected 2, got 1)",
     "output_type": "error",
     "traceback": [
      "\u001b[1;31m---------------------------------------------------------------------------\u001b[0m",
      "\u001b[1;31mValueError\u001b[0m                                Traceback (most recent call last)",
      "Cell \u001b[1;32mIn[41], line 2\u001b[0m\n\u001b[0;32m      1\u001b[0m \u001b[39m# 노드의 갯수 = m, 도로의 갯수 = m\u001b[39;00m\n\u001b[1;32m----> 2\u001b[0m n, m \u001b[39m=\u001b[39m \u001b[39mmap\u001b[39m(\u001b[39mint\u001b[39m, \u001b[39minput\u001b[39m()\u001b[39m.\u001b[39msplit())\n\u001b[0;32m      3\u001b[0m start \u001b[39m=\u001b[39m \u001b[39mint\u001b[39m(\u001b[39minput\u001b[39m())\n\u001b[0;32m      4\u001b[0m graph \u001b[39m=\u001b[39m [[] \u001b[39mfor\u001b[39;00m i \u001b[39min\u001b[39;00m \u001b[39mrange\u001b[39m(n\u001b[39m+\u001b[39m\u001b[39m1\u001b[39m)]\n",
      "\u001b[1;31mValueError\u001b[0m: not enough values to unpack (expected 2, got 1)"
     ]
    }
   ],
   "source": [
    "# 노드의 갯수 = m, 도로의 갯수 = m\n",
    "n, m = map(int, input().split())\n",
    "start = int(input())\n",
    "graph = [[] for i in range(n+1)]\n",
    "distance = [float('inf')] * (n+1)\n",
    "# 각 도로의 정보\n",
    "# a노드에서 b노드로 가는 비용 = c\n",
    "for _ in range(m):\n",
    "    a, b, c = map(int, input().split())\n",
    "    graph[a].append((b,c))\n",
    "def dijkstra(start):\n",
    "    q = []\n",
    "    # 출발 노드로 가기 위한 최단 경로 0으로 설정\n",
    "    # 우선순위 큐가 될 q에 넣는다\n",
    "    heapq.heappush(q, (0, start))\n",
    "    # 시작점은 역시 0에서부터 출발\n",
    "    distance[start] = 0\n",
    "    while q:\\\n",
    "        # 가장 최단거리가 짧은 노드에 대한 정보 꺼냄\n",
    "        dist, now = heapq.heappop(q)\n",
    "        # 현재 노드가 이미 처리된 적 있는 노드라면 무시\n",
    "        if distance[now] < dist:\n",
    "            continue\n",
    "        # 현재 노드와 연결된 다른 인접한 노드 확인\n",
    "        for i in graph[now]:\n",
    "            cost = dist + i[1]\n",
    "            # 현재 노드를 거쳐서, 다른 노드로 이동하는 거리가 더 짧은 경우\n",
    "            if cost < distance[i[0]]:\n",
    "                distance[i[0]] = cost\n",
    "                heapq.heappush(q, (cost, i[0]))\n",
    "dijkstra(start)\n",
    "# 최단거리 출력\n",
    "for i in range(1, n+1):\n",
    "    if distance[i] == float('inf'):\n",
    "        print('무한')\n",
    "    else:\n",
    "        print(distance[i])"
   ]
  },
  {
   "attachments": {},
   "cell_type": "markdown",
   "metadata": {},
   "source": [
    "### 이 경우 시간복잡도는 O(MlogN)\n",
    "\n",
    "반목문은 노드의 갯수 n이상의 횟수로는 처리되지 않습니다"
   ]
  },
  {
   "attachments": {
    "image-3.png": {
     "image/png": "[encoded data removed]"
    }
   },
   "cell_type": "markdown",
   "metadata": {},
   "source": [
    "#### 문제 : 배달\n",
    "\n",
    "![image-3.png](attachment:image-3.png)"
   ]
  },
  {
   "cell_type": "code",
   "execution_count": 3,
   "metadata": {},
   "outputs": [],
   "source": [
    "N = 5\n",
    "road = [[1,2,1],[2,3,3],[5,2,2],[1,4,2],[5,3,1],[5,4,2]]\n",
    "K = 3"
   ]
  },
  {
   "attachments": {},
   "cell_type": "markdown",
   "metadata": {},
   "source": [
    "https://school.programmers.co.kr/learn/courses/30/lessons/12978\n",
    "시간복잡도 : ?????"
   ]
  },
  {
   "cell_type": "code",
   "execution_count": null,
   "metadata": {},
   "outputs": [],
   "source": [
    "import heapq\n",
    "import math\n",
    "# 문제에서 제공\n",
    "def solution(N, road, K):\n",
    "    answer = 0\n",
    "    current_node = road[0][0]\n",
    "    # 깊이 우선 탐색?\n",
    "    for i in road:\n",
    "        heap = [0]\n",
    "        next_node = heap[0]\n",
    "        if i[0] == 1 or i[1] == 1:\n",
    "            if i[2] <= K:\n",
    "                heap.pop()\n",
    "                heap.append(i)\n",
    "        if i[0] == next_node or i[1] == next_node:\n",
    "            if heap[2] + i[2] > K:\n",
    "                continue\n",
    "            else:\n",
    "                heap.append(i)\n",
    "    a = []\n",
    "    for i in range(len(heap)):\n",
    "        a.append(heap[0])\n",
    "    answer = set(a)\n",
    "    return sum(answer)"
   ]
  },
  {
   "cell_type": "code",
   "execution_count": 51,
   "metadata": {},
   "outputs": [
    {
     "name": "stdout",
     "output_type": "stream",
     "text": [
      "0\n"
     ]
    }
   ],
   "source": [
    "# 내 풀이\n",
    "N = 5\n",
    "road = [[1,2,1],[2,3,3],[5,2,2],[1,4,2],[5,3,1],[5,4,2]]\n",
    "K = 3\n",
    "answer = 0\n",
    "current_node = road[0][0]\n",
    "# 깊이 우선 탐색?\n",
    "for i in road:\n",
    "    heap = [0]\n",
    "    next_node = heap[0]\n",
    "    if i[0] == 1 or i[1] == 1:\n",
    "        if i[2] <= K:\n",
    "            heap.pop()\n",
    "            heap.append(i)\n",
    "    if i[0] == next_node or i[1] == next_node:\n",
    "        if heap[2] + i[2] > K:\n",
    "            continue\n",
    "        else:\n",
    "            heap.append(i)\n",
    "a = []\n",
    "for i in range(len(heap)):\n",
    "    a.append(heap[0])\n",
    "a = set(a)\n",
    "print(sum(a))"
   ]
  },
  {
   "cell_type": "code",
   "execution_count": 1,
   "metadata": {},
   "outputs": [],
   "source": [
    "# 해결방식\n",
    "import heapq\n",
    "def solution(N, road, K):\n",
    "    dist = [float('inf')]*(N+1)\n",
    "    dist[1] = 0\n",
    "    adj = [[] for i in range(N+1)]\n",
    "    for r in road:\n",
    "        adj[r[0]].append([r[2], r[1]])\n",
    "        adj[r[1]].append([r[2], r[0]])\n",
    "    def dijkstra(dist, adj):\n",
    "        heap = []\n",
    "        heapq.heappush(heap, [0, 1])\n",
    "        while heap:\n",
    "            cost, node = heapq.heappop(heap)\n",
    "            for c, n in adj[node]:\n",
    "                if cost + c < dist[n]:\n",
    "                    dist[n] = cost + c\n",
    "                    heapq.heappush(heap, [cost+c, n])\n",
    "                    print(dist)\n",
    "    dijkstra(dist, adj)\n",
    "    answer = len([i for i in dist if i <= K])\n",
    "    return answer"
   ]
  },
  {
   "cell_type": "code",
   "execution_count": 4,
   "metadata": {},
   "outputs": [
    {
     "name": "stdout",
     "output_type": "stream",
     "text": [
      "[inf, 0, 1, inf, inf, inf]\n",
      "[inf, 0, 1, inf, 2, inf]\n",
      "[inf, 0, 1, 4, 2, inf]\n",
      "[inf, 0, 1, 4, 2, 3]\n"
     ]
    },
    {
     "data": {
      "text/plain": [
       "4"
      ]
     },
     "execution_count": 4,
     "metadata": {},
     "output_type": "execute_result"
    }
   ],
   "source": [
    "solution(N, road, K)"
   ]
  },
  {
   "cell_type": "code",
   "execution_count": 53,
   "metadata": {},
   "outputs": [
    {
     "data": {
      "text/plain": [
       "4"
      ]
     },
     "execution_count": 53,
     "metadata": {},
     "output_type": "execute_result"
    }
   ],
   "source": [
    "import math, heapq\n",
    "def solution(N, road, K):\n",
    "    answer = []\n",
    "    # 거리 초기화\n",
    "    dist =[math.inf] * (N+1)\n",
    "    # 힙 초기화\n",
    "    adj = [[] for i in range(N+1)]\n",
    "    # road를 가중치 그래프로 교체 [마을, 가중치]\n",
    "    for i in road:\n",
    "        adj[i[0]].append([i[2], i[1]])\n",
    "        adj[i[1]].append([i[2], i[0]])\n",
    "    dist[1] = 0\n",
    "    def dijkstra(dist, adj):\n",
    "        heap = []\n",
    "        heapq.heappush(heap, [0, 1])\n",
    "        while heap:\n",
    "            cost, node = heapq.heappop(heap)\n",
    "            for next_cost, next_node in adj[node]:\n",
    "                if cost + next_cost < dist[next_node]:\n",
    "                    dist[next_node] = cost + next_cost\n",
    "                    heapq.heappush(heap, [cost+next_cost, next_node])\n",
    "    dijkstra(dist, adj)\n",
    "    for i in dist:\n",
    "        if i <= K:\n",
    "            answer.append(i)\n",
    "    answer = len(answer)\n",
    "    return answer\n",
    "solution(N, road, K)"
   ]
  },
  {
   "cell_type": "code",
   "execution_count": 28,
   "metadata": {},
   "outputs": [
    {
     "data": {
      "text/plain": [
       "[[],\n",
       " [[1, 2], [2, 4]],\n",
       " [[1, 1], [3, 3], [2, 5]],\n",
       " [[3, 2], [1, 5]],\n",
       " [[2, 1], [2, 5]],\n",
       " [[2, 2], [1, 3], [2, 4]]]"
      ]
     },
     "execution_count": 28,
     "metadata": {},
     "output_type": "execute_result"
    }
   ],
   "source": [
    "road = [[1,2,1],[2,3,3],[5,2,2],[1,4,2],[5,3,1],[5,4,2]]\n",
    "adj = [[] for i in range(N+1)]\n",
    "for i in road:\n",
    "    adj[i[0]].append([i[1], i[2]])\n",
    "    adj[i[1]].append([i[0], i[2]])\n",
    "adj"
   ]
  },
  {
   "cell_type": "code",
   "execution_count": 29,
   "metadata": {},
   "outputs": [
    {
     "data": {
      "text/plain": [
       "[inf, 0, inf, inf, inf, inf]"
      ]
     },
     "execution_count": 29,
     "metadata": {},
     "output_type": "execute_result"
    }
   ],
   "source": [
    "dist = [float('inf')]*(N+1)\n",
    "dist[1] = 0\n",
    "dist"
   ]
  },
  {
   "cell_type": "code",
   "execution_count": 56,
   "metadata": {},
   "outputs": [
    {
     "data": {
      "text/plain": [
       "4"
      ]
     },
     "execution_count": 56,
     "metadata": {},
     "output_type": "execute_result"
    }
   ],
   "source": [
    "import heapq\n",
    "def solution(N, road, K):\n",
    "    dist = [math.inf]* (N+1)\n",
    "    adj = [[] for i in range(N+1)] \n",
    "    dist[1] = 0\n",
    "    for r in road:\n",
    "        adj[r[0]].append([r[2], r[1]])\n",
    "        adj[r[1]].append([r[2], r[0]])\n",
    "    def dijkstra(dist, adj):\n",
    "        heap = []\n",
    "        heapq.heappush(heap, [0,1])\n",
    "        while heap:\n",
    "            cost, node = heapq.heappop(heap)\n",
    "            for next_cost, next_node in adj[node]:\n",
    "                if cost + next_cost < dist[next_node]:\n",
    "                    dist[next_node] = cost+next_cost\n",
    "                    heapq.heappush(heap, [cost+next_cost, next_node])            \n",
    "    dijkstra(dist, adj)\n",
    "    answer = []\n",
    "    for i in dist:\n",
    "        if i <= K:\n",
    "            answer.append(i)\n",
    "    return len(answer)\n",
    "\n",
    "solution(N, road, K)"
   ]
  }
 ],
 "metadata": {
  "kernelspec": {
   "display_name": "py3_8_5",
   "language": "python",
   "name": "py3_8_5"
  },
  "language_info": {
   "codemirror_mode": {
    "name": "ipython",
    "version": 3
   },
   "file_extension": ".py",
   "mimetype": "text/x-python",
   "name": "python",
   "nbconvert_exporter": "python",
   "pygments_lexer": "ipython3",
   "version": "3.10.8"
  },
  "orig_nbformat": 4
 },
 "nbformat": 4,
 "nbformat_minor": 2
}
