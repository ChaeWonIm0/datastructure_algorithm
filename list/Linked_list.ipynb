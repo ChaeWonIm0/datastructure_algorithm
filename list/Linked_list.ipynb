{
 "cells": [
  {
   "attachments": {},
   "cell_type": "markdown",
   "metadata": {},
   "source": [
    "#### list 자료 구조 중 두번째 \n",
    "##### linked list : physically 비연속성 & logically 연속성"
   ]
  },
  {
   "attachments": {},
   "cell_type": "markdown",
   "metadata": {},
   "source": [
    "node로 이루어져 있습니다.\n",
    "* 어떻게 구현하느냐에 따라서 링크리스트가 될수도 있고 트리가 될수도 있고, 그래프가 될수도 있습니다."
   ]
  },
  {
   "attachments": {},
   "cell_type": "markdown",
   "metadata": {},
   "source": [
    "linked list는 구현하는 것이 더 중요합니다.\n",
    "> 차지하는 메모리 자체는 크지만, 메모리 사용이 좀더 자유롭습니다.\n"
   ]
  },
  {
   "attachments": {},
   "cell_type": "markdown",
   "metadata": {},
   "source": [
    "node.py 참조"
   ]
  },
  {
   "attachments": {},
   "cell_type": "markdown",
   "metadata": {},
   "source": [
    "Linked list도 유사해요.\n",
    "\n",
    "* insert_back() = append() 구현\n"
   ]
  },
  {
   "attachments": {},
   "cell_type": "markdown",
   "metadata": {},
   "source": []
  }
 ],
 "metadata": {
  "language_info": {
   "name": "python"
  },
  "orig_nbformat": 4
 },
 "nbformat": 4,
 "nbformat_minor": 2
}
