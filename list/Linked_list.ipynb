{
 "cells": [
  {
   "attachments": {},
   "cell_type": "markdown",
   "metadata": {},
   "source": [
    "#### list 자료 구조 중 두번째 \n",
    "##### linked list : physically 비연속성 & logically 연속성"
   ]
  },
  {
   "attachments": {},
   "cell_type": "markdown",
   "metadata": {},
   "source": [
    "node로 이루어져 있습니다.\n",
    "* 어떻게 구현하느냐에 따라서 링크리스트가 될수도 있고 트리가 될수도 있고, 그래프가 될수도 있습니다."
   ]
  },
  {
   "attachments": {},
   "cell_type": "markdown",
   "metadata": {},
   "source": [
    "linked list는 구현하는 것이 더 중요합니다.\n",
    "> 차지하는 메모리 자체는 크지만, 메모리 사용이 좀더 자유롭습니다.\n"
   ]
  },
  {
   "attachments": {},
   "cell_type": "markdown",
   "metadata": {},
   "source": [
    "node.py 참조"
   ]
  },
  {
   "attachments": {},
   "cell_type": "markdown",
   "metadata": {},
   "source": [
    "Linked list도 유사해요.\n",
    "\n",
    "* insert_back() = append() 구현\n"
   ]
  },
  {
   "attachments": {},
   "cell_type": "markdown",
   "metadata": {},
   "source": [
    "linked list의 마지막 노드로 어떻게 접근하는지, insert_back을 쓰는지, 다른 것을 쓰는지 파악해야 합니다"
   ]
  },
  {
   "cell_type": "code",
   "execution_count": 190,
   "metadata": {},
   "outputs": [],
   "source": [
    "class Node:\n",
    "    def __init__(self, value = 0, next = None):\n",
    "        self.value = value\n",
    "        self.next = next\n",
    "\n",
    "first = Node(1)\n",
    "second = Node(2)\n",
    "third = Node(3)\n",
    "\n",
    "first.next = second\n",
    "second.next = third\n",
    "first.value = 3"
   ]
  },
  {
   "cell_type": "code",
   "execution_count": 191,
   "metadata": {},
   "outputs": [],
   "source": [
    "class Node:\n",
    "    def __init__(self, value = 0, next = None):\n",
    "        self.value = value\n",
    "        self.next = next\n",
    "\n",
    "first = Node(1)\n",
    "second = Node(2)\n",
    "third = Node(3)\n",
    "\n",
    "first.next = second\n",
    "second.next = third\n",
    "first.value = 1\n",
    "\n",
    "class LinkedList(object):\n",
    "    def __init__(self):\n",
    "        self.head = None\n",
    "    def append(self, value):\n",
    "        new_node = Node(value)\n",
    "        if self.head is None:\n",
    "            self.head = new_node\n",
    "        else:\n",
    "            front = self.head\n",
    "            while (front.next):\n",
    "                front = front.next\n",
    "            front.next = new_node\n",
    "\n",
    "ll = LinkedList()\n",
    "ll.append(1)\n",
    "ll.append(2)\n",
    "ll.append(3)\n",
    "ll.append(4)"
   ]
  },
  {
   "cell_type": "code",
   "execution_count": 192,
   "metadata": {},
   "outputs": [
    {
     "name": "stdout",
     "output_type": "stream",
     "text": [
      "<__main__.LinkedList object at 0x000001C7FCB42800>\n"
     ]
    }
   ],
   "source": [
    "print(ll)"
   ]
  },
  {
   "cell_type": "code",
   "execution_count": 193,
   "metadata": {},
   "outputs": [],
   "source": [
    "class Node:\n",
    "    def __init__(self, value = 0, prev=None, next = None):\n",
    "        self.value = value\n",
    "        self.next = next\n",
    "class Linkedlist(object):\n",
    "    def __init__(self):\n",
    "        self.head = None\n",
    "        self.tail = None\n",
    "    def append(self, value):\n",
    "        new_node = Node(value)\n",
    "        if self.head is None:\n",
    "            self.head = new_node\n",
    "            self.tail = new_node\n",
    "        else:\n",
    "            self.tail.next = new_node\n",
    "            self.tail = new_node\n"
   ]
  },
  {
   "cell_type": "code",
   "execution_count": 194,
   "metadata": {},
   "outputs": [],
   "source": [
    "linkedlist = Linkedlist()"
   ]
  },
  {
   "cell_type": "code",
   "execution_count": 195,
   "metadata": {},
   "outputs": [
    {
     "name": "stdout",
     "output_type": "stream",
     "text": [
      "<__main__.Linkedlist object at 0x000001C7FBAEA170>\n"
     ]
    }
   ],
   "source": [
    "print(linkedlist)"
   ]
  },
  {
   "cell_type": "code",
   "execution_count": 196,
   "metadata": {},
   "outputs": [],
   "source": [
    "linkedlist.append(1)\n",
    "linkedlist.append(2)\n",
    "linkedlist.append(3)\n",
    "linkedlist.append(4)"
   ]
  },
  {
   "attachments": {},
   "cell_type": "markdown",
   "metadata": {},
   "source": [
    "append의 시간복잡도 = O(n)"
   ]
  },
  {
   "attachments": {},
   "cell_type": "markdown",
   "metadata": {},
   "source": [
    "### 여러 operation들\n",
    "\n",
    "get 메서드"
   ]
  },
  {
   "cell_type": "code",
   "execution_count": 197,
   "metadata": {},
   "outputs": [],
   "source": [
    "class Linkedlist(object):\n",
    "    def __init__(self):\n",
    "        self.head = None\n",
    "    def append(self, value):\n",
    "        new_node = Node(value)\n",
    "        if self.head is None:\n",
    "            self.head = new_node\n",
    "        else:\n",
    "            front = self.head\n",
    "            while(front.next):\n",
    "                front = front.next\n",
    "            front.next = new_node\n",
    "    def get(self, idx):\n",
    "        current = self.head\n",
    "        for _ in range(idx):\n",
    "            current = current.next\n",
    "        return current.value"
   ]
  },
  {
   "cell_type": "code",
   "execution_count": 198,
   "metadata": {},
   "outputs": [
    {
     "data": {
      "text/plain": [
       "(1, 2, 3, 4)"
      ]
     },
     "execution_count": 198,
     "metadata": {},
     "output_type": "execute_result"
    }
   ],
   "source": [
    "ll = Linkedlist()\n",
    "ll.append(1)\n",
    "ll.append(2)\n",
    "ll.append(3)\n",
    "ll.append(4)\n",
    "ll.get(0), ll.get(1), ll.get(2), ll.get(3)"
   ]
  },
  {
   "attachments": {},
   "cell_type": "markdown",
   "metadata": {},
   "source": [
    "이때 get의 시간복잡도는 O(n)"
   ]
  },
  {
   "attachments": {},
   "cell_type": "markdown",
   "metadata": {},
   "source": [
    "#### insert_at(idx, value) 메서드(함수)"
   ]
  },
  {
   "cell_type": "code",
   "execution_count": 199,
   "metadata": {},
   "outputs": [],
   "source": [
    "class Linkedlist(object):\n",
    "    def __init__(self):\n",
    "        self.head = None\n",
    "    def append(self, value):\n",
    "        new_node = Node(value)\n",
    "        if self.head is None:\n",
    "            self.head = new_node\n",
    "        else:\n",
    "            front = self.head\n",
    "            while(front.next):\n",
    "                front = front.next\n",
    "            front.next = new_node\n",
    "    def get(self, idx):\n",
    "        current = self.head\n",
    "        for _ in range(idx):\n",
    "            current = current.next\n",
    "        return current.value\n",
    "    def insert_at(self, idx, value):\n",
    "        new_node = Node(value)\n",
    "        new_node.value = value\n",
    "        current = self.head\n",
    "        for i in range (idx-1):\n",
    "            current = current.next\n",
    "        new_node.next = current.next\n",
    "        current.next = new_node"
   ]
  },
  {
   "cell_type": "code",
   "execution_count": 200,
   "metadata": {},
   "outputs": [],
   "source": [
    "ll = Linkedlist()\n",
    "ll.append(1)\n",
    "ll.append(2)\n",
    "ll.append(3)\n",
    "ll.append(4)\n",
    "ll.append(5)\n",
    "ll.get(0), ll.get(1), ll.get(2), ll.get(3), ll.get(4)\n",
    "ll.insert_at(idx = 2, value = 9)"
   ]
  },
  {
   "cell_type": "code",
   "execution_count": 201,
   "metadata": {},
   "outputs": [
    {
     "data": {
      "text/plain": [
       "(1, 2, 9, 3, 4)"
      ]
     },
     "execution_count": 201,
     "metadata": {},
     "output_type": "execute_result"
    }
   ],
   "source": [
    "ll.get(0), ll.get(1), ll.get(2), ll.get(3), ll.get(4)"
   ]
  },
  {
   "attachments": {},
   "cell_type": "markdown",
   "metadata": {},
   "source": [
    "#### remove_at 메서드(함수)\n",
    "\n"
   ]
  },
  {
   "cell_type": "code",
   "execution_count": 239,
   "metadata": {},
   "outputs": [],
   "source": [
    "class Linkedlist(object):\n",
    "    def __init__(self):\n",
    "        self.head = None\n",
    "    def append(self, value):\n",
    "        new_node = Node(value)\n",
    "        if self.head is None:\n",
    "            self.head = new_node\n",
    "        else:\n",
    "            front = self.head\n",
    "            while(front.next):\n",
    "                front = front.next\n",
    "            front.next = new_node\n",
    "    def get(self, idx):\n",
    "        current = self.head\n",
    "        for _ in range(idx):\n",
    "            current = current.next\n",
    "        return current.value\n",
    "    def insert_at(self, idx, value):\n",
    "        new_node = Node(value)\n",
    "        new_node.value = value\n",
    "        current = self.head\n",
    "        for i in range (idx-1):\n",
    "            current = current.next\n",
    "        new_node.next = current.next\n",
    "        current.next = new_node\n",
    "    def remove(self, idx):\n",
    "        current = self.head\n",
    "        for _ in range(idx-1):\n",
    "            present_cell = current.next\n",
    "            next_cell = present_cell.next\n",
    "        current = present_cell\n",
    "        current.next = next_cell.next"
   ]
  },
  {
   "cell_type": "code",
   "execution_count": 240,
   "metadata": {},
   "outputs": [
    {
     "data": {
      "text/plain": [
       "(1, 2, 4, 5)"
      ]
     },
     "execution_count": 240,
     "metadata": {},
     "output_type": "execute_result"
    }
   ],
   "source": [
    "ll = Linkedlist()\n",
    "ll.append(1)\n",
    "ll.append(2)\n",
    "ll.append(3)\n",
    "ll.append(4)\n",
    "ll.append(5)\n",
    "ll.remove(3)\n",
    "ll.get(0), ll.get(1), ll.get(2), ll.get(3)\n",
    "# 해결"
   ]
  },
  {
   "attachments": {},
   "cell_type": "markdown",
   "metadata": {},
   "source": [
    "저장공간에 있는 데이터를 아무도 참조하지 않을 경우, 가비지 컬렉터가 역할 수행"
   ]
  },
  {
   "cell_type": "code",
   "execution_count": null,
   "metadata": {},
   "outputs": [],
   "source": []
  }
 ],
 "metadata": {
  "kernelspec": {
   "display_name": "Python 3",
   "language": "python",
   "name": "python3"
  },
  "language_info": {
   "codemirror_mode": {
    "name": "ipython",
    "version": 3
   },
   "file_extension": ".py",
   "mimetype": "text/x-python",
   "name": "python",
   "nbconvert_exporter": "python",
   "pygments_lexer": "ipython3",
   "version": "3.10.11"
  },
  "orig_nbformat": 4
 },
 "nbformat": 4,
 "nbformat_minor": 2
}
