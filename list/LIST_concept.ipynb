{
 "cells": [
  {
   "attachments": {},
   "cell_type": "markdown",
   "id": "62d262fe",
   "metadata": {},
   "source": [
    "### 리스트란?\n",
    "* set자료구조와 비교됩니다.\n",
    "- set에서는 원소가 무엇이 저장되든, 순서는 중요하지 않습니다.\n",
    "- 반면 list는 순서가 다르면 전혀 다른 배열이라고 생각됩니다.\n",
    "- (1,2,3) == (3,2,1)\n",
    "- [1,2,3] != [3,2,1]\n",
    "\n",
    "### 구현되는 방법\n",
    "\n",
    "#### 1. array list\n",
    "#### 2. linked list"
   ]
  },
  {
   "attachments": {},
   "cell_type": "markdown",
   "id": "8a9e6702",
   "metadata": {},
   "source": [
    "* array list\n",
    "메모리상에서 [1,2,3,4] 라면, 1,2,3,4 순으로 저장됩니다.\n"
   ]
  },
  {
   "attachments": {},
   "cell_type": "markdown",
   "id": "8eae2803",
   "metadata": {},
   "source": [
    "* Linked list\n",
    "메모리상에서 비연속적으로 저장되어 있는 [1], [2], [3] 노드들이 저장되어 있다면, [1] >> [2] >> [3] 이렇게 저장되어서 연결하여, 이 순서대로 저장하게 하는 구조입니다."
   ]
  },
  {
   "attachments": {},
   "cell_type": "markdown",
   "id": "92b55d96",
   "metadata": {},
   "source": [
    "파이썬에서 array list는 list라는 자료구조로 이름지어져 있습니다.\n",
    "array나 Dynamic array로 구현될 수 있는데, 파이썬에서는 dynamic array로 구현되어 있습니다. 두 가지로 구분되기도 하는데, 이는 c언어에서의 영역."
   ]
  },
  {
   "attachments": {},
   "cell_type": "markdown",
   "id": "1fca9daf",
   "metadata": {},
   "source": [
    "linked list는 node로 구조화됩니다"
   ]
  },
  {
   "attachments": {},
   "cell_type": "markdown",
   "id": "d21366d9",
   "metadata": {},
   "source": [
    "### 배열의 특성\n",
    "#### 배열의 특성에는 (1) 고정된 저장 공간, (2) 순차적인 데이터 저장 이라는 특성이 있습니다."
   ]
  },
  {
   "attachments": {},
   "cell_type": "markdown",
   "id": "6f5a7710",
   "metadata": {},
   "source": [
    " c언어에서는 배열의 메모리 공간을 미리 정해놓고, 그 다음에 고정된 사이즈에 데이터를 받기 때문에 static array라고 합니다. 데이터를 연속적이고 순차적으로 저장+"
   ]
  },
  {
   "attachments": {},
   "cell_type": "markdown",
   "id": "4c40beb1",
   "metadata": {},
   "source": [
    "### array\n"
   ]
  },
  {
   "attachments": {},
   "cell_type": "markdown",
   "id": "a83ccad1",
   "metadata": {},
   "source": [
    "#### linked list"
   ]
  },
  {
   "cell_type": "code",
   "execution_count": 8,
   "id": "e26b5365",
   "metadata": {},
   "outputs": [
    {
     "data": {
      "text/plain": [
       "1"
      ]
     },
     "execution_count": 8,
     "metadata": {},
     "output_type": "execute_result"
    }
   ],
   "source": [
    "arr = [1,2,3,4,5]\n",
    "# arr 의 첫번째 데이터를 찾아가고 싶다면? \n",
    "arr[0] \n",
    "# 등등"
   ]
  },
  {
   "attachments": {},
   "cell_type": "markdown",
   "id": "8650bf68",
   "metadata": {},
   "source": [
    "##### random access\n",
    " - 배열은 순차적으로 저장되어 있기 때문에, 첫 주소값만 알면 즉시 접근 가능합니다.\n",
    "- 접근하는 시간복잡도는 O(1)을 가짐"
   ]
  },
  {
   "attachments": {},
   "cell_type": "markdown",
   "id": "52ac736b",
   "metadata": {},
   "source": [
    "* 고정된 저장공간 때문에 static array에 한계가 생기기도 합니다.\n",
    "* 선언할 때 정한 사이즈보다 더 많은 데이터를 저장해야 하는 경우 문제.\n",
    "* 그렇다고 매번 큰 배열을 선언하면 메모리가 비효율적입니다."
   ]
  },
  {
   "attachments": {},
   "cell_type": "markdown",
   "id": "f1f4535d",
   "metadata": {},
   "source": [
    "대안 >> dynamic array"
   ]
  },
  {
   "attachments": {},
   "cell_type": "markdown",
   "id": "c92976cf",
   "metadata": {},
   "source": [
    "> 선언 이후에도 size를 늘릴 수 있는 array입니다."
   ]
  },
  {
   "attachments": {},
   "cell_type": "markdown",
   "id": "cf228733",
   "metadata": {},
   "source": [
    "기본적으로 pytho은 dynamic array로 되어있답니다. 따로 구현할 필요 없이 사용가능합니다.\n",
    "\n",
    "* 시간복잡도는 데이터가 resize하기 전까지는 O(1), 그 후부터는 O(n)으로 찍힙니다."
   ]
  },
  {
   "attachments": {},
   "cell_type": "markdown",
   "id": "0fe773e2",
   "metadata": {},
   "source": [
    "* 기존에 할당된 사이즈가 초과될 경우, 해당 배열 크기의 2배 사이즈로 보통 증가합니다. 이를 doubling이라 일컫습니다. 그러다가 일정량 이상 큰 사이즈가 되면 1.xx, 1.x 배로 증가합니다. "
   ]
  },
  {
   "cell_type": "code",
   "execution_count": null,
   "id": "49a42f32",
   "metadata": {},
   "outputs": [],
   "source": [
    "# list의 연산과 연산의 시간 복잡도!\n",
    "access,update = O(1)\n",
    "insert_back = amortized O(1)\n",
    "delete_back = O(1)\n",
    "insert_at = O(n)\n",
    "delete_at = O(n)"
   ]
  },
  {
   "cell_type": "code",
   "execution_count": 34,
   "id": "3aa0594e",
   "metadata": {},
   "outputs": [
    {
     "data": {
      "text/plain": [
       "9"
      ]
     },
     "execution_count": 34,
     "metadata": {},
     "output_type": "execute_result"
    }
   ],
   "source": [
    "A = [1,2,3] # O(n) 선언의 시간복잡도\n",
    "A[0] # 접근 및 수정 O(1)\n",
    "A[1] = 9 # O(1)\n",
    "A.append(4) # 데이터추가 시간복잡도 O(1)\n",
    "A.append(5)\n",
    "A.append(6) # resizing 시간복잡도 O(n) (분할상환시 O(1))\n",
    "A.pop() # 마지막 데이터 삭제 시간복잡도 O(1)\n",
    "A.insert(1,10) # 중간에 데이터 추가 시간복잡도 O(n)\n",
    "A.pop(2) # 중간에 데이터 삭제 시간복잡도 O(n)"
   ]
  },
  {
   "attachments": {},
   "cell_type": "markdown",
   "id": "b94ba56d",
   "metadata": {},
   "source": [
    "A"
   ]
  },
  {
   "cell_type": "code",
   "execution_count": 33,
   "id": "28ecd032",
   "metadata": {},
   "outputs": [
    {
     "data": {
      "text/plain": [
       "[1, 10, 3, 4, 5]"
      ]
     },
     "execution_count": 33,
     "metadata": {},
     "output_type": "execute_result"
    }
   ],
   "source": [
    "A"
   ]
  },
  {
   "attachments": {},
   "cell_type": "markdown",
   "id": "85b7fae1",
   "metadata": {},
   "source": [
    "### Array&Dynamic array \n",
    "- 내부적으로 어떻게 동작하는지를 알아야만 도움이 될 것입니다."
   ]
  },
  {
   "attachments": {},
   "cell_type": "markdown",
   "id": "42ae1a1d",
   "metadata": {},
   "source": [
    "그럼 연결된 리스트가 구현됩니다.\n"
   ]
  },
  {
   "cell_type": "code",
   "execution_count": null,
   "id": "73be80e2",
   "metadata": {},
   "outputs": [],
   "source": []
  }
 ],
 "metadata": {
  "kernelspec": {
   "display_name": "Python 3 (ipykernel)",
   "language": "python",
   "name": "python3"
  },
  "language_info": {
   "codemirror_mode": {
    "name": "ipython",
    "version": 3
   },
   "file_extension": ".py",
   "mimetype": "text/x-python",
   "name": "python",
   "nbconvert_exporter": "python",
   "pygments_lexer": "ipython3",
   "version": "3.10.11"
  }
 },
 "nbformat": 4,
 "nbformat_minor": 5
}
