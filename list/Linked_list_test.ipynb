{
 "cells": [
  {
   "attachments": {},
   "cell_type": "markdown",
   "metadata": {},
   "source": [
    "### Linked List 문제 활용\n",
    "\n",
    "1) 문제 이해하기\n",
    "2) 접근 방법\n",
    "3) 코드 설계\n",
    "4) 코드 구현"
   ]
  },
  {
   "attachments": {},
   "cell_type": "markdown",
   "metadata": {},
   "source": [
    "적용방법\n",
    "> 링크드 리스트 자유롭게 구현(외우지 말기)\n",
    "* 문제가 안맞으면 array도 쓸 수 있음\n",
    "\n",
    "> tree나 graph로 활용\n",
    "* node 구현에 따라서 tree가 될수도 있음(graph는 빈도 수 하락)\n",
    "\n"
   ]
  },
  {
   "attachments": {},
   "cell_type": "markdown",
   "metadata": {},
   "source": [
    "### 1) 문제 이해하기\n",
    "\n",
    "#### 방법론\n",
    "- input값의 특징, output값의 특징을 파악\n",
    " - 정수인가? 소수인가? 문자열인가? 아웃풋은 어떤 값을 반환해야 하는가? 어떻게 정해진 형식대로 반환하지?\n",
    "\n",
    "- input size N 확인 : 시간복잡도 영향\n",
    "\n",
    "- 제약조건 확인\n",
    " - 시간복잡도에 제한이 있는지 확인합니다.\n",
    " - 내가 가능한 알고리즘이 무엇이 있는지 판단\n",
    "\n",
    "- 예상할 수 있는 오류 확인\n",
    " - 상황을 가정\n",
    " - 입력값의 범위, 스택 오버플로우 예측"
   ]
  },
  {
   "attachments": {},
   "cell_type": "markdown",
   "metadata": {},
   "source": [
    "- 한 탭의 브라우저가 있고 다른 탭을 방문하거나 기록 번호로 돌아가거나 기록 번호로 이동할 수 있습니다.homepageurlstepssteps\n",
    "\n",
    "- 클래스를 구현합니다.BrowserHistory\n",
    "\n",
    "- BrowserHistory(string homepage) 를 사용하여 개체를 초기화합니다.homepage\n",
    "- void visit(string url) 현재 페이지에서 방문합니다. 모든 전진 기록을 지웁니다.url\n",
    "- string back(int steps) 역사로 돌아가십시오. 기록의 단계만 반환할 수 있는 경우 및 , 단계만 반환합니다. 기껏해야 역사에서 뒤로 이동한 후 현재를 반환합니다.stepsxsteps > xxurlsteps\n",
    "- string forward(int steps) 역사 속으로 나아가십시오. 기록의 단계만 전달할 수 있는 경우 및 , 단계만 전달합니다. 기껏해야 기록에서 전달 후 전류를 반환합니다.stepsxsteps > xxurlsteps"
   ]
  },
  {
   "cell_type": "code",
   "execution_count": 13,
   "metadata": {},
   "outputs": [],
   "source": [
    "# Input:\n",
    "# [\"BrowserHistory\",\"visit\",\"visit\",\"visit\",\"back\",\"back\",\"forward\",\"visit\",\"forward\",\"back\",\"back\"]\n",
    "# [[\"leetcode.com\"],[\"google.com\"],[\"facebook.com\"],[\"youtube.com\"],[1],[1],[1],[\"linkedin.com\"],[2],[2],[7]]\n",
    "# Output:\n",
    "# [null,null,null,null,\"facebook.com\",\"google.com\",\"facebook.com\",null,\"linkedin.com\",\"google.com\",\"leetcode.com\"]\n",
    "\n",
    "# Explanation:\n",
    "# BrowserHistory browserHistory = new BrowserHistory(\"leetcode.com\");\n",
    "# browserHistory.visit(\"google.com\");       // You are in \"leetcode.com\". Visit \"google.com\"\n",
    "# browserHistory.visit(\"facebook.com\");     // You are in \"google.com\". Visit \"facebook.com\"\n",
    "# browserHistory.visit(\"youtube.com\");      // You are in \"facebook.com\". Visit \"youtube.com\"\n",
    "# browserHistory.back(1);                   // You are in \"youtube.com\", move back to \"facebook.com\" return \"facebook.com\"\n",
    "# browserHistory.back(1);                   // You are in \"facebook.com\", move back to \"google.com\" return \"google.com\"\n",
    "# browserHistory.forward(1);                // You are in \"google.com\", move forward to \"facebook.com\" return \"facebook.com\"\n",
    "# browserHistory.visit(\"linkedin.com\");     // You are in \"facebook.com\". Visit \"linkedin.com\"\n",
    "# browserHistory.forward(2);                // You are in \"linkedin.com\", you cannot move forward any steps.\n",
    "# browserHistory.back(2);                   // You are in \"linkedin.com\", move back two steps to \"facebook.com\" then to \"google.com\". return \"google.com\"\n",
    "# browserHistory.back(7);                   // You are in \"google.com\", you can move back only one step to \"leetcode.com\". return \"leetcode.com\""
   ]
  },
  {
   "attachments": {},
   "cell_type": "markdown",
   "metadata": {},
   "source": [
    "- 제약 조건:\n",
    "\n",
    "- 1 <= homepage.length <= 20\n",
    "- 1 <= url.length <= 20\n",
    "- 1 <= steps <= 100\n",
    "- homepage '.' 또는 소문자 영어 문자로 구성됩니다.url\n",
    "- 대부분의 호출은 , , 및 에 대해 이루어집니다.5000visitbackforward"
   ]
  },
  {
   "attachments": {},
   "cell_type": "markdown",
   "metadata": {},
   "source": []
  },
  {
   "cell_type": "code",
   "execution_count": 16,
   "metadata": {},
   "outputs": [],
   "source": [
    "# 제약조건\n",
    "# 뭐 어쨋든 20글자 이하. idx(step)는 100 이하\n",
    "# lower case\n",
    "\n",
    "# 사이트에서 기본 제공\n",
    "class Node:\n",
    "    def __init__(self, url = 0, next=None, prev=None):\n",
    "        self.url = url\n",
    "        self.next = next\n",
    "        self.prev = prev\n",
    "     \n",
    "class BrowserHistory(object):\n",
    "\n",
    "    def __init__(self, homepage):\n",
    "        # self.head = None\n",
    "        # self.tail = None\n",
    "        self.head = self.current\n",
    "        self.current = Node(url = homepage)\n",
    "        # self.head = new_node        \n",
    "\n",
    "    def visit(self, url) -> None:\n",
    "        # new_node = Node(url)\n",
    "        # self.head = None\n",
    "        # self.tail = None\n",
    "        # alist = []\n",
    "        # alist.append(new_node)\n",
    "        # if self.head is None:\n",
    "        #     self.head = new_node\n",
    "        #     self.tail = new_node\n",
    "        # else:\n",
    "        #     self.tail.next = new_node\n",
    "        #     self.tail = self.tail.next\n",
    "        self.current.next = Node(val=url, prev=self.current)\n",
    "        self.current = self.current.next\n",
    "        return None\n",
    "\n",
    "    def back(self, steps: int) -> str:\n",
    "        while steps > 0 and self.current.prev != None:\n",
    "            steps -= 1\n",
    "            self.current = self.current.prev\n",
    "        return self.current.url\n",
    "\n",
    "    def forward(self, steps: int) -> str:\n",
    "        while steps > 0 and self.current.next != None:\n",
    "            steps -= 1\n",
    "            self.current = self.current.next\n",
    "        return self.current.url\n"
   ]
  },
  {
   "cell_type": "code",
   "execution_count": 17,
   "metadata": {},
   "outputs": [
    {
     "ename": "AttributeError",
     "evalue": "'BrowserHistory' object has no attribute 'current'",
     "output_type": "error",
     "traceback": [
      "\u001b[1;31m---------------------------------------------------------------------------\u001b[0m",
      "\u001b[1;31mAttributeError\u001b[0m                            Traceback (most recent call last)",
      "Cell \u001b[1;32mIn[17], line 1\u001b[0m\n\u001b[1;32m----> 1\u001b[0m browserHistory \u001b[39m=\u001b[39m BrowserHistory(\u001b[39m\"\u001b[39;49m\u001b[39mleetcode.com\u001b[39;49m\u001b[39m\"\u001b[39;49m)\n\u001b[0;32m      2\u001b[0m browserHistory\u001b[39m.\u001b[39mvisit(\u001b[39m\"\u001b[39m\u001b[39mgoogle.com\u001b[39m\u001b[39m\"\u001b[39m)\n\u001b[0;32m      3\u001b[0m browserHistory\u001b[39m.\u001b[39mvisit(\u001b[39m\"\u001b[39m\u001b[39mfacebook.com\u001b[39m\u001b[39m\"\u001b[39m)\n",
      "Cell \u001b[1;32mIn[16], line 17\u001b[0m, in \u001b[0;36mBrowserHistory.__init__\u001b[1;34m(self, homepage)\u001b[0m\n\u001b[0;32m     14\u001b[0m \u001b[39mdef\u001b[39;00m \u001b[39m__init__\u001b[39m(\u001b[39mself\u001b[39m, homepage: \u001b[39mstr\u001b[39m):\n\u001b[0;32m     15\u001b[0m     \u001b[39m# self.head = None\u001b[39;00m\n\u001b[0;32m     16\u001b[0m     \u001b[39m# self.tail = None\u001b[39;00m\n\u001b[1;32m---> 17\u001b[0m     \u001b[39mself\u001b[39m\u001b[39m.\u001b[39mhead \u001b[39m=\u001b[39m \u001b[39mself\u001b[39;49m\u001b[39m.\u001b[39;49mcurrent\n\u001b[0;32m     18\u001b[0m     \u001b[39mself\u001b[39m\u001b[39m.\u001b[39mcurrent \u001b[39m=\u001b[39m Node(url \u001b[39m=\u001b[39m homepage)\n",
      "\u001b[1;31mAttributeError\u001b[0m: 'BrowserHistory' object has no attribute 'current'"
     ]
    }
   ],
   "source": [
    "browserHistory = BrowserHistory(\"leetcode.com\")\n",
    "browserHistory.visit(\"google.com\")\n",
    "browserHistory.visit(\"facebook.com\")\n",
    "browserHistory.back(1)"
   ]
  },
  {
   "attachments": {},
   "cell_type": "markdown",
   "metadata": {},
   "source": [
    "선형 자료구조"
   ]
  },
  {
   "cell_type": "code",
   "execution_count": null,
   "metadata": {},
   "outputs": [],
   "source": [
    "class BrowserHistory(object):\n",
    "    def __init__(self, homepage):\n",
    "        \n",
    "    def visit(self, url):\n",
    "\n",
    "    def back(self, steps):\n",
    "        for _ in range(steps):\n",
    "            current = current.next\n",
    "\n",
    "    def forward(self, steps):"
   ]
  }
 ],
 "metadata": {
  "kernelspec": {
   "display_name": "Python 3",
   "language": "python",
   "name": "python3"
  },
  "language_info": {
   "codemirror_mode": {
    "name": "ipython",
    "version": 3
   },
   "file_extension": ".py",
   "mimetype": "text/x-python",
   "name": "python",
   "nbconvert_exporter": "python",
   "pygments_lexer": "ipython3",
   "version": "3.10.11"
  },
  "orig_nbformat": 4
 },
 "nbformat": 4,
 "nbformat_minor": 2
}
