{
 "cells": [
  {
   "attachments": {},
   "cell_type": "markdown",
   "metadata": {},
   "source": [
    "\n",
    "## 시간복잡도를 고려한 방법 >> 정렬과 투포인터를 사용해요"
   ]
  },
  {
   "attachments": {},
   "cell_type": "markdown",
   "metadata": {},
   "source": [
    "list가 있고, 원소들이 있을 때\n",
    "[1,34,5,2]\n",
    "정렬을 해야 할 때 걸리는 시간 복잡도 = $O(nlog_n)$ 입니다"
   ]
  },
  {
   "attachments": {},
   "cell_type": "markdown",
   "metadata": {},
   "source": [
    "twosome에서 $O(n^2)$이 아닌 O(nlogn)을 사용"
   ]
  },
  {
   "attachments": {},
   "cell_type": "markdown",
   "metadata": {},
   "source": [
    "접근방법 >> nlogn\n",
    "* 리스트니까 먼저 정렬을 해요"
   ]
  },
  {
   "cell_type": "code",
   "execution_count": 5,
   "metadata": {},
   "outputs": [
    {
     "data": {
      "text/plain": [
       "True"
      ]
     },
     "execution_count": 5,
     "metadata": {},
     "output_type": "execute_result"
    }
   ],
   "source": [
    "# 답변 예제\n",
    "# input\n",
    "nums = [4,1,9,7,5,3,16]\n",
    "target = 14\n",
    "# output\n",
    "True"
   ]
  },
  {
   "cell_type": "code",
   "execution_count": 8,
   "metadata": {},
   "outputs": [
    {
     "data": {
      "text/plain": [
       "[1, 3, 4, 5, 7, 9, 16]"
      ]
     },
     "execution_count": 8,
     "metadata": {},
     "output_type": "execute_result"
    }
   ],
   "source": [
    "nums.sort()\n",
    "nums"
   ]
  },
  {
   "cell_type": "code",
   "execution_count": 11,
   "metadata": {},
   "outputs": [],
   "source": [
    "#왼쪽은 left로 오른쪽은 right으로 제시\n",
    "\n",
    "n = len(nums)\n",
    "l = 0\n",
    "r = n-1\n",
    "def solution(nums,target):\n",
    "    while l <r:\n",
    "    # 시간복잡도 O(n)\n",
    "        if nums[l]+nums[r] > target:\n",
    "            r -= 1\n",
    "        elif nums[l]+nums[r] < target:\n",
    "            l += 1\n",
    "        elif nums[l] + nums[r] == target:\n",
    "            return True\n",
    "\n"
   ]
  },
  {
   "attachments": {},
   "cell_type": "markdown",
   "metadata": {},
   "source": [
    " 이때의 시간복잡도는 그나마 큰 $O(nlog_n)$이 됩니다"
   ]
  },
  {
   "attachments": {},
   "cell_type": "markdown",
   "metadata": {},
   "source": [
    "vsc의 디버그 기능을 이용하자!\n",
    "(빨간색 점을 클릭하면 해당 자리에서 멈추고, 변수 출력되요)"
   ]
  },
  {
   "attachments": {},
   "cell_type": "markdown",
   "metadata": {},
   "source": [
    "#### 정리 : 완전탐색밖에 생각이 나지 않는다? 완전탐색을 쓰자. 그런데 시간이 말도 안될것 같다? 정렬+투포인터를 씁니다."
   ]
  },
  {
   "attachments": {},
   "cell_type": "markdown",
   "metadata": {},
   "source": [
    "* 이용할 수 있는 것은 모두 이용합시다. input, output, 제한조건 등등"
   ]
  },
  {
   "attachments": {},
   "cell_type": "markdown",
   "metadata": {},
   "source": []
  }
 ],
 "metadata": {
  "kernelspec": {
   "display_name": "Python 3",
   "language": "python",
   "name": "python3"
  },
  "language_info": {
   "codemirror_mode": {
    "name": "ipython",
    "version": 3
   },
   "file_extension": ".py",
   "mimetype": "text/x-python",
   "name": "python",
   "nbconvert_exporter": "python",
   "pygments_lexer": "ipython3",
   "version": "3.10.11"
  },
  "orig_nbformat": 4
 },
 "nbformat": 4,
 "nbformat_minor": 2
}
