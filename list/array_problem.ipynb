{
 "cells": [
  {
   "attachments": {},
   "cell_type": "markdown",
   "metadata": {},
   "source": [
    "공 바꾸기 문제\n",
    "\n",
    "https://www.acmicpc.net/problem/10813"
   ]
  },
  {
   "cell_type": "code",
   "execution_count": 1,
   "metadata": {},
   "outputs": [
    {
     "ename": "SyntaxError",
     "evalue": "invalid syntax (3734675502.py, line 1)",
     "output_type": "error",
     "traceback": [
      "\u001b[1;36m  Cell \u001b[1;32mIn[1], line 1\u001b[1;36m\u001b[0m\n\u001b[1;33m    input = 5 4\u001b[0m\n\u001b[1;37m              ^\u001b[0m\n\u001b[1;31mSyntaxError\u001b[0m\u001b[1;31m:\u001b[0m invalid syntax\n"
     ]
    }
   ],
   "source": [
    "input = 5 4\n",
    "1 2\n",
    "3 4\n",
    "1 4\n",
    "2 2\n",
    "output = 3 1 4 2 5"
   ]
  },
  {
   "cell_type": "code",
   "execution_count": 64,
   "metadata": {},
   "outputs": [
    {
     "name": "stdout",
     "output_type": "stream",
     "text": [
      "3 1 4 2 5 \n"
     ]
    }
   ],
   "source": [
    "# 해결\n",
    "N, M = map(int, input().split())\n",
    "def solution(N, M):\n",
    "    basket = [[i] for i in range(1, N+1)]\n",
    "    for _ in range(M):\n",
    "        i, j = map(int, input().split())\n",
    "        bin = [0, 1]\n",
    "        if i != j:\n",
    "            bin[0], bin[1] = basket[i-1], basket[j-1]\n",
    "            basket[j-1], basket[i-1] = bin[0], bin[1]\n",
    "        else:        \n",
    "            continue\n",
    "    result = []\n",
    "    answer = \"\"\n",
    "    for i in basket:\n",
    "        for j in i:\n",
    "            result.append(j)\n",
    "    for i in result:\n",
    "        answer = answer + str(i) +\" \"\n",
    "    return print(answer)\n",
    "solution(N,M)"
   ]
  },
  {
   "attachments": {},
   "cell_type": "markdown",
   "metadata": {},
   "source": [
    "### 바구니 뒤집기 문제\n",
    "\n",
    "https://www.acmicpc.net/problem/10811"
   ]
  },
  {
   "cell_type": "code",
   "execution_count": null,
   "metadata": {},
   "outputs": [],
   "source": [
    "N, M = map(int, input().split())\n",
    "def solution(N, M):\n",
    "    basket = [i+1 for i in range(N)]\n",
    "    for _ in range(M):\n",
    "        i, j = map(int, input().split())\n",
    "        t = basket[i-1:j]\n",
    "        t.reverse()\n",
    "        basket[i-1:j] = t\n",
    "    result = \"\"\n",
    "    for i in basket:\n",
    "        result = result + str(i) + \" \"\n",
    "    return print(result)\n",
    "solution(N, M)"
   ]
  },
  {
   "cell_type": "code",
   "execution_count": 101,
   "metadata": {},
   "outputs": [
    {
     "ename": "TypeError",
     "evalue": "can only join an iterable",
     "output_type": "error",
     "traceback": [
      "\u001b[1;31m---------------------------------------------------------------------------\u001b[0m",
      "\u001b[1;31mTypeError\u001b[0m                                 Traceback (most recent call last)",
      "Cell \u001b[1;32mIn[101], line 10\u001b[0m\n\u001b[0;32m      8\u001b[0m result \u001b[39m=\u001b[39m \u001b[39m\"\u001b[39m\u001b[39m\"\u001b[39m\n\u001b[0;32m      9\u001b[0m \u001b[39mfor\u001b[39;00m i \u001b[39min\u001b[39;00m basket:\n\u001b[1;32m---> 10\u001b[0m     result\u001b[39m.\u001b[39;49mjoin(i)\n",
      "\u001b[1;31mTypeError\u001b[0m: can only join an iterable"
     ]
    }
   ],
   "source": [
    "N = 5\n",
    "basket = [i+1 for i in range(N)]\n",
    "for _ in range(M):\n",
    "    i, j = map(int, input().split())\n",
    "    t = basket[i-1:j]\n",
    "    t.reverse()\n",
    "    basket[i-1:j] = t\n",
    "result = \"\"\n",
    "for i in basket:\n",
    "    result.join(i)\n"
   ]
  },
  {
   "cell_type": "code",
   "execution_count": 111,
   "metadata": {},
   "outputs": [
    {
     "data": {
      "text/plain": [
       "[3, 4, 1, 2, 5]"
      ]
     },
     "execution_count": 111,
     "metadata": {},
     "output_type": "execute_result"
    }
   ],
   "source": [
    "basket"
   ]
  },
  {
   "cell_type": "code",
   "execution_count": 113,
   "metadata": {},
   "outputs": [
    {
     "name": "stdout",
     "output_type": "stream",
     "text": [
      "3 4 1 2 5 \n"
     ]
    }
   ],
   "source": []
  },
  {
   "cell_type": "code",
   "execution_count": 114,
   "metadata": {},
   "outputs": [
    {
     "data": {
      "text/plain": [
       "[1, 2, 3, 4, 5]"
      ]
     },
     "execution_count": 114,
     "metadata": {},
     "output_type": "execute_result"
    }
   ],
   "source": [
    "basket = [i+1 for i in range(N)]\n",
    "basket"
   ]
  },
  {
   "cell_type": "code",
   "execution_count": 115,
   "metadata": {},
   "outputs": [
    {
     "name": "stdout",
     "output_type": "stream",
     "text": [
      "3 4 1 2 5 \n"
     ]
    }
   ],
   "source": [
    "N, M = map(int, input().split())\n",
    "def solution(N,M):\n",
    "    basket = [i+1 for i in range(N)]\n",
    "    for _ in range(M):\n",
    "        i, j = map(int, input().split())\n",
    "        t = basket[i-1:j]\n",
    "        t.reverse()\n",
    "        basket[i-1:j] = t\n",
    "    result = \"\"\n",
    "    for i in basket:\n",
    "        result = result + str(i) + \" \"\n",
    "    return print(result)\n",
    "solution(N,M)\n"
   ]
  },
  {
   "cell_type": "code",
   "execution_count": null,
   "metadata": {},
   "outputs": [],
   "source": []
  }
 ],
 "metadata": {
  "kernelspec": {
   "display_name": "py3_8_5",
   "language": "python",
   "name": "py3_8_5"
  },
  "language_info": {
   "codemirror_mode": {
    "name": "ipython",
    "version": 3
   },
   "file_extension": ".py",
   "mimetype": "text/x-python",
   "name": "python",
   "nbconvert_exporter": "python",
   "pygments_lexer": "ipython3",
   "version": "3.10.8"
  },
  "orig_nbformat": 4
 },
 "nbformat": 4,
 "nbformat_minor": 2
}
