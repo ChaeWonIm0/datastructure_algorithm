{
 "cells": [
  {
   "attachments": {},
   "cell_type": "markdown",
   "id": "29c2fd1e",
   "metadata": {},
   "source": [
    "#### 1. 반복문\n",
    "* 문제 이해하기 > 접근 방법 > 코드 설계 > 코드 구현"
   ]
  },
  {
   "attachments": {},
   "cell_type": "markdown",
   "id": "8699c413",
   "metadata": {},
   "source": [
    "## Two sum\n",
    "1) 정수가 저장된 배열 nums이 주어졌을 때, nums의 원소 중 두 숫자를 더해서 target이 될 수 있으면 true 불가능하면 false를 반환하세요. 같은 원소를 두번 사용할 수 없습니다."
   ]
  },
  {
   "attachments": {},
   "cell_type": "markdown",
   "id": "ba5b9c77",
   "metadata": {},
   "source": [
    "제약조건\n",
    "- $ 2<=nums.length <= 10^4$\n",
    "- $ -10^9 <= nums[i] <= 10^9$\n",
    "- $ -10^9 <= target <= 10^9 $"
   ]
  },
  {
   "attachments": {},
   "cell_type": "markdown",
   "id": "5c63d04d",
   "metadata": {},
   "source": [
    "#### 문제 이해하기\n",
    "* int 하나당 4byte, \n",
    "* 제약조건 상 -2의 31승부터 2의 31-1까지는 모두 사용해도 되니, int의 크기에 대해서는 걱정하지 않아도 된다. 같은 숫자는 두번 사용할 수 없기 때문에 이 부분 주의. \n",
    "* target도 마찬가지"
   ]
  },
  {
   "attachments": {},
   "cell_type": "markdown",
   "id": "c7d2b379",
   "metadata": {},
   "source": [
    "#### 접근방법\n",
    "\n",
    "1. 직관적으로 생각해요\n",
    "- 1부터 그냥 하나씩 더해보지 뭐\n",
    " = 완전탐색\n",
    " \n",
    "- 상황을 단순화해서 생각해봐요\n",
    " - 원소가 2개라면? 그냥 두개만 더하면 됨. <br> 그이상일 경우에는 한번씩 다 더해봐야지\n",
    "- 상황을 극한화해서 생각해봐요.\n",
    " - 원소의 갯수가 $10^4$개? 일일히 더해봐야 하나?\n",
    "<hr>\n",
    "2. 자료구조를 활용해요\n",
    " * 어떤 구조를 사용할까?\n",
    "  - tree나 graph는 바로 보여요\n",
    "<hr>\n",
    "3. 메모리를 사용해요\n",
    "\n",
    " > 위에서의 방식을 계속 떠올려요\n",
    " + hash table"
   ]
  },
  {
   "cell_type": "code",
   "execution_count": 30,
   "id": "f1ac0e12",
   "metadata": {},
   "outputs": [
    {
     "data": {
      "text/plain": [
       "True"
      ]
     },
     "execution_count": 30,
     "metadata": {},
     "output_type": "execute_result"
    }
   ],
   "source": [
    "# 답변 예제\n",
    "# input\n",
    "nums = [4,1,9,7,5,3,16]\n",
    "target = 14\n",
    "# output\n",
    "True"
   ]
  },
  {
   "cell_type": "code",
   "execution_count": 2,
   "id": "405795d0",
   "metadata": {},
   "outputs": [
    {
     "data": {
      "text/plain": [
       "False"
      ]
     },
     "execution_count": 2,
     "metadata": {},
     "output_type": "execute_result"
    }
   ],
   "source": [
    "# input\n",
    "nums = [2,1,5,7]\n",
    "target = 4\n",
    "# output\n",
    "False"
   ]
  },
  {
   "attachments": {},
   "cell_type": "markdown",
   "id": "3de663d3",
   "metadata": {},
   "source": [
    "#### 코드설계\n",
    "* 대충 이중 for문을 사용하면 되겠구나\n",
    " - nums[i]와 nums[j]를 더하나?\n",
    "* return True를 쓰면 되겠구나(print()으로 쓸뻔 함)\n",
    "\n",
    "> 이 과정은 O(n)의 시간복잡도 X O(n)번 돌려서 결과적으로 $O(n^2)$"
   ]
  },
  {
   "cell_type": "code",
   "execution_count": 3,
   "id": "90eccbb2",
   "metadata": {},
   "outputs": [],
   "source": [
    "# 시간 초과가 될 수 있음\n",
    "def solution(nums, target):\n",
    "    for i in range(0, len(nums)):\n",
    "        for j in range(1, len(nums)):\n",
    "            if nums[i]+nums[j] == target:\n",
    "                return True\n",
    "            else:\n",
    "                return False"
   ]
  },
  {
   "cell_type": "code",
   "execution_count": 4,
   "id": "c3bda8eb",
   "metadata": {},
   "outputs": [
    {
     "data": {
      "text/plain": [
       "False"
      ]
     },
     "execution_count": 4,
     "metadata": {},
     "output_type": "execute_result"
    }
   ],
   "source": [
    "solution(nums,target)"
   ]
  },
  {
   "cell_type": "code",
   "execution_count": 5,
   "id": "a587d131",
   "metadata": {},
   "outputs": [
    {
     "data": {
      "text/plain": [
       "[2, 1, 5, 7]"
      ]
     },
     "execution_count": 5,
     "metadata": {},
     "output_type": "execute_result"
    }
   ],
   "source": [
    "nums"
   ]
  },
  {
   "attachments": {},
   "cell_type": "markdown",
   "id": "836aa218",
   "metadata": {},
   "source": [
    "### 현실적으로 시간초과가 될 경우 빠르게 포기해요"
   ]
  },
  {
   "attachments": {},
   "cell_type": "markdown",
   "id": "3ca35fa6",
   "metadata": {},
   "source": [
    "> 자료구조\n",
    "or\n",
    "> 메모리 사용"
   ]
  },
  {
   "cell_type": "code",
   "execution_count": 10,
   "id": "7bf4d5f5",
   "metadata": {},
   "outputs": [],
   "source": [
    "# 정답\n",
    "def solution(nums, target):\n",
    "    n = len(nums)\n",
    "    for i in range(n-1):\n",
    "        for j in range(i+1, n):\n",
    "            if nums[i] + nums[j] == target:\n",
    "                return True\n",
    "    return False"
   ]
  },
  {
   "cell_type": "code",
   "execution_count": 11,
   "id": "68893300",
   "metadata": {},
   "outputs": [
    {
     "data": {
      "text/plain": [
       "False"
      ]
     },
     "execution_count": 11,
     "metadata": {},
     "output_type": "execute_result"
    }
   ],
   "source": [
    "solution(nums=[1,4,2,56], target = 4)"
   ]
  },
  {
   "cell_type": "code",
   "execution_count": 2,
   "id": "a4577124",
   "metadata": {},
   "outputs": [],
   "source": [
    "# 이게 더 빠르지 않나?\n",
    "def solution(nums, target):\n",
    "    while nums:\n",
    "        num_2 = nums.pop(0)\n",
    "        for num_1 in nums:\n",
    "            if num_1 + num_2 == target:\n",
    "                return True         \n",
    "\n",
    "        \n",
    "    return False"
   ]
  },
  {
   "cell_type": "code",
   "execution_count": 6,
   "id": "1839df7d",
   "metadata": {},
   "outputs": [
    {
     "data": {
      "text/plain": [
       "True"
      ]
     },
     "execution_count": 6,
     "metadata": {},
     "output_type": "execute_result"
    }
   ],
   "source": [
    "solution(nums=[4,1,9,7,5,3,16], target = 6)"
   ]
  },
  {
   "cell_type": "code",
   "execution_count": 51,
   "id": "75f7461e",
   "metadata": {},
   "outputs": [],
   "source": [
    "# target을 더할 수 있는 nums 리스트의 자릿값을 구하는 문제\n",
    "\n",
    "\n",
    "def solution(nums, target):\n",
    "    q= {}\n",
    "\n",
    "    for key, value in enumerate(nums):\n",
    "        q[value] = key\n",
    "    \n",
    "    for key, value in enumerate(nums):\n",
    "        if target - value in q and key != q[target-value]:\n",
    "            return [key, q[target-value]]\n",
    "    "
   ]
  },
  {
   "cell_type": "code",
   "execution_count": 52,
   "id": "0e257456",
   "metadata": {},
   "outputs": [
    {
     "data": {
      "text/plain": [
       "[2, 4]"
      ]
     },
     "execution_count": 52,
     "metadata": {},
     "output_type": "execute_result"
    }
   ],
   "source": [
    "solution(nums=[4,1,9,7,5,3,16], target = 14)"
   ]
  },
  {
   "cell_type": "code",
   "execution_count": null,
   "id": "f53c38e8",
   "metadata": {},
   "outputs": [],
   "source": []
  }
 ],
 "metadata": {
  "kernelspec": {
   "display_name": "Python 3 (ipykernel)",
   "language": "python",
   "name": "python3"
  },
  "language_info": {
   "codemirror_mode": {
    "name": "ipython",
    "version": 3
   },
   "file_extension": ".py",
   "mimetype": "text/x-python",
   "name": "python",
   "nbconvert_exporter": "python",
   "pygments_lexer": "ipython3",
   "version": "3.10.11"
  }
 },
 "nbformat": 4,
 "nbformat_minor": 5
}
