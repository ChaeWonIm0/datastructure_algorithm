{
 "cells": [
  {
   "attachments": {},
   "cell_type": "markdown",
   "metadata": {},
   "source": [
    "### Daily Temperatures\n",
    "\n",
    "* 매일의 온도를 나타내는 int형 배열 temperatures가 주어진다. answer배열의 원소 answer[i]는 i번째 날의 온도보다 더 따뜻해지기까지 며칠을 기다려야하는지 나타낸다. 만약 더 따뜻해지는 날이 없다면 answer[i] == 0 이다. answer 배열을 반환하는 함수를 구현하시오.\n",
    "\n",
    "* 제약조건\n",
    "* 1 <= temperatures.length <= 10^5\n",
    "* 30 <= temperatures[i] <= 100"
   ]
  },
  {
   "attachments": {},
   "cell_type": "markdown",
   "metadata": {},
   "source": [
    "* stack의 장점 : 모든 경우의 수가 아니라, 한번만 다른 스택에 다 채워넣을 수가 있음.\n",
    "* 시간복잡도 O(n)"
   ]
  },
  {
   "cell_type": "code",
   "execution_count": 2,
   "metadata": {},
   "outputs": [],
   "source": [
    "#Input: temperatures = [73,74,75,71,69,72,76,73]\n",
    "#Output: [1,1,4,2,1,1,0,0]\n",
    "\n",
    "# 문제에서 기본제공\n",
    "class Solution:\n",
    "    def dailyTemperatures(self, temperatures: List[int]) -> List[int]:\n",
    "        "
   ]
  },
  {
   "cell_type": "code",
   "execution_count": 1,
   "metadata": {},
   "outputs": [
    {
     "data": {
      "text/plain": [
       "[73, 74, 75, 71, 69, 72, 76, 73]"
      ]
     },
     "execution_count": 1,
     "metadata": {},
     "output_type": "execute_result"
    }
   ],
   "source": [
    "temperatures = [73,74,75,71,69,72,76,73]\n",
    "temperatures"
   ]
  },
  {
   "cell_type": "code",
   "execution_count": 3,
   "metadata": {},
   "outputs": [],
   "source": [
    "class Solution:\n",
    "    def dailyTemperatures(self, temperatures: list[int]) -> list[int]:\n",
    "        stack = []\n",
    "        answer = [0]*len(temperatures)\n",
    "        for current_day, current_temp in enumerate(temperatures):\n",
    "            while stack and stack[-1][1] > current_temp:\n",
    "                prev_day, _ = stack.pop()\n",
    "                answer[prev_day] = current_day - prev_day\n",
    "            stack.append((current_day, current_temp))\n",
    "        return answer"
   ]
  },
  {
   "cell_type": "code",
   "execution_count": 6,
   "metadata": {},
   "outputs": [
    {
     "data": {
      "text/plain": [
       "4"
      ]
     },
     "execution_count": 6,
     "metadata": {},
     "output_type": "execute_result"
    }
   ],
   "source": [
    "stack = []\n",
    "stack.append((1,2))\n",
    "stack.append((2,3))\n",
    "stack.append((3,4))\n",
    "stack[-1][1]"
   ]
  },
  {
   "cell_type": "code",
   "execution_count": 36,
   "metadata": {},
   "outputs": [
    {
     "name": "stdout",
     "output_type": "stream",
     "text": [
      "[73]\n",
      "[1]\n",
      "[1, 1]\n",
      "[73, 71]\n",
      "[73, 71, 69]\n",
      "[1, 1, 3]\n",
      "[1, 1, 3, 3]\n",
      "[1, 1, 3, 3, 3]\n"
     ]
    }
   ],
   "source": [
    "# 내 풀이\n",
    "bigstack = []\n",
    "smallstack=[]\n",
    "temp, prev = 0, 0\n",
    "for i in temperatures:\n",
    "    if prev == 0:\n",
    "        temp += 1\n",
    "        prev = i\n",
    "    elif i > prev:\n",
    "        bigstack.append(temp)\n",
    "        prev = i\n",
    "    elif i < prev:\n",
    "        prev = smallstack.append(temp)\n",
    "    "
   ]
  },
  {
   "cell_type": "code",
   "execution_count": 24,
   "metadata": {},
   "outputs": [],
   "source": [
    "temperatures = [73,74,75,71,69,72,76,73]"
   ]
  },
  {
   "cell_type": "code",
   "execution_count": 44,
   "metadata": {},
   "outputs": [],
   "source": [
    "# 해결안\n",
    "class Solution:\n",
    "    def dailyTemperatures(self, temperatures: list[int]) -> list[int]:\n",
    "        answer = [0] * len(temperatures)\n",
    "        stack = []\n",
    "        for current_day, current_temp in enumerate(temperatures):\n",
    "            while stack and stack[-1][1] < current_temp:\n",
    "                prev_day, _ = stack.pop()\n",
    "                answer[prev_day] = current_day - prev_day\n",
    "            stack.append((current_day, current_temp))\n",
    "        return answer"
   ]
  },
  {
   "cell_type": "code",
   "execution_count": 25,
   "metadata": {},
   "outputs": [
    {
     "data": {
      "text/plain": [
       "[1, 1, 4, 2, 1, 1, 0, 0]"
      ]
     },
     "execution_count": 25,
     "metadata": {},
     "output_type": "execute_result"
    }
   ],
   "source": [
    "i = Solution\n",
    "i.dailyTemperatures(i, temperatures=temperatures)"
   ]
  },
  {
   "cell_type": "code",
   "execution_count": 58,
   "metadata": {},
   "outputs": [
    {
     "data": {
      "text/plain": [
       "[73,\n",
       " 1,\n",
       " 1,\n",
       " 4,\n",
       " 4,\n",
       " 7,\n",
       " 12,\n",
       " 13,\n",
       " 13,\n",
       " 14,\n",
       " 14,\n",
       " 14,\n",
       " 14,\n",
       " 14,\n",
       " 14,\n",
       " 14,\n",
       " 14,\n",
       " 14,\n",
       " 14,\n",
       " 14,\n",
       " 16,\n",
       " 16,\n",
       " 22,\n",
       " 22,\n",
       " 25,\n",
       " 1,\n",
       " 1,\n",
       " 4,\n",
       " 4,\n",
       " 7,\n",
       " 12,\n",
       " 13,\n",
       " 13,\n",
       " 14,\n",
       " 14,\n",
       " 14,\n",
       " 14,\n",
       " 14,\n",
       " 14,\n",
       " 14,\n",
       " 14,\n",
       " 14,\n",
       " 14,\n",
       " 14,\n",
       " 16,\n",
       " 16,\n",
       " 22,\n",
       " 22,\n",
       " 25]"
      ]
     },
     "execution_count": 58,
     "metadata": {},
     "output_type": "execute_result"
    }
   ],
   "source": [
    "stack"
   ]
  },
  {
   "attachments": {},
   "cell_type": "markdown",
   "metadata": {},
   "source": [
    "enumerate() 함수: 파이썬의 내장함수\n",
    "인덱스와 원소로 이루어진 튜플을 만들어줍니다."
   ]
  },
  {
   "cell_type": "code",
   "execution_count": 59,
   "metadata": {},
   "outputs": [],
   "source": [
    "\n",
    "def dailyTemperatures(temperatures):\n",
    "    n = len(temperatures)\n",
    "    answer = [0] * n\n",
    "    for cur_day in range(n):\n",
    "        for future_day in range(cur_day + 1, n):\n",
    "            if temperatures[future_day] > temperatures[cur_day]:\n",
    "                answer[cur_day] = future_day - cur_day\n",
    "                break\n",
    "    return answer"
   ]
  },
  {
   "cell_type": "code",
   "execution_count": null,
   "metadata": {},
   "outputs": [],
   "source": [
    "# # 문제에서 제공\n",
    "# class Solution:\n",
    "#     def dailyTemperatures(self, temperatures: list[int]) -> list[int]:\n",
    "# https://leetcode.com/problems/daily-temperatures"
   ]
  },
  {
   "cell_type": "code",
   "execution_count": 74,
   "metadata": {},
   "outputs": [
    {
     "data": {
      "text/plain": [
       "[1, 1, 4, 2, 1, 1, 0, 0]"
      ]
     },
     "execution_count": 74,
     "metadata": {},
     "output_type": "execute_result"
    }
   ],
   "source": [
    "m = Solution\n",
    "m.dailyTemperatures(m, temperatures=temperatures)"
   ]
  },
  {
   "cell_type": "code",
   "execution_count": 73,
   "metadata": {},
   "outputs": [],
   "source": [
    "class Solution:\n",
    "    def dailyTemperatures(self, temperatures: list[int]) -> list[int]:\n",
    "        stack = []\n",
    "        answer = len(temperatures)*[0]\n",
    "        for current_day, current_temp in enumerate(temperatures):\n",
    "            while stack and stack[-1][1] < current_temp:\n",
    "                prev_day, _ = stack.pop()\n",
    "                answer[prev_day] = current_day - prev_day\n",
    "            stack.append((current_day, current_temp))\n",
    "        return answer"
   ]
  },
  {
   "cell_type": "code",
   "execution_count": 12,
   "metadata": {},
   "outputs": [],
   "source": [
    "# 해결안\n",
    "class Solution:\n",
    "    def dailyTemperatures(self, temperatures: list[int]) -> list[int]:\n",
    "        stack = []\n",
    "        answer = [0] * len(temperatures)\n",
    "        for current_day, current_temp in enumerate(temperatures):\n",
    "            while stack and stack[-1][1] < current_temp:\n",
    "                prev_day, _ = stack.pop()\n",
    "                answer[prev_day] = current_day - prev_day\n",
    "            stack.append((current_day, current_temp))\n",
    "        return answer"
   ]
  },
  {
   "cell_type": "code",
   "execution_count": 2,
   "metadata": {},
   "outputs": [
    {
     "data": {
      "text/plain": [
       "[1, 1, 4, 2, 1, 1, 0, 0]"
      ]
     },
     "execution_count": 2,
     "metadata": {},
     "output_type": "execute_result"
    }
   ],
   "source": [
    "temperatures = [73,74,75,71,69,72,76,73]\n",
    "i = Solution\n",
    "i.dailyTemperatures(i, temperatures=temperatures)"
   ]
  },
  {
   "cell_type": "code",
   "execution_count": 18,
   "metadata": {},
   "outputs": [],
   "source": [
    "class Solution:\n",
    "    def dailyTemperatures(self, temperatures: list[int]) -> list[int]:\n",
    "        stack = []\n",
    "        answer = [0]*len(temperatures)\n",
    "        for current_day, current_temp in enumerate(temperatures):\n",
    "            while stack and stack[-1][1] < current_temp:\n",
    "                prev_day, prev_temp = stack.pop()\n",
    "                answer[prev_day] = current_day - prev_day\n",
    "            stack.append((current_day, current_temp))\n",
    "        return answer"
   ]
  },
  {
   "cell_type": "code",
   "execution_count": 1,
   "metadata": {},
   "outputs": [],
   "source": [
    "class Solution:\n",
    "    def dailyTemperatures(self, temperatures: list[int]) -> list[int]:\n",
    "        stack = []\n",
    "        answer = [0]*len(temperatures)\n",
    "        for current_day, current_temp in enumerate(temperatures):\n",
    "            while stack and current_temp > stack[-1][1]:\n",
    "                prev_day, prev_temp = stack.pop()\n",
    "                answer[prev_day] = current_day - prev_day\n",
    "            stack.append((current_day, current_temp))\n",
    "\n",
    "        return answer"
   ]
  },
  {
   "cell_type": "code",
   "execution_count": null,
   "metadata": {},
   "outputs": [],
   "source": []
  }
 ],
 "metadata": {
  "kernelspec": {
   "display_name": "Python 3",
   "language": "python",
   "name": "python3"
  },
  "language_info": {
   "codemirror_mode": {
    "name": "ipython",
    "version": 3
   },
   "file_extension": ".py",
   "mimetype": "text/x-python",
   "name": "python",
   "nbconvert_exporter": "python",
   "pygments_lexer": "ipython3",
   "version": "3.10.11"
  },
  "orig_nbformat": 4
 },
 "nbformat": 4,
 "nbformat_minor": 2
}
