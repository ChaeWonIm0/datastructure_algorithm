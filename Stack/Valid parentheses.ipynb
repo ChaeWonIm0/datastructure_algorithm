{
 "cells": [
  {
   "attachments": {},
   "cell_type": "markdown",
   "metadata": {},
   "source": [
    "### Valid Parentheses\n",
    "\n",
    "* '(){}[]'를 포함하고 있는 문자열 s가 주어졌을 때, 괄호가 유효한지 아닌지 판별하시오.\n",
    "\n",
    "\n",
    "* 제약조건\n",
    "* 1 <= s.length <= 10^4\n",
    "* 문자열 s는 '()[]{}'의 괄호들로만 구성되어 있다."
   ]
  },
  {
   "cell_type": "code",
   "execution_count": null,
   "metadata": {},
   "outputs": [],
   "source": [
    "# 내풀이\n",
    "class Solution(object):\n",
    "    def isValid(self, s: str) -> bool:\n",
    "        alist = []\n",
    "        for i in range (0, len(s)):\n",
    "            alist.append(s[i])\n",
    "        if len(alist) // 2 == 0:\n",
    "            if alist.pop(0) != alist.pop():\n",
    "                print(True)\n",
    "            else:\n",
    "                print(False)\n"
   ]
  },
  {
   "cell_type": "code",
   "execution_count": 63,
   "metadata": {},
   "outputs": [],
   "source": [
    "# 해답\n",
    "class Solution:\n",
    "    def isValid(self, s:str) -> bool:\n",
    "        stack = []\n",
    "        for i in s:\n",
    "            if i == \"(\":\n",
    "                stack.append(\")\")\n",
    "            elif i == \"{\":\n",
    "                stack.append(\"}\")\n",
    "            elif i == \"[\":\n",
    "                stack.append(\"]\")\n",
    "            elif not stack or stack.pop() != i:\n",
    "                return False\n",
    "\n",
    "        return not stack    "
   ]
  },
  {
   "cell_type": "code",
   "execution_count": 64,
   "metadata": {},
   "outputs": [
    {
     "data": {
      "text/plain": [
       "True"
      ]
     },
     "execution_count": 64,
     "metadata": {},
     "output_type": "execute_result"
    }
   ],
   "source": [
    "p = Solution\n",
    "p.isValid(p,s=\"[]\")"
   ]
  },
  {
   "cell_type": "code",
   "execution_count": 99,
   "metadata": {},
   "outputs": [],
   "source": [
    "class Solution(object):\n",
    "    def isValid(self, s: str) -> bool:\n",
    "        q = []\n",
    "        for i in s:\n",
    "            if i == \"(\":\n",
    "                q.append(\")\")\n",
    "            elif i == \"{\":\n",
    "                q.append(\"}\")\n",
    "            elif i == \"[\":\n",
    "                q.append(\"]\")\n",
    "            # not q가 리스트 q가 비어있다는 뜻!\n",
    "            elif not q and i != q.pop():\n",
    "                return False\n",
    "        return not q"
   ]
  },
  {
   "cell_type": "code",
   "execution_count": 101,
   "metadata": {},
   "outputs": [
    {
     "data": {
      "text/plain": [
       "True"
      ]
     },
     "execution_count": 101,
     "metadata": {},
     "output_type": "execute_result"
    }
   ],
   "source": [
    "p = Solution\n",
    "p.isValid(p,s=\"[]\")"
   ]
  },
  {
   "cell_type": "code",
   "execution_count": 90,
   "metadata": {},
   "outputs": [
    {
     "data": {
      "text/plain": [
       "False"
      ]
     },
     "execution_count": 90,
     "metadata": {},
     "output_type": "execute_result"
    }
   ],
   "source": [
    "q = [1,2,3]\n",
    "q.pop()\n",
    "q.pop()\n",
    "not q"
   ]
  },
  {
   "cell_type": "code",
   "execution_count": 100,
   "metadata": {},
   "outputs": [],
   "source": [
    "class Solution(object):\n",
    "    def isValid(self, s: str) -> bool:\n",
    "        q = []\n",
    "        for i in s:\n",
    "            if i == \"(\":\n",
    "                q.append(\")\")\n",
    "            elif i == \"{\":\n",
    "                q.append(\"}\")\n",
    "            elif i == \"[\":\n",
    "                q.append(\"]\")\n",
    "            elif not q or i != q.pop():\n",
    "                return False\n",
    "        return not q"
   ]
  },
  {
   "cell_type": "code",
   "execution_count": null,
   "metadata": {},
   "outputs": [],
   "source": []
  }
 ],
 "metadata": {
  "kernelspec": {
   "display_name": "Python 3",
   "language": "python",
   "name": "python3"
  },
  "language_info": {
   "codemirror_mode": {
    "name": "ipython",
    "version": 3
   },
   "file_extension": ".py",
   "mimetype": "text/x-python",
   "name": "python",
   "nbconvert_exporter": "python",
   "pygments_lexer": "ipython3",
   "version": "3.10.11"
  },
  "orig_nbformat": 4
 },
 "nbformat": 4,
 "nbformat_minor": 2
}
