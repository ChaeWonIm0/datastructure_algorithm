{
 "cells": [
  {
   "attachments": {},
   "cell_type": "markdown",
   "metadata": {},
   "source": [
    "### Heap 힙\n",
    "#### 완전 이진 트리로 구현된 자료구조\n",
    "\n",
    "- 일단 비어있는 노드 없이 꽉 채워져 있는 것이 complete binary tree 입니다"
   ]
  },
  {
   "attachments": {},
   "cell_type": "markdown",
   "metadata": {},
   "source": [
    "### \"힙이 우선순위 큐 중에서 가장 쓸만한 것\"\n",
    "\n",
    "> min heap : 부모 노드의 값이 자식 노드의 값보다 작은 트리 형태\n",
    "\n",
    "> max heap : 부모 노드의 값이 자식 노드의 값보다 큰 트리 형태"
   ]
  },
  {
   "attachments": {},
   "cell_type": "markdown",
   "metadata": {},
   "source": [
    "- 추가 특징\n",
    "\n",
    "1) 형제 노드간에서는 대, 소 관계가 정해지지 않는다.\n",
    "2) root 노드가 가장 큰 값을 갖는다."
   ]
  },
  {
   "attachments": {},
   "cell_type": "markdown",
   "metadata": {},
   "source": [
    "# 자동으로 힙(완전 이진 트리)을 만들어주는 라이브러리\n",
    "## import heapq"
   ]
  },
  {
   "cell_type": "code",
   "execution_count": null,
   "metadata": {},
   "outputs": [],
   "source": [
    "import heapq\n",
    "min_heap = a\n",
    "heapq.heapify(min_heap)"
   ]
  },
  {
   "cell_type": "code",
   "execution_count": null,
   "metadata": {},
   "outputs": [
    {
     "data": {
      "text/plain": [
       "[1, 2, 4, 89, 52, 6]"
      ]
     },
     "metadata": {},
     "output_type": "display_data"
    }
   ],
   "source": [
    "min_heap"
   ]
  },
  {
   "cell_type": "code",
   "execution_count": null,
   "metadata": {},
   "outputs": [
    {
     "data": {
      "text/plain": [
       "[1, 2, 4, 89, 52, 6]"
      ]
     },
     "metadata": {},
     "output_type": "display_data"
    }
   ],
   "source": [
    "import heapq\n",
    "heapq.heapify(a)\n",
    "a"
   ]
  },
  {
   "cell_type": "code",
   "execution_count": null,
   "metadata": {},
   "outputs": [
    {
     "data": {
      "text/plain": [
       "[1, 3, 2, 4, 5, 9, 6]"
      ]
     },
     "metadata": {},
     "output_type": "display_data"
    }
   ],
   "source": [
    "import heapq\n",
    "min_heap = [5,3,9,4,1,2,6]\n",
    "heapq.heapify(min_heap)\n",
    "min_heap"
   ]
  },
  {
   "attachments": {},
   "cell_type": "markdown",
   "metadata": {},
   "source": [
    "#### Heap pop 과 dequeue()"
   ]
  },
  {
   "cell_type": "code",
   "execution_count": null,
   "metadata": {},
   "outputs": [
    {
     "ename": "NameError",
     "evalue": "name 'min_heap' is not defined",
     "output_type": "error",
     "traceback": [
      "\u001b[1;31m---------------------------------------------------------------------------\u001b[0m\n",
      "\u001b[1;31mNameError\u001b[0m                                 Traceback (most recent call last)\n",
      "Cell \u001b[1;32mIn[7], line 2\u001b[0m\n",
      "\u001b[0;32m      1\u001b[0m \u001b[39mimport\u001b[39;00m \u001b[39mheapq\u001b[39;00m\n",
      "\u001b[1;32m----> 2\u001b[0m heapq\u001b[39m.\u001b[39mheapify(min_heap)\n",
      "\u001b[0;32m      3\u001b[0m heapq\u001b[39m.\u001b[39mheappop(min_heap)\n",
      "\u001b[0;32m      4\u001b[0m min_heap\n",
      "\n",
      "\u001b[1;31mNameError\u001b[0m: name 'min_heap' is not defined"
     ]
    }
   ],
   "source": [
    "import heapq\n",
    "heapq.heapify(min_heap)\n",
    "heapq.heappop(min_heap)\n",
    "min_heap"
   ]
  },
  {
   "cell_type": "code",
   "execution_count": null,
   "metadata": {},
   "outputs": [],
   "source": [
    "# max heap\n",
    "import heapq\n",
    "max_heap = [5,3, 9, 4, 1,2,6]\n",
    "max_heap = [i * -1 for i in max_heap]\n",
    "heapq.heapify(max_heap)\n",
    "weight = heapq.heappop(max_heap)\n",
    "value = -1 * weight"
   ]
  },
  {
   "cell_type": "code",
   "execution_count": null,
   "metadata": {},
   "outputs": [
    {
     "data": {
      "text/plain": [
       "[-6, -4, -5, -3, -1, -2]"
      ]
     },
     "metadata": {},
     "output_type": "display_data"
    }
   ],
   "source": [
    "max_heap"
   ]
  },
  {
   "cell_type": "code",
   "execution_count": null,
   "metadata": {},
   "outputs": [
    {
     "data": {
      "text/plain": [
       "[(-6, 6), (-4, 4), (-5, 5), (-3, 3), (-1, 1), (-2, 2)]"
      ]
     },
     "metadata": {},
     "output_type": "display_data"
    }
   ],
   "source": [
    "# 3번째\n",
    "import heapq\n",
    "max_heap = [5,3, 9, 4, 1,2,6]\n",
    "max_heap = [(-1 * i, i) for i in max_heap]\n",
    "heapq.heapify(max_heap)\n",
    "weight, value = heapq.heappop(max_heap)\n",
    "max_heap"
   ]
  }
 ],
 "metadata": {
  "language_info": {
   "name": "python"
  },
  "orig_nbformat": 4
 },
 "nbformat": 4,
 "nbformat_minor": 2
}
