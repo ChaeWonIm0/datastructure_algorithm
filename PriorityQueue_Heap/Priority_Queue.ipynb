{
 "cells": [
  {
   "attachments": {},
   "cell_type": "markdown",
   "metadata": {},
   "source": [
    "### Priority queue 우선순위 큐\n",
    "\n",
    "* queue : 선입선출 형태\n",
    "##### priority queue : 우선순위가 높은 값이 먼저 추출됩니다!\n"
   ]
  },
  {
   "attachments": {},
   "cell_type": "markdown",
   "metadata": {},
   "source": [
    "> array로 구현되어 있을 수도, linked list로 구현될 수도 있습니다."
   ]
  },
  {
   "attachments": {},
   "cell_type": "markdown",
   "metadata": {},
   "source": [
    "1. 배열 방식\n",
    "\n",
    "> enqueue(1)\n",
    "* 시간복잡도는 O(1)\n",
    "\n",
    "> dequeue()를 하는 경우 (최솟값 찾기)\n",
    "* 이때 시간복잡도는 O(n)\n",
    "- 앞으로 당겨주는 시간복잡도도 O(n)\n",
    "\n"
   ]
  },
  {
   "attachments": {},
   "cell_type": "markdown",
   "metadata": {},
   "source": [
    "2. 저장하는 순간 정렬하는 배열 방식\n",
    "\n",
    "> enqueue(x) 후 정렬\n",
    "* 시간복잡도는 $O(nlogn)$\n",
    "\n",
    "> dequeue(x) 우선순위 없이 반환\n",
    "* 시간복잡도는 미리 정렬이 되어 있어서 O(1) "
   ]
  },
  {
   "attachments": {},
   "cell_type": "markdown",
   "metadata": {},
   "source": [
    "3. 완전 이진 트리\n",
    "\n",
    "> 노드를 생성하고 enqueue()\n",
    "\n",
    "> 왼쪽 자식노드에 queue 추가\n",
    "\n",
    "> 우선순위가 높은 노드라면 root로 보내버림\n",
    "\n",
    "> 오른쪽 자식노드에 queue 추가\n",
    "\n",
    "> 우선순위가 낮다면 그대로 유지\n",
    "\n",
    "> root.left.left 노드에 노드 추가\n",
    "\n",
    "> 이 자식노드도 우선순위가 높다면 상위 root로 교체\n",
    "\n",
    "> 반복 반복\n",
    "\n",
    "* 시간복잡도는 depth만큼 swap을 해주어야 하고, $O(logn)$\n",
    "(enque)"
   ]
  },
  {
   "attachments": {},
   "cell_type": "markdown",
   "metadata": {},
   "source": [
    "* deque의 경우\n",
    "\n",
    "> root 노드 추출\n",
    "\n",
    "> 맨 마지막 노드가 root가 됨\n",
    "\n",
    "> 우선순위가 더 높은 노드가 있다면 swap\n",
    "\n",
    "> 반환\n",
    "\n",
    "* 이때의 시간복잡도 $O(logn)$\n",
    "\n",
    "완전 이진 트리 하에서\n",
    "\n",
    "enqueue() 도 $O(logn)$\n",
    "\n",
    "dequeue() 도 $O(logn)$\n",
    "> 시간복잡도가 제일 안정적이고 (변화가 적고) 효과적이라는 뜻!\n"
   ]
  },
  {
   "attachments": {},
   "cell_type": "markdown",
   "metadata": {},
   "source": []
  }
 ],
 "metadata": {
  "language_info": {
   "name": "python"
  },
  "orig_nbformat": 4
 },
 "nbformat": 4,
 "nbformat_minor": 2
}
