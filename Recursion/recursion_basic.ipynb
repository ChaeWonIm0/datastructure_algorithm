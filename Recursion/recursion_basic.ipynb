{
 "cells": [
  {
   "attachments": {},
   "cell_type": "markdown",
   "metadata": {},
   "source": [
    "### 재귀문\n",
    "\n",
    "- 자신을 정의할 때, 자기자신을 재참조 하는 함수\n",
    "\n",
    "- DP, 백트래킹, 트리, 그래프 등으로 다양하게 응용되서 쓰이기도 합니다\n"
   ]
  },
  {
   "cell_type": "code",
   "execution_count": 1,
   "metadata": {},
   "outputs": [],
   "source": [
    "def factorial(n):\n",
    "    if n == 1:\n",
    "        return 1\n",
    "    return n* factorial(n-1)"
   ]
  },
  {
   "cell_type": "code",
   "execution_count": 2,
   "metadata": {},
   "outputs": [],
   "source": [
    "def fibo(n):\n",
    "    if n==1 or 2:\n",
    "        return 1\n",
    "    return fibo(n-1) + fibo(n-2)"
   ]
  },
  {
   "cell_type": "code",
   "execution_count": 3,
   "metadata": {},
   "outputs": [
    {
     "data": {
      "text/plain": [
       "1"
      ]
     },
     "execution_count": 3,
     "metadata": {},
     "output_type": "execute_result"
    }
   ],
   "source": [
    "factorial(1)"
   ]
  },
  {
   "attachments": {},
   "cell_type": "markdown",
   "metadata": {},
   "source": [
    "#### 2가지 요소\n",
    "\n",
    "##### recurrence relation (점화식)\n",
    "- F(n)을 F(n-1), F(n-2) ... f(2), f(1)의 관계식으로 표현하는 것\n",
    "- 또 호출을 하긴 하는데, 어떤 식으로 호출하는지 식을 쓰는 것\n",
    "(ex) factorial : F(n) = n*F(n-1)\n",
    "fibo : F(n) = f(n-1) + f(n-2)\n",
    "\n",
    "##### base case\n",
    "- 더이상 재귀호출을 하지 않아도, 계산값을 반환할 수 있는 상황(조건)\n",
    "- 마지막에 나오는 return 문\n",
    "(ex) factorial : if n == 1: return 1\n",
    "fibo : if n ==1 or 2: return 1\n",
    "- base case가 없으면 안됨"
   ]
  },
  {
   "attachments": {},
   "cell_type": "markdown",
   "metadata": {},
   "source": [
    "### 시간복잡도\n",
    "### 재귀함수 전체 시간복잡도 = 재귀함수 호출 수 * (제귀 함수 하나당) 시간 복잡도"
   ]
  },
  {
   "attachments": {},
   "cell_type": "markdown",
   "metadata": {},
   "source": [
    "- O(n) : n에 비례한 호출\n",
    "> 점화식 f(n) = f(n-1)+n\n",
    "\n",
    "- O(2^n) : 2^n에 비례한 호출.\n",
    "함수 하나를 정의할 때, 함수 2개가 호출되는 상황\n",
    "> 점화식 f(n) = f(n-1) + f(n-2)\n",
    "> 3번 호출되면 3^n이 됨 : f(n) = f(n-1)+f(n-2)+f(n-3)\n",
    "> 함수 하나의 시간 복잡도가 O(n)일 경우 : O(n*2^n) 시간\n",
    "\n",
    "- O(log_2n)\n",
    "> 대표적으로 이진 탐색"
   ]
  },
  {
   "attachments": {},
   "cell_type": "markdown",
   "metadata": {},
   "source": []
  }
 ],
 "metadata": {
  "kernelspec": {
   "display_name": "Python 3",
   "language": "python",
   "name": "python3"
  },
  "language_info": {
   "codemirror_mode": {
    "name": "ipython",
    "version": 3
   },
   "file_extension": ".py",
   "mimetype": "text/x-python",
   "name": "python",
   "nbconvert_exporter": "python",
   "pygments_lexer": "ipython3",
   "version": "3.10.11"
  },
  "orig_nbformat": 4
 },
 "nbformat": 4,
 "nbformat_minor": 2
}
