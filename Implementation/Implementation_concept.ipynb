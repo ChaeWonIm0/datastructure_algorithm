{
 "cells": [
  {
   "attachments": {},
   "cell_type": "markdown",
   "metadata": {},
   "source": [
    "> 구현?\n",
    "\n",
    "머릿속에만 있었던 문제를 이해한 소스를 실제 '소스코드'로 바꾸는 과정"
   ]
  },
  {
   "attachments": {},
   "cell_type": "markdown",
   "metadata": {},
   "source": [
    "> 통상적인 구현 유형의 문제\n",
    "1. 풀이를 떠올리는 것은 쉽지만, 소스코드로 '옮기는 것이 어려운 문제'를 지칭\n",
    "2. 예시\n",
    "- 알고리즘은 간단한데, 코드가 갑자기 길어지는 문제\n",
    "- 실수를 계산할 때, 특정 소수점 자리까지 출력해야 하는 문제\n",
    "- 적절한 라이브러리를 찾아야 할 때\n",
    "- string을 일정하게 끊어서 처리하는 문제"
   ]
  }
 ],
 "metadata": {
  "language_info": {
   "name": "python"
  },
  "orig_nbformat": 4
 },
 "nbformat": 4,
 "nbformat_minor": 2
}
