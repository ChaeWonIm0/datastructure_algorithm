{
 "cells": [
  {
   "attachments": {},
   "cell_type": "markdown",
   "metadata": {},
   "source": [
    "> 구현?\n",
    "\n",
    "머릿속에만 있었던 문제를 이해한 소스를 실제 '소스코드'로 바꾸는 과정"
   ]
  },
  {
   "attachments": {},
   "cell_type": "markdown",
   "metadata": {},
   "source": [
    "> 통상적인 구현 유형의 문제\n",
    "1. 풀이를 떠올리는 것은 쉽지만, 소스코드로 '옮기는 것이 어려운 문제'를 지칭\n",
    "2. 예시\n",
    "- 알고리즘은 간단한데, 코드가 갑자기 길어지는 문제\n",
    "- 실수를 계산할 때, 특정 소수점 자리까지 출력해야 하는 문제\n",
    "- 적절한 라이브러리를 찾아야 할 때\n",
    "- string을 일정하게 끊어서 처리하는 문제"
   ]
  },
  {
   "attachments": {},
   "cell_type": "markdown",
   "metadata": {},
   "source": [
    "### 공간의 개념\n",
    "\n",
    "2차원\n"
   ]
  },
  {
   "cell_type": "code",
   "execution_count": 12,
   "metadata": {},
   "outputs": [
    {
     "name": "stdout",
     "output_type": "stream",
     "text": [
      "( 0 , 0 )( 0 , 1 )( 0 , 2 )( 0 , 3 )( 0 , 4 )( 0 , 5 )\n",
      "( 1 , 0 )( 1 , 1 )( 1 , 2 )( 1 , 3 )( 1 , 4 )( 1 , 5 )\n",
      "( 2 , 0 )( 2 , 1 )( 2 , 2 )( 2 , 3 )( 2 , 4 )( 2 , 5 )\n",
      "( 3 , 0 )( 3 , 1 )( 3 , 2 )( 3 , 3 )( 3 , 4 )( 3 , 5 )\n",
      "( 4 , 0 )( 4 , 1 )( 4 , 2 )( 4 , 3 )( 4 , 4 )( 4 , 5 )\n",
      "( 5 , 0 )( 5 , 1 )( 5 , 2 )( 5 , 3 )( 5 , 4 )( 5 , 5 )\n"
     ]
    }
   ],
   "source": [
    "# 2차원 공간은 행렬로 사용됨\n",
    "for i in range(6):\n",
    "    for j in range(6):\n",
    "        print('(',i,',',j,')',end = '')\n",
    "    print()\n",
    "\n",
    "# 일반적인 함수 좌표와 다르게\n",
    "# 상하가 x좌표, 좌우가 y좌표로 이동합니다"
   ]
  },
  {
   "cell_type": "code",
   "execution_count": 33,
   "metadata": {},
   "outputs": [
    {
     "name": "stdout",
     "output_type": "stream",
     "text": [
      "현재 위치 : (2,2)\n",
      "1차시 : 바뀐 위치 (1,2)\n",
      "2차시 : 바뀐 위치 (3,2)\n",
      "3차시 : 바뀐 위치 (2,3)\n",
      "4차시 : 바뀐 위치 (2,1)\n"
     ]
    }
   ],
   "source": [
    "# DFS 문제에서의 방향 벡터\n",
    "dx = [-1, 1, 0, 0]\n",
    "dy = [0, 0, 1, -1]\n",
    "# 현재 위치\n",
    "x, y = 2, 2\n",
    "print(f'현재 위치 : ({x},{y})')\n",
    "for i in range(4):\n",
    "    # 다음 위치\n",
    "    nx = x + dx[i]\n",
    "    ny = y + dy[i]    \n",
    "    print(f'{i+1}차시 : 바뀐 위치 ({nx},{ny})')"
   ]
  },
  {
   "cell_type": "code",
   "execution_count": null,
   "metadata": {},
   "outputs": [],
   "source": []
  }
 ],
 "metadata": {
  "kernelspec": {
   "display_name": "Python 3",
   "language": "python",
   "name": "python3"
  },
  "language_info": {
   "codemirror_mode": {
    "name": "ipython",
    "version": 3
   },
   "file_extension": ".py",
   "mimetype": "text/x-python",
   "name": "python",
   "nbconvert_exporter": "python",
   "pygments_lexer": "ipython3",
   "version": "3.10.11"
  },
  "orig_nbformat": 4
 },
 "nbformat": 4,
 "nbformat_minor": 2
}
