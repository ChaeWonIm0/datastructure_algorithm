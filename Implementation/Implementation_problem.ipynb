{
 "cells": [
  {
   "attachments": {},
   "cell_type": "markdown",
   "metadata": {},
   "source": [
    "### 문1. 상하좌우\n",
    "\n",
    "> 문제 설명\n",
    "\n",
    "- 여행가 A는 N x N크기의 정사각형 공간 위에 서있습니다. 이 공간은 1 X 1 크기의 정사각형으로 나누어져 있습니다. 가장 왼쪽 위 좌표는 (1,1)이며, 가장 오른쪽 아래 좌표는 (N , N)에 해당합니다. 여행가 A는 상, 하, 좌, 우 방향으로 이동할 수 있으며, 시작 좌표는 항상 (1,1) 입니다. 우리 앞에는 여행가 A가 이동할 계획이 적힌 계획서가 놓여 있습니다.\n",
    "이때 여행가 A가 N x N 크기의 정사각형 공간을 벗어나는 움직임은 무시됩니다.\n",
    "- 계획서에는 하나의 줄에 띄어쓰기를 기준으로 하여, L, R, U, D중 하나의 문자가 반복적으로 적혀 있습니다. 각 문자의 의미는 다음과 같습니다.\n",
    "- L : 왼쪽으로 한칸 이동\n",
    "- R : 오른쪽으로 한칸 이동\n",
    "- U : 위로 한칸 이동\n",
    "- D : 아래로 한칸 이동\n",
    "\n",
    "\n",
    "- 문제 : 여행가 A가 최종적으로 도착할 지점의 좌표 (X, Y)를 공백을 기준으로 구분하여 출력"
   ]
  },
  {
   "cell_type": "code",
   "execution_count": 4,
   "metadata": {},
   "outputs": [],
   "source": [
    "input = 5\n",
    "plan = ['R', 'R', 'R', 'U', 'D', 'D']\n",
    "output = 3, 4"
   ]
  },
  {
   "cell_type": "code",
   "execution_count": null,
   "metadata": {},
   "outputs": [],
   "source": [
    "from collections import deque\n",
    "def UDLR(input, plan):\n",
    "    result = 0\n",
    "    row = col = input\n",
    "    \n",
    "    memo = [[0]*(col) for i in range(row)]\n",
    "    for i in range(1, row+1):\n",
    "        for j in range(1, col+1):\n",
    "            memo[i-1][j-1] = (i,j)\n",
    "    dx = [-1 , 1, 0, 0]\n",
    "    dy = [0, 0, 1, -1]\n",
    "    q = deque()\n",
    "    q.append(plan)\n",
    "    while q:\n",
    "        current_node = memo[0][0]\n",
    "        next = q.popleft()\n",
    "\n",
    "        if next == 'R':\n",
    "            \n",
    "            \n",
    "        \n",
    "\n",
    "    return result"
   ]
  },
  {
   "cell_type": "code",
   "execution_count": 5,
   "metadata": {},
   "outputs": [],
   "source": [
    "# 해결방식\n",
    "def UDLR(input, plan):\n",
    "    result = 0\n",
    "    row = col = input\n",
    "    x, y = 1,1\n",
    "    dx = [-1 , 1, 0, 0]\n",
    "    dy = [0, 0, 1, -1]\n",
    "    move_types = ['U', 'D', 'R', 'L']\n",
    "    for plan in plan:\n",
    "        for i in range(len(move_types)):\n",
    "            if plan == move_types[i]:\n",
    "                nx = x + dx[i]\n",
    "                ny = y + dy[i]\n",
    "        # 공간을 벗어나는 경우\n",
    "        if nx < 1 or ny <1 or nx > input or ny > input:\n",
    "            continue # 무시\n",
    "        x, y = nx, ny\n",
    "            \n",
    "    result = x, y\n",
    "    return result\n"
   ]
  },
  {
   "cell_type": "code",
   "execution_count": 6,
   "metadata": {},
   "outputs": [
    {
     "data": {
      "text/plain": [
       "(3, 4)"
      ]
     },
     "execution_count": 6,
     "metadata": {},
     "output_type": "execute_result"
    }
   ],
   "source": [
    "UDLR(input, plan)"
   ]
  },
  {
   "cell_type": "code",
   "execution_count": 7,
   "metadata": {},
   "outputs": [],
   "source": [
    "def 상하좌우(input, plan):\n",
    "    result = 0\n",
    "    col = row = input\n",
    "    x, y = 1, 1\n",
    "    for plan in plan:\n",
    "        dx = [-1, 1, 0, 0]\n",
    "        dy = [0, 0, 1, -1]\n",
    "        move = ['U', 'D' ,'R', 'L']\n",
    "\n",
    "        for i in range(len(move)):\n",
    "            if plan == move[i]:\n",
    "                next_x = x + dx[i]\n",
    "                next_y = y + dy[i]\n",
    "\n",
    "        if next_x < 1 or next_x > col or next_y < 1 or next_y > row:\n",
    "            continue\n",
    "        x, y = next_x, next_y\n",
    "    result = x, y\n",
    "    return result"
   ]
  },
  {
   "cell_type": "code",
   "execution_count": 8,
   "metadata": {},
   "outputs": [
    {
     "data": {
      "text/plain": [
       "(3, 4)"
      ]
     },
     "execution_count": 8,
     "metadata": {},
     "output_type": "execute_result"
    }
   ],
   "source": [
    "상하좌우(input, plan)"
   ]
  },
  {
   "cell_type": "code",
   "execution_count": null,
   "metadata": {},
   "outputs": [],
   "source": [
    "def 상하좌우(input, plan):\n",
    "    result = 0\n",
    "    x, y = 1,1\n",
    "    for plan in plan:\n",
    "        dx = [1, -1, 0, 0]\n",
    "        dy = [0, 0, 1, -1]\n",
    "        move = ['D', 'U', 'R', 'L']\n",
    "        for i in range(len(move)):\n",
    "            if plan == move[i]:\n",
    "                next_x = x+dx[i]\n",
    "                next_y = y+dy[i]\n",
    "        if next_x < 1 or next_x > input or next_y < 1 or next_y > input:\n",
    "            continue\n",
    "        x, y = next_x, next_y\n",
    "    result = x, y\n",
    "    return result"
   ]
  },
  {
   "cell_type": "code",
   "execution_count": null,
   "metadata": {},
   "outputs": [],
   "source": [
    "상하좌우(input, plan)"
   ]
  },
  {
   "cell_type": "code",
   "execution_count": null,
   "metadata": {},
   "outputs": [],
   "source": [
    "input = 5\n",
    "plan = ['R', 'R', 'R', 'U', 'D', 'D']\n",
    "output = 3, 4\n",
    "상하좌우(input, plan)"
   ]
  },
  {
   "attachments": {},
   "cell_type": "markdown",
   "metadata": {},
   "source": [
    "### 문3. 시각\n",
    "\n",
    "> 문제 설명\n",
    "\n",
    "- 정수 N이 입력되면 00시 00분 00초부터 N시 59분 59초까지 모든 시각 중에서 3이 하나라도 포함되는 모든 경우의 수를 구하는 코드를 작성하시오.\n",
    "- 예를 들어 1을 입력했을 때, 다음은 3이 하나라도 포함되어 세는 시각입니다.\n",
    "##### 00시 00분 03초\n",
    "##### 00시 13분 30초\n",
    "\n",
    "- 반면, 다음은 3이 하나도 포함되지 않아 세지 않는 시각입니다.\n",
    "##### 00시 25분 05초\n",
    "##### 00시 27분 45초\n",
    "\n",
    "- 제한조건\n",
    "> 0 <= N <= 23"
   ]
  },
  {
   "cell_type": "code",
   "execution_count": 9,
   "metadata": {},
   "outputs": [],
   "source": [
    "N = 5\n",
    "output = 11475"
   ]
  },
  {
   "cell_type": "code",
   "execution_count": 10,
   "metadata": {},
   "outputs": [
    {
     "data": {
      "text/plain": [
       "150"
      ]
     },
     "execution_count": 10,
     "metadata": {},
     "output_type": "execute_result"
    }
   ],
   "source": [
    "# 05시 59분 59초... \n",
    "# 내 풀이\n",
    "def time(N):\n",
    "    count = 0\n",
    "    memo = 0\n",
    "    minute = []\n",
    "    seconds = []\n",
    "    for i in range(1,60):\n",
    "        minute.append(str(i))\n",
    "        seconds.append(str(i))\n",
    "    for _ in range(1, N):    \n",
    "        for i in minute:\n",
    "            if str(N) in i:\n",
    "                count += 1\n",
    "        memo += count\n",
    "        for i in minute:\n",
    "            if str(N) in i:\n",
    "                count += 1\n",
    "        memo += count\n",
    "    return memo\n",
    "time(3)"
   ]
  },
  {
   "cell_type": "code",
   "execution_count": 28,
   "metadata": {},
   "outputs": [],
   "source": [
    "# 해결 방식 \n",
    "# Brute forcing 문제\n",
    "# 시간복잡도는 n이 고정되어 있으므로 O(n)임\n",
    "def time(N):\n",
    "    hour = 0\n",
    "    count=0\n",
    "    while hour <= N:\n",
    "        for i in range(60):\n",
    "            for j in range(60):\n",
    "                if str(N) in str(i) + str(j) + str(hour):\n",
    "                    count+=1\n",
    "        hour += 1\n",
    "    return count"
   ]
  },
  {
   "cell_type": "code",
   "execution_count": 58,
   "metadata": {},
   "outputs": [],
   "source": [
    "# 다시\n",
    "def time_count(N):\n",
    "    count = 0\n",
    "    hour = 0\n",
    "    while hour <= N:        \n",
    "        for i in range(0, 60):\n",
    "            for j in range(0, 60):\n",
    "                if str(N) in str(i) + str(j) + str(hour):\n",
    "                    count += 1\n",
    "        hour += 1\n",
    "    \n",
    "    return count"
   ]
  },
  {
   "cell_type": "code",
   "execution_count": 61,
   "metadata": {},
   "outputs": [
    {
     "data": {
      "text/plain": [
       "11475"
      ]
     },
     "execution_count": 61,
     "metadata": {},
     "output_type": "execute_result"
    }
   ],
   "source": [
    "time_count(5)"
   ]
  },
  {
   "attachments": {},
   "cell_type": "markdown",
   "metadata": {},
   "source": [
    "### 문4. 왕실의 나이트\n",
    "\n",
    "> 문제 설명\n",
    "\n",
    "- 첫째줄에 8 x 8 평면상에서 현재 나이트가 위치한 곳의 좌표를 나타내는 두 문자로 구성된 문자열이 입력된다. 입력 문자는 a1처럼 열과 행으로 이뤄진다.\n",
    "\n",
    "- 첫째줄에 나이트가 이동할 수 있는 경우의 수를 출력하시오\n",
    "\n",
    "- 제한조건\n",
    "> 딱히 없음."
   ]
  },
  {
   "cell_type": "code",
   "execution_count": 106,
   "metadata": {},
   "outputs": [],
   "source": [
    "input = 'a1'\n",
    "output = 2"
   ]
  },
  {
   "attachments": {
    "image.png": {
     "image/png": "[encoded data removed]"
    }
   },
   "cell_type": "markdown",
   "metadata": {},
   "source": [
    "![image.png](attachment:image.png)"
   ]
  },
  {
   "cell_type": "code",
   "execution_count": 18,
   "metadata": {},
   "outputs": [
    {
     "data": {
      "text/plain": [
       "8"
      ]
     },
     "execution_count": 18,
     "metadata": {},
     "output_type": "execute_result"
    }
   ],
   "source": [
    "# 내풀이\n",
    "def kindom_knight(input):\n",
    "    memo = {}\n",
    "    count = 0\n",
    "    dx = dy = 0\n",
    "    memo[(dx,dy)] = [(1, 2), (-1, 2), (-2, 1), (-2, -1), \n",
    "                    (-1, -2), (1, -2), (2, -1), (2, 1)]\n",
    "    alphabet = list(input)[0]\n",
    "    x = ord(alphabet) - 96\n",
    "    y = int(list(input)[1])\n",
    "    for nx, ny in memo[(dx, dy)]:\n",
    "        next_x = x + nx\n",
    "        next_y = y + ny\n",
    "        if next_x > 0 and next_x < 9 and next_y > 0 and next_y < 9:\n",
    "            count += 1\n",
    "    return int(count)\n",
    "kindom_knight('c3')"
   ]
  },
  {
   "cell_type": "code",
   "execution_count": 127,
   "metadata": {},
   "outputs": [
    {
     "data": {
      "text/plain": [
       "16"
      ]
     },
     "execution_count": 127,
     "metadata": {},
     "output_type": "execute_result"
    }
   ],
   "source": [
    "kindom_knight(input)"
   ]
  },
  {
   "cell_type": "code",
   "execution_count": 125,
   "metadata": {},
   "outputs": [
    {
     "data": {
      "text/plain": [
       "16"
      ]
     },
     "execution_count": 125,
     "metadata": {},
     "output_type": "execute_result"
    }
   ],
   "source": [
    "memo = {}\n",
    "count = 0\n",
    "dx = dy = 0\n",
    "memo[(dx,dy)] = [(1, 2), (-1, 2), (-2, 1), (-2, -1), \n",
    "                   (-1, -2), (1, -2), (2, -1), (2, 1)]\n",
    "alphabet = list(input)[0]\n",
    "x = ord(alphabet) - 96\n",
    "y = int(list(input)[1])\n",
    "for i in range(len(memo[(dx, dy)])):\n",
    "    for nx, ny in memo[(dx, dy)]:\n",
    "        next_x = x + nx\n",
    "        next_y = y + ny\n",
    "        if next_x > 0 and next_x < 9 and next_y > 0 and next_y < 9:\n",
    "            count += 1\n",
    "count"
   ]
  },
  {
   "cell_type": "code",
   "execution_count": 14,
   "metadata": {},
   "outputs": [
    {
     "data": {
      "text/plain": [
       "8"
      ]
     },
     "execution_count": 14,
     "metadata": {},
     "output_type": "execute_result"
    }
   ],
   "source": [
    "input_data = input()\n",
    "def knight(input_data):\n",
    "        row = int(input_data[1])\n",
    "        col = int(ord(input_data[0])) - int(ord('a'))+1\n",
    "        memo = [(-2, -1), (-1, -2), (-2, 1), (-1, 2), (2, -1), (1, -2),\n",
    "                (2, 1), (1, 2)]\n",
    "        result = 0\n",
    "        for num1, num2 in memo:\n",
    "                next_row = row + num1\n",
    "                next_col = col + num2\n",
    "                if next_row > 0 and next_row < 9 and next_col > 0 and next_col < 9:\n",
    "                        result+=1\n",
    "        return result\n",
    "knight(input_data)"
   ]
  },
  {
   "attachments": {},
   "cell_type": "markdown",
   "metadata": {},
   "source": [
    "### 문5. 문자열 재정렬\n",
    "\n",
    "> 문제 설명\n",
    "\n",
    "- 알파벳 대문자와 숫자(0~9)로만 구성된 문자열이 입력으로 주어집니다. 이때 모든 알파벳을 오름차순으로 정렬하여 이어서 출력한 뒤에, 그 뒤에 모든 숫자를 더한 값을 이어서 출력합니다.\n",
    "\n",
    "- \n",
    "\n",
    "- 제한조건\n",
    "> 딱히 없음."
   ]
  },
  {
   "cell_type": "code",
   "execution_count": 1,
   "metadata": {},
   "outputs": [],
   "source": [
    "test = 'K1KA5CB7'\n",
    "output = 'ABCKK13'\n",
    "import time"
   ]
  },
  {
   "cell_type": "code",
   "execution_count": 7,
   "metadata": {},
   "outputs": [
    {
     "name": "stdout",
     "output_type": "stream",
     "text": [
      "time : 0.0\n"
     ]
    }
   ],
   "source": [
    "O = input()\n",
    "t = time.time()\n",
    "import heapq\n",
    "heap_str = []\n",
    "heap_int = []\n",
    "for i in O:\n",
    "    if ord(i) > 64:\n",
    "        heap_str.append(i)\n",
    "    else:\n",
    "        heap_int.append(int(i))\n",
    "heapq.heapify(heap_str)\n",
    "heap_str\n",
    "result = []\n",
    "for i in range(len(heap_str)):\n",
    "    p = heapq.heappop(heap_str)\n",
    "    result.append(p)\n",
    "result.append(str(sum(heap_int)))\n",
    "\"\".join(result)\n",
    "print(\"time :\", time.time() - t)  "
   ]
  },
  {
   "cell_type": "code",
   "execution_count": 6,
   "metadata": {},
   "outputs": [
    {
     "name": "stdout",
     "output_type": "stream",
     "text": [
      "ABCKK13 time : 0.7408819198608398\n"
     ]
    }
   ],
   "source": [
    "# 내 풀이\n",
    "t = time.time()\n",
    "text = input()\n",
    "import heapq\n",
    "def str_sort(input):\n",
    "    result = []\n",
    "    heap_str = []\n",
    "    heap_int = []\n",
    "    for i in input:\n",
    "        if ord(i) > 64:\n",
    "            heap_str.append(i)\n",
    "        else:\n",
    "            heap_int.append(int(i))\n",
    "    heapq.heapify(heap_str)\n",
    "    for i in range(len(heap_str)):\n",
    "        p = heapq.heappop(heap_str)\n",
    "        result.append(p)\n",
    "    result.append(str(sum(heap_int)))\n",
    "    result = \"\".join(result)\n",
    "    return result\n",
    "print(str_sort(text), \"time :\", time.time() - t)"
   ]
  },
  {
   "cell_type": "code",
   "execution_count": 5,
   "metadata": {},
   "outputs": [
    {
     "name": "stdout",
     "output_type": "stream",
     "text": [
      "AKKCB13 time : 0.5310359001159668\n"
     ]
    }
   ],
   "source": [
    "# 해결방식 1\n",
    "import heapq\n",
    "t = time.time()\n",
    "data = input()\n",
    "result = []\n",
    "value = 0\n",
    "for x in data:\n",
    "    if x.isalpha():\n",
    "        result.append(x)\n",
    "    else:\n",
    "        value += int(x)\n",
    "for i in range(len(result)):\n",
    "    p = heapq.heappop(result)\n",
    "    result.append(p)\n",
    "if value != 0:\n",
    "    result.append(str(value))\n",
    "k = time.time() -t\n",
    "print(\"\".join(result), \"time :\",k)  "
   ]
  },
  {
   "attachments": {},
   "cell_type": "markdown",
   "metadata": {},
   "source": [
    "#### 백준 2444\n",
    "\n",
    "별 찍기 -7\n",
    "https://www.acmicpc.net/problem/2444\n"
   ]
  },
  {
   "cell_type": "code",
   "execution_count": 5,
   "metadata": {},
   "outputs": [
    {
     "name": "stdout",
     "output_type": "stream",
     "text": [
      "          *\n",
      "         ***\n",
      "        *****\n",
      "       *******\n",
      "      *********\n",
      "       *******\n",
      "        *****\n",
      "         ***\n",
      "          *\n"
     ]
    }
   ],
   "source": [
    "n = int(input())\n",
    "m = (n*2) -1\n",
    "count = n\n",
    "blank = \" \"\n",
    "star = \"*\"\n",
    "print((count-1)* blank, star)\n",
    "print((count-2)* blank, star*3)\n",
    "print((count-3)* blank, star*5)\n",
    "print((count-4)* blank, star*7)\n",
    "print((count-5)* blank, star*9)\n",
    "print((count-4)* blank, star*7)\n",
    "print((count-3)* blank, star*5)\n",
    "print((count-2)* blank, star*3)\n",
    "print((count-1)* blank, star)"
   ]
  },
  {
   "cell_type": "code",
   "execution_count": 2,
   "metadata": {},
   "outputs": [
    {
     "name": "stdout",
     "output_type": "stream",
     "text": [
      "10\n",
      "9\n",
      "8\n",
      "7\n",
      "6\n",
      "5\n",
      "4\n",
      "3\n",
      "2\n",
      "1\n"
     ]
    }
   ],
   "source": [
    "for j in range(10, 0, -1):\n",
    "    print(j)"
   ]
  },
  {
   "cell_type": "code",
   "execution_count": 9,
   "metadata": {},
   "outputs": [
    {
     "name": "stdout",
     "output_type": "stream",
     "text": [
      "     *\n",
      "    ***\n",
      "   *****\n",
      "  *******\n",
      " *********\n",
      "***********\n",
      " *********\n",
      "  *******\n",
      "   *****\n",
      "    ***\n",
      "     *\n"
     ]
    }
   ],
   "source": [
    "# 내 풀이법\n",
    "n = int(input())\n",
    "m = (n*2) -1\n",
    "count = 0\n",
    "blank = \" \"\n",
    "star = \"*\"\n",
    "a = [i for i in range(1, n+1)]\n",
    "b = [i for i in range(n-1, 0, -1)]\n",
    "c = a+b\n",
    "d = [i for i in range(1, m+1, 2)]\n",
    "e= [i for i in range(m-2, 0, -2)]\n",
    "f = d+e\n",
    "def solution(a,b,c,d,e,f):\n",
    "    result = []\n",
    "    for i in range(len(c)):\n",
    "        memo = c.pop()\n",
    "        temp = f.pop()\n",
    "        k = (n-memo)*blank+ (temp*star)\n",
    "        print(k.rstrip())\n",
    "solution(a,b,c,d,e,f)"
   ]
  },
  {
   "cell_type": "code",
   "execution_count": null,
   "metadata": {},
   "outputs": [],
   "source": [
    "c = a+b\n",
    "d = [i for i in range(1, m+1, 2)]\n",
    "e= [i for i in range(m-2, 0, -2)]\n",
    "d+e"
   ]
  },
  {
   "attachments": {},
   "cell_type": "markdown",
   "metadata": {},
   "source": [
    "#### We love kriii 문제\n",
    "\n",
    "https://www.acmicpc.net/problem/10718\n",
    "\n",
    "백준 10718번"
   ]
  },
  {
   "cell_type": "code",
   "execution_count": 15,
   "metadata": {},
   "outputs": [
    {
     "name": "stdout",
     "output_type": "stream",
     "text": [
      "강한친구 대한육군 \n",
      "강한친구 대한육군\n"
     ]
    }
   ],
   "source": [
    "print(\"강한친구 대한육군 \\n강한친구 대한육군\")"
   ]
  },
  {
   "attachments": {},
   "cell_type": "markdown",
   "metadata": {},
   "source": [
    "#### 숫자의 개수 문제\n",
    "\n",
    "https://www.acmicpc.net/problem/2577\n",
    "\n",
    "백준 2577"
   ]
  },
  {
   "cell_type": "code",
   "execution_count": 39,
   "metadata": {},
   "outputs": [
    {
     "name": "stdout",
     "output_type": "stream",
     "text": [
      "3\n",
      "1\n",
      "0\n",
      "2\n",
      "0\n",
      "0\n",
      "0\n",
      "2\n",
      "0\n",
      "0\n"
     ]
    }
   ],
   "source": [
    "A = int(input())\n",
    "B = int(input())\n",
    "C = int(input())\n",
    "def solution(A,B,C):\n",
    "    D = [i for i in range(10)]\n",
    "    E = A*B*C\n",
    "    e = list(str(E))\n",
    "    for j in D:\n",
    "        count = 0\n",
    "        for i in e:\n",
    "            if i == str(j):\n",
    "                count+=1\n",
    "        print(count)\n",
    "solution(A,B,C)"
   ]
  },
  {
   "cell_type": "code",
   "execution_count": 36,
   "metadata": {},
   "outputs": [
    {
     "name": "stdout",
     "output_type": "stream",
     "text": [
      "0\n",
      "0\n",
      "0\n"
     ]
    }
   ],
   "source": [
    "e = str(E)\n",
    "e = list(e)\n",
    "for i in e:\n",
    "    if i == '0':\n",
    "        print(i)"
   ]
  },
  {
   "cell_type": "code",
   "execution_count": 35,
   "metadata": {},
   "outputs": [
    {
     "data": {
      "text/plain": [
       "['1', '7', '0', '3', '7', '3', '0', '0']"
      ]
     },
     "execution_count": 35,
     "metadata": {},
     "output_type": "execute_result"
    }
   ],
   "source": [
    "list(str(E))"
   ]
  },
  {
   "cell_type": "code",
   "execution_count": null,
   "metadata": {},
   "outputs": [],
   "source": []
  }
 ],
 "metadata": {
  "kernelspec": {
   "display_name": "py3_8_5",
   "language": "python",
   "name": "py3_8_5"
  },
  "language_info": {
   "codemirror_mode": {
    "name": "ipython",
    "version": 3
   },
   "file_extension": ".py",
   "mimetype": "text/x-python",
   "name": "python",
   "nbconvert_exporter": "python",
   "pygments_lexer": "ipython3",
   "version": "3.10.8"
  },
  "orig_nbformat": 4
 },
 "nbformat": 4,
 "nbformat_minor": 2
}
