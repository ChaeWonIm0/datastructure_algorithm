{
 "cells": [
  {
   "attachments": {},
   "cell_type": "markdown",
   "metadata": {},
   "source": [
    "### 문1. 상하좌우\n",
    "\n",
    "> 문제 설명\n",
    "\n",
    "- 여행가 A는 N x N크기의 정사각형 공간 위에 서있습니다. 이 공간은 1 X 1 크기의 정사각형으로 나누어져 있습니다. 가장 왼쪽 위 좌표는 (1,1)이며, 가장 오른쪽 아래 좌표는 (N , N)에 해당합니다. 여행가 A는 상, 하, 좌, 우 방향으로 이동할 수 있으며, 시작 좌표는 항상 (1,1) 입니다. 우리 앞에는 여행가 A가 이동할 계획이 적힌 계획서가 놓여 있습니다.\n",
    "이때 여행가 A가 N x N 크기의 정사각형 공간을 벗어나는 움직임은 무시됩니다.\n",
    "- 계획서에는 하나의 줄에 띄어쓰기를 기준으로 하여, L, R, U, D중 하나의 문자가 반복적으로 적혀 있습니다. 각 문자의 의미는 다음과 같습니다.\n",
    "- L : 왼쪽으로 한칸 이동\n",
    "- R : 오른쪽으로 한칸 이동\n",
    "- U : 위로 한칸 이동\n",
    "- D : 아래로 한칸 이동\n",
    "\n",
    "\n",
    "- 문제 : 여행가 A가 최종적으로 도착할 지점의 좌표 (X, Y)를 공백을 기준으로 구분하여 출력"
   ]
  },
  {
   "cell_type": "code",
   "execution_count": 4,
   "metadata": {},
   "outputs": [],
   "source": [
    "input = 5\n",
    "plan = ['R', 'R', 'R', 'U', 'D', 'D']\n",
    "output = 3, 4"
   ]
  },
  {
   "cell_type": "code",
   "execution_count": null,
   "metadata": {},
   "outputs": [],
   "source": [
    "from collections import deque\n",
    "def UDLR(input, plan):\n",
    "    result = 0\n",
    "    row = col = input\n",
    "    \n",
    "    memo = [[0]*(col) for i in range(row)]\n",
    "    for i in range(1, row+1):\n",
    "        for j in range(1, col+1):\n",
    "            memo[i-1][j-1] = (i,j)\n",
    "    dx = [-1 , 1, 0, 0]\n",
    "    dy = [0, 0, 1, -1]\n",
    "    q = deque()\n",
    "    q.append(plan)\n",
    "    while q:\n",
    "        current_node = memo[0][0]\n",
    "        next = q.popleft()\n",
    "\n",
    "        if next == 'R':\n",
    "            \n",
    "            \n",
    "        \n",
    "\n",
    "    return result"
   ]
  },
  {
   "cell_type": "code",
   "execution_count": 5,
   "metadata": {},
   "outputs": [],
   "source": [
    "# 해결방식\n",
    "def UDLR(input, plan):\n",
    "    result = 0\n",
    "    row = col = input\n",
    "    x, y = 1,1\n",
    "    dx = [-1 , 1, 0, 0]\n",
    "    dy = [0, 0, 1, -1]\n",
    "    move_types = ['U', 'D', 'R', 'L']\n",
    "    for plan in plan:\n",
    "        for i in range(len(move_types)):\n",
    "            if plan == move_types[i]:\n",
    "                nx = x + dx[i]\n",
    "                ny = y + dy[i]\n",
    "        # 공간을 벗어나는 경우\n",
    "        if nx < 1 or ny <1 or nx > input or ny > input:\n",
    "            continue # 무시\n",
    "        x, y = nx, ny\n",
    "            \n",
    "    result = x, y\n",
    "    return result\n"
   ]
  },
  {
   "cell_type": "code",
   "execution_count": 6,
   "metadata": {},
   "outputs": [
    {
     "data": {
      "text/plain": [
       "(3, 4)"
      ]
     },
     "execution_count": 6,
     "metadata": {},
     "output_type": "execute_result"
    }
   ],
   "source": [
    "UDLR(input, plan)"
   ]
  },
  {
   "cell_type": "code",
   "execution_count": 7,
   "metadata": {},
   "outputs": [],
   "source": [
    "def 상하좌우(input, plan):\n",
    "    result = 0\n",
    "    col = row = input\n",
    "    x, y = 1, 1\n",
    "    for plan in plan:\n",
    "        dx = [-1, 1, 0, 0]\n",
    "        dy = [0, 0, 1, -1]\n",
    "        move = ['U', 'D' ,'R', 'L']\n",
    "\n",
    "        for i in range(len(move)):\n",
    "            if plan == move[i]:\n",
    "                next_x = x + dx[i]\n",
    "                next_y = y + dy[i]\n",
    "\n",
    "        if next_x < 1 or next_x > col or next_y < 1 or next_y > row:\n",
    "            continue\n",
    "        x, y = next_x, next_y\n",
    "    result = x, y\n",
    "    return result"
   ]
  },
  {
   "cell_type": "code",
   "execution_count": 8,
   "metadata": {},
   "outputs": [
    {
     "data": {
      "text/plain": [
       "(3, 4)"
      ]
     },
     "execution_count": 8,
     "metadata": {},
     "output_type": "execute_result"
    }
   ],
   "source": [
    "상하좌우(input, plan)"
   ]
  },
  {
   "cell_type": "code",
   "execution_count": null,
   "metadata": {},
   "outputs": [],
   "source": [
    "def 상하좌우(input, plan):\n",
    "    result = 0\n",
    "    x, y = 1,1\n",
    "    for plan in plan:\n",
    "        dx = [1, -1, 0, 0]\n",
    "        dy = [0, 0, 1, -1]\n",
    "        move = ['D', 'U', 'R', 'L']\n",
    "        for i in range(len(move)):\n",
    "            if plan == move[i]:\n",
    "                next_x = x+dx[i]\n",
    "                next_y = y+dy[i]\n",
    "        if next_x < 1 or next_x > input or next_y < 1 or next_y > input:\n",
    "            continue\n",
    "        x, y = next_x, next_y\n",
    "    result = x, y\n",
    "    return result"
   ]
  },
  {
   "cell_type": "code",
   "execution_count": null,
   "metadata": {},
   "outputs": [],
   "source": [
    "상하좌우(input, plan)"
   ]
  },
  {
   "cell_type": "code",
   "execution_count": null,
   "metadata": {},
   "outputs": [],
   "source": [
    "input = 5\n",
    "plan = ['R', 'R', 'R', 'U', 'D', 'D']\n",
    "output = 3, 4\n",
    "상하좌우(input, plan)"
   ]
  },
  {
   "attachments": {},
   "cell_type": "markdown",
   "metadata": {},
   "source": [
    "### 문3. 시각\n",
    "\n",
    "> 문제 설명\n",
    "\n",
    "- 정수 N이 입력되면 00시 00분 00초부터 N시 59분 59초까지 모든 시각 중에서 3이 하나라도 포함되는 모든 경우의 수를 구하는 코드를 작성하시오.\n",
    "- 예를 들어 1을 입력했을 때, 다음은 3이 하나라도 포함되어 세는 시각입니다.\n",
    "##### 00시 00분 03초\n",
    "##### 00시 13분 30초\n",
    "\n",
    "- 반면, 다음은 3이 하나도 포함되지 않아 세지 않는 시각입니다.\n",
    "##### 00시 25분 05초\n",
    "##### 00시 27분 45초\n",
    "\n",
    "- 제한조건\n",
    "> 0 <= N <= 23"
   ]
  },
  {
   "cell_type": "code",
   "execution_count": 9,
   "metadata": {},
   "outputs": [],
   "source": [
    "N = 5\n",
    "output = 11475"
   ]
  },
  {
   "cell_type": "code",
   "execution_count": 10,
   "metadata": {},
   "outputs": [
    {
     "data": {
      "text/plain": [
       "150"
      ]
     },
     "execution_count": 10,
     "metadata": {},
     "output_type": "execute_result"
    }
   ],
   "source": [
    "# 05시 59분 59초... \n",
    "# 내 풀이\n",
    "def time(N):\n",
    "    count = 0\n",
    "    memo = 0\n",
    "    minute = []\n",
    "    seconds = []\n",
    "    for i in range(1,60):\n",
    "        minute.append(str(i))\n",
    "        seconds.append(str(i))\n",
    "    for _ in range(1, N):    \n",
    "        for i in minute:\n",
    "            if str(N) in i:\n",
    "                count += 1\n",
    "        memo += count\n",
    "        for i in minute:\n",
    "            if str(N) in i:\n",
    "                count += 1\n",
    "        memo += count\n",
    "    return memo\n",
    "time(3)"
   ]
  },
  {
   "cell_type": "code",
   "execution_count": null,
   "metadata": {},
   "outputs": [],
   "source": []
  }
 ],
 "metadata": {
  "kernelspec": {
   "display_name": "Python 3",
   "language": "python",
   "name": "python3"
  },
  "language_info": {
   "codemirror_mode": {
    "name": "ipython",
    "version": 3
   },
   "file_extension": ".py",
   "mimetype": "text/x-python",
   "name": "python",
   "nbconvert_exporter": "python",
   "pygments_lexer": "ipython3",
   "version": "3.10.11"
  },
  "orig_nbformat": 4
 },
 "nbformat": 4,
 "nbformat_minor": 2
}
