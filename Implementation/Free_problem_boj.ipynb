{
 "cells": [
  {
   "attachments": {},
   "cell_type": "markdown",
   "metadata": {},
   "source": [
    "> 문제 : 체육은 코딩과목 입니다\n",
    "\n",
    "https://www.acmicpc.net/problem/28295"
   ]
  },
  {
   "cell_type": "code",
   "execution_count": 7,
   "metadata": {},
   "outputs": [
    {
     "name": "stdout",
     "output_type": "stream",
     "text": [
      "W\n"
     ]
    }
   ],
   "source": [
    "dy = [1,2,3]\n",
    "dz = [+1, +2, -1]\n",
    "result = 'N'\n",
    "dx = ['N', 'E', 'S' ,'W'] * 20\n",
    "memo = []\n",
    "current_v = 0\n",
    "for j in range(10):\n",
    "    num = int(input())\n",
    "    memo.append(dz[num-1])\n",
    "for direction in memo:\n",
    "    if len(memo) > 0:\n",
    "        result = dx[current_v + direction]\n",
    "        current_v = current_v + direction\n",
    "        if current_v > 3:\n",
    "            current_v -= 4\n",
    "    else:\n",
    "        break\n",
    "print(result)"
   ]
  },
  {
   "cell_type": "code",
   "execution_count": 8,
   "metadata": {},
   "outputs": [
    {
     "name": "stdout",
     "output_type": "stream",
     "text": [
      "N\n"
     ]
    }
   ],
   "source": [
    "k = 'N'\n",
    "n = 10\n",
    "memo = []\n",
    "def solution(n):\n",
    "    current_v = 1\n",
    "    dx = ['N', 'E', 'W' ,'S']*15\n",
    "    dy = [1,2,3]\n",
    "    dz = [+1, +2, -1]\n",
    "    current_node = []\n",
    "    for j in range(10):\n",
    "        num = int(input())\n",
    "        memo.append(dz[num-1])\n",
    "    for direction in memo:\n",
    "        if len(memo) > 0:\n",
    "            result = dx[current_v + direction]\n",
    "            current_v = current_v + direction\n",
    "            if current_v > 3:\n",
    "                current_v -= 4\n",
    "        else:\n",
    "            break\n",
    "    return print(result)\n",
    "solution(10)"
   ]
  },
  {
   "cell_type": "code",
   "execution_count": null,
   "metadata": {},
   "outputs": [
    {
     "name": "stdout",
     "output_type": "stream",
     "text": [
      "E\n",
      "S\n",
      "W\n",
      "E\n",
      "S\n",
      "W\n",
      "E\n",
      "S\n",
      "W\n",
      "E\n"
     ]
    }
   ],
   "source": [
    "from collections import deque\n",
    "current_node = deque([1,2,3,1,2,3,1,2,3,1])\n",
    "a = 0\n",
    "for i in current_node:\n",
    "    node = current_node.pop()\n",
    "    while current_node:"
   ]
  }
 ],
 "metadata": {
  "kernelspec": {
   "display_name": "py3_8_5",
   "language": "python",
   "name": "py3_8_5"
  },
  "language_info": {
   "codemirror_mode": {
    "name": "ipython",
    "version": 3
   },
   "file_extension": ".py",
   "mimetype": "text/x-python",
   "name": "python",
   "nbconvert_exporter": "python",
   "pygments_lexer": "ipython3",
   "version": "3.10.8"
  },
  "orig_nbformat": 4
 },
 "nbformat": 4,
 "nbformat_minor": 2
}
